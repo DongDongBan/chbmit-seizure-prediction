{
 "cells": [
  {
   "attachments": {},
   "cell_type": "markdown",
   "id": "876ad7b5",
   "metadata": {},
   "source": [
    "*Requested third-party library：numpy, pyedflib*"
   ]
  },
  {
   "cell_type": "code",
   "execution_count": 1,
   "id": "98a7eb32-c60a-4e72-80f3-840848e06e5f",
   "metadata": {},
   "outputs": [],
   "source": [
    "import json\n",
    "\n",
    "with open('raw_clean_mapping.json', 'r') as f:\n",
    "    mapping_dict = json.load(f)"
   ]
  },
  {
   "cell_type": "code",
   "execution_count": null,
   "id": "39f6a52d",
   "metadata": {},
   "outputs": [
    {
     "name": "stdout",
     "output_type": "stream",
     "text": [
      "{'dataset_path': '<path to your chb-mit directory> e.g ./physionet.org/files/chbmit/1.0.0/', 'clean_data_path': '<path to store clean & aligned dataset> e.g ./data_clean', 'label_output_path': '<path to store generated TOML files> e.g ./ref_labels', 'ignore_lst': ['chb16_18.edf', 'chb16_19.edf', 'chb17c_13.edf', 'chb18_01.edf', 'chb19_01.edf', 'chb11_01.edf', 'chb12_27.edf', 'chb12_28.edf', 'chb12_29.edf', 'chb09_01.edf', 'chb15_01.edf']}\n"
     ]
    }
   ],
   "source": [
    "import json\n",
    "with open(\"config.json\", \"rt\") as f:\n",
    "    config_obj = json.load(f)\n",
    "print(config_obj)\n",
    "globals().update(config_obj)"
   ]
  },
  {
   "cell_type": "code",
   "execution_count": 2,
   "id": "bc411b26-eb1d-460b-94f4-8c6746216715",
   "metadata": {},
   "outputs": [
    {
     "name": "stdout",
     "output_type": "stream",
     "text": [
      "chb01_01.edf chb01_02.edf chb01_03.edf chb01_04.edf chb01_05.edf chb01_06.edf chb01_07.edf chb01_08.edf chb01_09.edf chb01_10.edf chb01_11.edf chb01_12.edf chb01_13.edf chb01_14.edf chb01_15.edf chb01_16.edf chb01_17.edf chb01_18.edf chb01_19.edf chb01_20.edf chb01_21.edf chb01_22.edf chb01_23.edf chb01_24.edf chb01_25.edf chb01_26.edf chb01_27.edf chb01_29.edf chb01_30.edf chb01_31.edf chb01_32.edf chb01_33.edf chb01_34.edf chb01_36.edf chb01_37.edf chb01_38.edf chb01_39.edf chb01_40.edf chb01_41.edf chb01_42.edf chb01_43.edf chb01_46.edf chb02_01.edf chb02_02.edf chb02_03.edf chb02_04.edf chb02_05.edf chb02_06.edf chb02_07.edf chb02_08.edf chb02_09.edf chb02_10.edf chb02_11.edf chb02_12.edf chb02_13.edf chb02_14.edf chb02_15.edf chb02_16+.edf chb02_16.edf chb02_17.edf chb02_18.edf chb02_19.edf chb02_20.edf chb02_21.edf chb02_22.edf chb02_23.edf chb02_24.edf chb02_25.edf chb02_26.edf chb02_27.edf chb02_28.edf chb02_29.edf chb02_30.edf chb02_31.edf chb02_32.edf chb02_33.edf chb02_34.edf chb02_35.edf chb03_01.edf chb03_02.edf chb03_03.edf chb03_04.edf chb03_05.edf chb03_06.edf chb03_07.edf chb03_08.edf chb03_09.edf chb03_10.edf chb03_11.edf chb03_12.edf chb03_13.edf chb03_14.edf chb03_15.edf chb03_16.edf chb03_17.edf chb03_18.edf chb03_19.edf chb03_20.edf chb03_21.edf chb03_22.edf chb03_23.edf chb03_24.edf chb03_25.edf chb03_26.edf chb03_27.edf chb03_28.edf chb03_29.edf chb03_30.edf chb03_31.edf chb03_32.edf chb03_33.edf chb03_34.edf chb03_35.edf chb03_36.edf chb03_37.edf chb03_38.edf chb04_01.edf chb04_02.edf chb04_03.edf chb04_04.edf chb04_05.edf chb04_06.edf chb04_07.edf chb04_08.edf chb04_09.edf chb04_10.edf chb04_11.edf chb04_12.edf chb04_13.edf chb04_14.edf chb04_15.edf chb04_16.edf chb04_17.edf chb04_18.edf chb04_19.edf chb04_21.edf chb04_22.edf chb04_23.edf chb04_24.edf chb04_25.edf chb04_26.edf chb04_27.edf chb04_28.edf chb04_29.edf chb04_30.edf chb04_31.edf chb04_32.edf chb04_33.edf chb04_34.edf chb04_35.edf chb04_36.edf chb04_37.edf chb04_38.edf chb04_39.edf chb04_40.edf chb04_41.edf chb04_42.edf chb04_43.edf chb05_01.edf chb05_02.edf chb05_03.edf chb05_04.edf chb05_05.edf chb05_06.edf chb05_07.edf chb05_08.edf chb05_09.edf chb05_10.edf chb05_11.edf chb05_12.edf chb05_13.edf chb05_14.edf chb05_15.edf chb05_16.edf chb05_17.edf chb05_18.edf chb05_19.edf chb05_20.edf chb05_21.edf chb05_22.edf chb05_23.edf chb05_24.edf chb05_25.edf chb05_26.edf chb05_27.edf chb05_28.edf chb05_29.edf chb05_30.edf chb05_31.edf chb05_32.edf chb05_33.edf chb05_34.edf chb05_35.edf chb05_36.edf chb05_37.edf chb05_38.edf chb05_39.edf chb06_01.edf chb06_02.edf chb06_03.edf chb06_04.edf chb06_05.edf chb06_06.edf chb06_07.edf chb06_08.edf chb06_09.edf chb06_10.edf chb06_12.edf chb06_13.edf chb06_14.edf chb06_15.edf chb06_16.edf chb06_17.edf chb06_18.edf chb06_24.edf chb07_01.edf chb07_02.edf chb07_03.edf chb07_04.edf chb07_05.edf chb07_06.edf chb07_07.edf chb07_08.edf chb07_09.edf chb07_10.edf chb07_11.edf chb07_12.edf chb07_13.edf chb07_14.edf chb07_15.edf chb07_16.edf chb07_17.edf chb07_18.edf chb07_19.edf chb08_02.edf chb08_03.edf chb08_04.edf chb08_05.edf chb08_10.edf chb08_11.edf chb08_12.edf chb08_13.edf chb08_14.edf chb08_15.edf chb08_16.edf chb08_17.edf chb08_18.edf chb08_19.edf chb08_20.edf chb08_21.edf chb08_22.edf chb08_23.edf chb08_24.edf chb08_29.edf chb09_02.edf chb09_03.edf chb09_04.edf chb09_05.edf chb09_06.edf chb09_07.edf chb09_08.edf chb09_09.edf chb09_10.edf chb09_11.edf chb09_12.edf chb09_13.edf chb09_14.edf chb09_15.edf chb09_16.edf chb09_17.edf chb09_18.edf chb09_19.edf chb10_01.edf chb10_02.edf chb10_03.edf chb10_04.edf chb10_05.edf chb10_06.edf chb10_07.edf chb10_08.edf chb10_12.edf chb10_13.edf chb10_14.edf chb10_15.edf chb10_16.edf chb10_17.edf chb10_18.edf chb10_19.edf chb10_20.edf chb10_21.edf chb10_22.edf chb10_27.edf chb10_28.edf chb10_30.edf chb10_31.edf chb10_38.edf chb10_89.edf chb11_02.edf chb11_03.edf chb11_04.edf chb11_05.edf chb11_06.edf chb11_07.edf chb11_08.edf chb11_09.edf chb11_10.edf chb11_11.edf chb11_12.edf chb11_13.edf chb11_14.edf chb11_15.edf chb11_16.edf chb11_17.edf chb11_18.edf chb11_19.edf chb11_24.edf chb11_25.edf chb11_26.edf chb11_27.edf chb11_53.edf chb11_54.edf chb11_55.edf chb11_56.edf chb11_58.edf chb11_60.edf chb11_61.edf chb11_62.edf chb11_63.edf chb11_82.edf chb11_92.edf chb11_99.edf chb12_06.edf chb12_08.edf chb12_09.edf chb12_10.edf chb12_11.edf chb12_19.edf chb12_20.edf chb12_21.edf chb12_23.edf chb12_24.edf chb12_32.edf chb12_33.edf chb12_34.edf chb12_35.edf chb12_36.edf chb12_37.edf chb12_38.edf chb12_39.edf chb12_40.edf chb12_41.edf chb12_42.edf chb13_02.edf chb13_03.edf chb13_04.edf chb13_05.edf chb13_06.edf chb13_07.edf chb13_08.edf chb13_09.edf chb13_10.edf chb13_11.edf chb13_12.edf chb13_13.edf chb13_14.edf chb13_15.edf chb13_16.edf chb13_18.edf chb13_19.edf chb13_21.edf chb13_22.edf chb13_24.edf chb13_30.edf chb13_36.edf chb13_37.edf chb13_38.edf chb13_39.edf chb13_40.edf chb13_47.edf chb13_55.edf chb13_56.edf chb13_58.edf chb13_59.edf chb13_60.edf chb13_62.edf chb14_01.edf chb14_02.edf chb14_03.edf chb14_04.edf chb14_06.edf chb14_07.edf chb14_11.edf chb14_12.edf chb14_13.edf chb14_14.edf chb14_16.edf chb14_17.edf chb14_18.edf chb14_19.edf chb14_20.edf chb14_22.edf chb14_24.edf chb14_25.edf chb14_26.edf chb14_27.edf chb14_29.edf chb14_30.edf chb14_32.edf chb14_37.edf chb14_39.edf chb14_42.edf chb15_02.edf chb15_03.edf chb15_04.edf chb15_05.edf chb15_06.edf chb15_07.edf chb15_08.edf chb15_09.edf chb15_10.edf chb15_11.edf chb15_12.edf chb15_13.edf chb15_14.edf chb15_15.edf chb15_16.edf chb15_17.edf chb15_19.edf chb15_20.edf chb15_22.edf chb15_26.edf chb15_28.edf chb15_29.edf chb15_30.edf chb15_31.edf chb15_32.edf chb15_33.edf chb15_35.edf chb15_37.edf chb15_40.edf chb15_45.edf chb15_46.edf chb15_49.edf chb15_50.edf chb15_51.edf chb15_52.edf chb15_54.edf chb15_61.edf chb15_62.edf chb15_63.edf chb16_01.edf chb16_02.edf chb16_03.edf chb16_04.edf chb16_05.edf chb16_06.edf chb16_07.edf chb16_08.edf chb16_09.edf chb16_10.edf chb16_11.edf chb16_12.edf chb16_13.edf chb16_14.edf chb16_15.edf chb16_16.edf chb16_17.edf chb17a_03.edf chb17a_04.edf chb17a_05.edf chb17a_06.edf chb17a_08.edf chb17b_57.edf chb17b_58.edf chb17b_59.edf chb17b_60.edf chb17b_63.edf chb17b_67.edf chb17b_68.edf chb17b_69.edf chb17c_02.edf chb17c_03.edf chb17c_04.edf chb17c_05.edf chb17c_06.edf chb17c_07.edf chb17c_08.edf chb18_02.edf chb18_03.edf chb18_04.edf chb18_05.edf chb18_06.edf chb18_07.edf chb18_08.edf chb18_09.edf chb18_10.edf chb18_11.edf chb18_12.edf chb18_13.edf chb18_14.edf chb18_15.edf chb18_16.edf chb18_17.edf chb18_18.edf chb18_19.edf chb18_20.edf chb18_21.edf chb18_22.edf chb18_23.edf chb18_24.edf chb18_25.edf chb18_26.edf chb18_27.edf chb18_28.edf chb18_29.edf chb18_30.edf chb18_31.edf chb18_32.edf chb18_33.edf chb18_34.edf chb18_35.edf chb18_36.edf chb19_02.edf chb19_03.edf chb19_04.edf chb19_05.edf chb19_06.edf chb19_07.edf chb19_08.edf chb19_09.edf chb19_10.edf chb19_11.edf chb19_12.edf chb19_13.edf chb19_14.edf chb19_15.edf chb19_16.edf chb19_17.edf chb19_18.edf chb19_19.edf chb19_20.edf chb19_21.edf chb19_22.edf chb19_23.edf chb19_24.edf chb19_25.edf chb19_26.edf chb19_27.edf chb19_28.edf chb19_29.edf chb19_30.edf chb20_01.edf chb20_02.edf chb20_03.edf chb20_04.edf chb20_05.edf chb20_06.edf chb20_07.edf chb20_08.edf chb20_11.edf chb20_12.edf chb20_13.edf chb20_14.edf chb20_15.edf chb20_16.edf chb20_17.edf chb20_21.edf chb20_22.edf chb20_23.edf chb20_25.edf chb20_26.edf chb20_27.edf chb20_28.edf chb20_29.edf chb20_30.edf chb20_31.edf chb20_34.edf chb20_59.edf chb20_60.edf chb20_68.edf chb21_01.edf chb21_02.edf chb21_03.edf chb21_04.edf chb21_05.edf chb21_06.edf chb21_07.edf chb21_08.edf chb21_09.edf chb21_10.edf chb21_11.edf chb21_12.edf chb21_13.edf chb21_14.edf chb21_15.edf chb21_16.edf chb21_17.edf chb21_18.edf chb21_19.edf chb21_20.edf chb21_21.edf chb21_22.edf chb21_23.edf chb21_24.edf chb21_25.edf chb21_26.edf chb21_27.edf chb21_28.edf chb21_29.edf chb21_30.edf chb21_31.edf chb21_32.edf chb21_33.edf chb22_01.edf chb22_02.edf chb22_03.edf chb22_04.edf chb22_05.edf chb22_06.edf chb22_07.edf chb22_08.edf chb22_09.edf chb22_10.edf chb22_11.edf chb22_15.edf chb22_16.edf chb22_17.edf chb22_18.edf chb22_19.edf chb22_20.edf chb22_21.edf chb22_22.edf chb22_23.edf chb22_24.edf chb22_25.edf chb22_26.edf chb22_27.edf chb22_28.edf chb22_29.edf chb22_30.edf chb22_38.edf chb22_51.edf chb22_54.edf chb22_77.edf chb23_06.edf chb23_07.edf chb23_08.edf chb23_09.edf chb23_10.edf chb23_16.edf chb23_17.edf chb23_19.edf chb23_20.edf chb24_01.edf chb24_02.edf chb24_03.edf chb24_04.edf chb24_05.edf chb24_06.edf chb24_07.edf chb24_08.edf chb24_09.edf chb24_10.edf chb24_11.edf chb24_12.edf chb24_13.edf chb24_14.edf chb24_15.edf chb24_16.edf chb24_17.edf chb24_18.edf chb24_19.edf chb24_20.edf chb24_21.edf chb24_22.edf "
     ]
    }
   ],
   "source": [
    "# 萃取公共通道信息并顺便完成数据类型转换 Extract common channel data and convert data types by the way\n",
    "import os\n",
    "import os.path\n",
    "from pyedflib.highlevel import read_edf\n",
    "import numpy as np\n",
    "\n",
    "outdir = clean_data_path\n",
    "for k, v in mapping_dict.items():\n",
    "    patdir = os.path.join(outdir, k[-5:])\n",
    "    os.makedirs(patdir, mode=0o755, exist_ok=True)\n",
    "    chs, files = v[0], v[1]\n",
    "    for fn, seq_lst in files:\n",
    "        content, _, _ = read_edf(os.path.join(k, fn), digital=False)\n",
    "        # new_data = np.empty((len(chs), content.shape[1]))\n",
    "        new_data = content.astype(dtype=np.float32)[np.array([seq_lst])]\n",
    "        np.save(os.path.join(patdir, fn[:-4]), new_data.squeeze()) # TODO Test Needed Here\n",
    "        print(fn, end=' ')"
   ]
  },
  {
   "cell_type": "code",
   "execution_count": 4,
   "id": "ed7f4f89",
   "metadata": {},
   "outputs": [],
   "source": [
    "# Generate channel_info jsons recording shuffling info\n",
    "import os.path\n",
    "import numpy as np\n",
    "\n",
    "outdir = clean_data_path\n",
    "for k, v in mapping_dict.items():\n",
    "    patdir = os.path.join(outdir, k[-5:])\n",
    "    os.makedirs(patdir, mode=0o755, exist_ok=True)\n",
    "    chs, files = v[0], v[1]\n",
    "    pat_json = {'Channels': chs, 'EDF Files': []}\n",
    "    for fn, seq_lst in files:\n",
    "        pat_json['EDF Files'].append({'File Name': fn, 'Original Index': seq_lst})\n",
    "    with open(os.path.join(patdir, 'channel_info.json'), 'w') as f:\n",
    "        json.dump(pat_json, f, indent=2)\n",
    "    "
   ]
  },
  {
   "cell_type": "code",
   "execution_count": null,
   "id": "3727c29b",
   "metadata": {},
   "outputs": [],
   "source": [
    "from pyedflib import EdfReader\n",
    "\n",
    "class EdfReaderWrapper(EdfReader):\n",
    "    def __init__(self, *args, **kwargs):\n",
    "        super().__init__(*args, **kwargs)\n",
    "    def __enter__(self):\n",
    "        return self\n",
    "    def __exit__(self, *args):\n",
    "        super().close()"
   ]
  },
  {
   "cell_type": "code",
   "execution_count": 9,
   "id": "8ca8d989",
   "metadata": {},
   "outputs": [],
   "source": [
    "# From chb{02d}-summary.txt generate datetime_info jsons\n",
    "import os\n",
    "import json\n",
    "import datetime\n",
    "import pyedflib\n",
    "\n",
    "outdir = clean_data_path\n",
    "data_dir = dataset_path\n",
    "# ignore_lst\n",
    "\n",
    "# TODO Combined with command-line arguments\n",
    "with open(os.path.join(\"..\", \"global_config.json\"), \"rt\") as f:\n",
    "    config_obj = json.load(f)\n",
    "# globals().update(config_obj)\n",
    "dt_fmt = config_obj.datetime_fmt\n",
    "\n",
    "for indexPatient in range(1, 24+1):\n",
    "    pat_json = []\n",
    "    with open(os.path.join(data_dir, f\"chb{indexPatient:02d}\", f\"chb{indexPatient:02d}-summary.txt\"), 'r') as f:\n",
    "        for line in f:\n",
    "            data=line.split(':')\n",
    "            if(data[0]==\"File Name\"):\n",
    "                edfName=data[1].strip()\n",
    "                if edfName in ignore_lst:\n",
    "                    continue\n",
    "                with EdfReaderWrapper(os.path.join(data_dir, f\"chb{indexPatient:02d}\", edfName)) as pedf: \n",
    "                    startTime = pedf.getStartdatetime()\n",
    "                    startStr = startTime.strftime(dt_fmt)\n",
    "                    endTime = startTime + datetime.timedelta(seconds=pedf.getFileDuration())\n",
    "                    endStr = endTime.strftime(dt_fmt)\n",
    "\n",
    "                    pat_json.append({'File Name': edfName[:-3]+'npy', 'Record Datetimes': [startStr, endStr], 'Seizures': []}) # TODO Add Annotations Retrieval\n",
    "                    \n",
    "                    nextLine = f.readline().strip()\n",
    "                    while (len(nextLine) != 0 and not nextLine.startswith('Number of Seizures in File:')):\n",
    "                        nextLine = f.readline().strip()\n",
    "                    if nextLine.startswith('Number of Seizures in File:'):\n",
    "                        for j in range(0, int(nextLine.split(':')[1])):\n",
    "                            szStartSec = int(f.readline().split(': ')[1].strip().split(' ')[0])\n",
    "                            szEndSec = int(f.readline().split(': ')[1].strip().split(' ')[0])\n",
    "                            pat_json[-1]['Seizures'].append([szStartSec, szEndSec]))\n",
    "\n",
    "        \n",
    "    with open(os.path.join(outdir, f'chb{indexPatient:02d}', 'datetime_info.json'), 'w') as f:\n",
    "        json.dump(pat_json, f, indent=2)"
   ]
  }
 ],
 "metadata": {
  "kernelspec": {
   "display_name": "Python 3 (ipykernel)",
   "language": "python",
   "name": "python3"
  },
  "language_info": {
   "codemirror_mode": {
    "name": "ipython",
    "version": 3
   },
   "file_extension": ".py",
   "mimetype": "text/x-python",
   "name": "python",
   "nbconvert_exporter": "python",
   "pygments_lexer": "ipython3",
   "version": "3.10.6"
  }
 },
 "nbformat": 4,
 "nbformat_minor": 5
}
