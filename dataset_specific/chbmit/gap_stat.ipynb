{
 "cells": [
  {
   "attachments": {},
   "cell_type": "markdown",
   "metadata": {},
   "source": [
    "# TODO Use pathlib & f-string to replace the path str."
   ]
  },
  {
   "cell_type": "code",
   "execution_count": 5,
   "metadata": {},
   "outputs": [],
   "source": [
    "import plotly.express as px\n",
    "from pandas import DataFrame\n",
    "\n",
    "def plot_violin(title: str, df: DataFrame) -> None:\n",
    "    fig = px.violin(df, title=title, y='Duration (seconds)', box=True, points=\"all\", hover_data='Description')\n",
    "    fig.show()"
   ]
  },
  {
   "cell_type": "code",
   "execution_count": null,
   "metadata": {},
   "outputs": [],
   "source": [
    "import os\n",
    "import json\n",
    "import datetime\n",
    "import pyedflib\n",
    "import pandas as pd\n",
    "\n",
    "data_dir = \"./physionet.org/files/chbmit/1.0.0/\"\n",
    "df_lst = []\n",
    "\n",
    "for indexPatient in range(1, 24+1):\n",
    "    last_end_dt = None; last_edfname = ''\n",
    "    df = pd.DataFrame(columns=['Duration (seconds)', 'Description'])\n",
    "    with open(data_dir+'chb%02d/chb%02d' % (indexPatient, indexPatient)+'-summary.txt', 'r') as f:\n",
    "        for line in f:\n",
    "            data=line.split(':')\n",
    "            if(data[0]==\"File Name\"):\n",
    "                edfName=data[1].strip()\n",
    "\n",
    "                pedf = pyedflib.EdfReader(data_dir+'chb%02d/%s' % (indexPatient, edfName))\n",
    "                startTime = pedf.getStartdatetime()\n",
    "                if last_end_dt is not None:\n",
    "                    sec = (startTime - last_end_dt).total_seconds()\n",
    "                    df.loc[len(df)] = {'Duration (seconds)': sec, 'Description': f\"{last_edfname}-->{edfName}:\\n{sec}s\"}\n",
    "                last_end_dt = startTime + datetime.timedelta(seconds=pedf.getFileDuration())\n",
    "                last_edfname = edfName\n",
    "                \n",
    "                pedf.close() # TODO replace with 'with' stat\n",
    "\n",
    "    plot_violin(f\"chb{indexPatient:02d}-len(gap)-dist\", df)\n",
    "    df_lst.append(df)\n"
   ]
  },
  {
   "cell_type": "code",
   "execution_count": 7,
   "metadata": {},
   "outputs": [
    {
     "data": {
      "application/vnd.plotly.v1+json": {
       "config": {
        "plotlyServerURL": "https://plot.ly"
       },
       "data": [
        {
         "alignmentgroup": "True",
         "box": {
          "visible": true
         },
         "customdata": [
          [
           "chb01_01.edf-->chb01_02.edf:\n3.0s"
          ],
          [
           "chb01_02.edf-->chb01_03.edf:\n7.0s"
          ],
          [
           "chb01_03.edf-->chb01_04.edf:\n8.0s"
          ],
          [
           "chb01_04.edf-->chb01_05.edf:\n7.0s"
          ],
          [
           "chb01_05.edf-->chb01_06.edf:\n7.0s"
          ],
          [
           "chb01_06.edf-->chb01_07.edf:\n7.0s"
          ],
          [
           "chb01_07.edf-->chb01_08.edf:\n7.0s"
          ],
          [
           "chb01_08.edf-->chb01_09.edf:\n16.0s"
          ],
          [
           "chb01_09.edf-->chb01_10.edf:\n11.0s"
          ],
          [
           "chb01_10.edf-->chb01_11.edf:\n7.0s"
          ],
          [
           "chb01_11.edf-->chb01_12.edf:\n8.0s"
          ],
          [
           "chb01_12.edf-->chb01_13.edf:\n7.0s"
          ],
          [
           "chb01_13.edf-->chb01_14.edf:\n8.0s"
          ],
          [
           "chb01_14.edf-->chb01_15.edf:\n7.0s"
          ],
          [
           "chb01_15.edf-->chb01_16.edf:\n7.0s"
          ],
          [
           "chb01_16.edf-->chb01_17.edf:\n8.0s"
          ],
          [
           "chb01_17.edf-->chb01_18.edf:\n7.0s"
          ],
          [
           "chb01_18.edf-->chb01_19.edf:\n7.0s"
          ],
          [
           "chb01_19.edf-->chb01_20.edf:\n7.0s"
          ],
          [
           "chb01_20.edf-->chb01_21.edf:\n243.0s"
          ],
          [
           "chb01_21.edf-->chb01_22.edf:\n3.0s"
          ],
          [
           "chb01_22.edf-->chb01_23.edf:\n9.0s"
          ],
          [
           "chb01_23.edf-->chb01_24.edf:\n8.0s"
          ],
          [
           "chb01_24.edf-->chb01_25.edf:\n8.0s"
          ],
          [
           "chb01_25.edf-->chb01_26.edf:\n8.0s"
          ],
          [
           "chb01_26.edf-->chb01_27.edf:\n14.0s"
          ],
          [
           "chb01_27.edf-->chb01_29.edf:\n47.0s"
          ],
          [
           "chb01_29.edf-->chb01_30.edf:\n7.0s"
          ],
          [
           "chb01_30.edf-->chb01_31.edf:\n9.0s"
          ],
          [
           "chb01_31.edf-->chb01_32.edf:\n8.0s"
          ],
          [
           "chb01_32.edf-->chb01_33.edf:\n7.0s"
          ],
          [
           "chb01_33.edf-->chb01_34.edf:\n7.0s"
          ],
          [
           "chb01_34.edf-->chb01_36.edf:\n10197.0s"
          ],
          [
           "chb01_36.edf-->chb01_37.edf:\n3.0s"
          ],
          [
           "chb01_37.edf-->chb01_38.edf:\n7.0s"
          ],
          [
           "chb01_38.edf-->chb01_39.edf:\n8.0s"
          ],
          [
           "chb01_39.edf-->chb01_40.edf:\n7.0s"
          ],
          [
           "chb01_40.edf-->chb01_41.edf:\n7.0s"
          ],
          [
           "chb01_41.edf-->chb01_42.edf:\n7.0s"
          ],
          [
           "chb01_42.edf-->chb01_43.edf:\n7.0s"
          ],
          [
           "chb01_43.edf-->chb01_46.edf:\n7222.0s"
          ],
          [
           "chb02_01.edf-->chb02_02.edf:\n3610.0s"
          ],
          [
           "chb02_02.edf-->chb02_03.edf:\n7.0s"
          ],
          [
           "chb02_03.edf-->chb02_04.edf:\n7.0s"
          ],
          [
           "chb02_04.edf-->chb02_05.edf:\n7.0s"
          ],
          [
           "chb02_05.edf-->chb02_06.edf:\n8.0s"
          ],
          [
           "chb02_06.edf-->chb02_07.edf:\n7.0s"
          ],
          [
           "chb02_07.edf-->chb02_08.edf:\n8.0s"
          ],
          [
           "chb02_08.edf-->chb02_09.edf:\n7.0s"
          ],
          [
           "chb02_09.edf-->chb02_10.edf:\n7.0s"
          ],
          [
           "chb02_10.edf-->chb02_11.edf:\n8.0s"
          ],
          [
           "chb02_11.edf-->chb02_12.edf:\n7.0s"
          ],
          [
           "chb02_12.edf-->chb02_13.edf:\n7.0s"
          ],
          [
           "chb02_13.edf-->chb02_14.edf:\n8.0s"
          ],
          [
           "chb02_14.edf-->chb02_15.edf:\n7221.0s"
          ],
          [
           "chb02_15.edf-->chb02_16.edf:\n8.0s"
          ],
          [
           "chb02_16.edf-->chb02_16+.edf:\n3758.0s"
          ],
          [
           "chb02_16+.edf-->chb02_17.edf:\n8.0s"
          ],
          [
           "chb02_17.edf-->chb02_18.edf:\n7.0s"
          ],
          [
           "chb02_18.edf-->chb02_19.edf:\n7.0s"
          ],
          [
           "chb02_19.edf-->chb02_20.edf:\n8.0s"
          ],
          [
           "chb02_20.edf-->chb02_21.edf:\n7.0s"
          ],
          [
           "chb02_21.edf-->chb02_22.edf:\n8.0s"
          ],
          [
           "chb02_22.edf-->chb02_23.edf:\n4279.0s"
          ],
          [
           "chb02_23.edf-->chb02_24.edf:\n13.0s"
          ],
          [
           "chb02_24.edf-->chb02_25.edf:\n8.0s"
          ],
          [
           "chb02_25.edf-->chb02_26.edf:\n7.0s"
          ],
          [
           "chb02_26.edf-->chb02_27.edf:\n8.0s"
          ],
          [
           "chb02_27.edf-->chb02_28.edf:\n7.0s"
          ],
          [
           "chb02_28.edf-->chb02_29.edf:\n8.0s"
          ],
          [
           "chb02_29.edf-->chb02_30.edf:\n7.0s"
          ],
          [
           "chb02_30.edf-->chb02_31.edf:\n8.0s"
          ],
          [
           "chb02_31.edf-->chb02_32.edf:\n7.0s"
          ],
          [
           "chb02_32.edf-->chb02_33.edf:\n7.0s"
          ],
          [
           "chb02_33.edf-->chb02_34.edf:\n8.0s"
          ],
          [
           "chb02_34.edf-->chb02_35.edf:\n7.0s"
          ],
          [
           "chb03_01.edf-->chb03_02.edf:\n3.0s"
          ],
          [
           "chb03_02.edf-->chb03_03.edf:\n8.0s"
          ],
          [
           "chb03_03.edf-->chb03_04.edf:\n7.0s"
          ],
          [
           "chb03_04.edf-->chb03_05.edf:\n7.0s"
          ],
          [
           "chb03_05.edf-->chb03_06.edf:\n7.0s"
          ],
          [
           "chb03_06.edf-->chb03_07.edf:\n7.0s"
          ],
          [
           "chb03_07.edf-->chb03_08.edf:\n7.0s"
          ],
          [
           "chb03_08.edf-->chb03_09.edf:\n8.0s"
          ],
          [
           "chb03_09.edf-->chb03_10.edf:\n7.0s"
          ],
          [
           "chb03_10.edf-->chb03_11.edf:\n7.0s"
          ],
          [
           "chb03_11.edf-->chb03_12.edf:\n7.0s"
          ],
          [
           "chb03_12.edf-->chb03_13.edf:\n8.0s"
          ],
          [
           "chb03_13.edf-->chb03_14.edf:\n7.0s"
          ],
          [
           "chb03_14.edf-->chb03_15.edf:\n7.0s"
          ],
          [
           "chb03_15.edf-->chb03_16.edf:\n7.0s"
          ],
          [
           "chb03_16.edf-->chb03_17.edf:\n7.0s"
          ],
          [
           "chb03_17.edf-->chb03_18.edf:\n7.0s"
          ],
          [
           "chb03_18.edf-->chb03_19.edf:\n8.0s"
          ],
          [
           "chb03_19.edf-->chb03_20.edf:\n9.0s"
          ],
          [
           "chb03_20.edf-->chb03_21.edf:\n11554.0s"
          ],
          [
           "chb03_21.edf-->chb03_22.edf:\n7.0s"
          ],
          [
           "chb03_22.edf-->chb03_23.edf:\n7.0s"
          ],
          [
           "chb03_23.edf-->chb03_25.edf:\n12.0s"
          ],
          [
           "chb03_25.edf-->chb03_24.edf:\n8.0s"
          ],
          [
           "chb03_24.edf-->chb03_26.edf:\n7.0s"
          ],
          [
           "chb03_26.edf-->chb03_27.edf:\n8.0s"
          ],
          [
           "chb03_27.edf-->chb03_28.edf:\n7.0s"
          ],
          [
           "chb03_28.edf-->chb03_29.edf:\n7.0s"
          ],
          [
           "chb03_29.edf-->chb03_30.edf:\n8.0s"
          ],
          [
           "chb03_30.edf-->chb03_31.edf:\n65435.0s"
          ],
          [
           "chb03_31.edf-->chb03_32.edf:\n8.0s"
          ],
          [
           "chb03_32.edf-->chb03_33.edf:\n7.0s"
          ],
          [
           "chb03_33.edf-->chb03_34.edf:\n21651.0s"
          ],
          [
           "chb03_34.edf-->chb03_35.edf:\n7.0s"
          ],
          [
           "chb03_35.edf-->chb03_36.edf:\n3615.0s"
          ],
          [
           "chb03_36.edf-->chb03_37.edf:\n55423.0s"
          ],
          [
           "chb03_37.edf-->chb03_38.edf:\n7.0s"
          ],
          [
           "chb04_01.edf-->chb04_02.edf:\n52.0s"
          ],
          [
           "chb04_02.edf-->chb04_03.edf:\n8.0s"
          ],
          [
           "chb04_03.edf-->chb04_04.edf:\n7.0s"
          ],
          [
           "chb04_04.edf-->chb04_05.edf:\n7.0s"
          ],
          [
           "chb04_05.edf-->chb04_06.edf:\n257.0s"
          ],
          [
           "chb04_06.edf-->chb04_07.edf:\n3.0s"
          ],
          [
           "chb04_07.edf-->chb04_08.edf:\n161.0s"
          ],
          [
           "chb04_08.edf-->chb04_09.edf:\n3.0s"
          ],
          [
           "chb04_09.edf-->chb04_10.edf:\n8.0s"
          ],
          [
           "chb04_10.edf-->chb04_11.edf:\n7.0s"
          ],
          [
           "chb04_11.edf-->chb04_12.edf:\n127.0s"
          ],
          [
           "chb04_12.edf-->chb04_13.edf:\n44.0s"
          ],
          [
           "chb04_13.edf-->chb04_14.edf:\n33.0s"
          ],
          [
           "chb04_14.edf-->chb04_15.edf:\n83.0s"
          ],
          [
           "chb04_15.edf-->chb04_16.edf:\n8.0s"
          ],
          [
           "chb04_16.edf-->chb04_17.edf:\n8.0s"
          ],
          [
           "chb04_17.edf-->chb04_18.edf:\n140.0s"
          ],
          [
           "chb04_18.edf-->chb04_19.edf:\n1788.0s"
          ],
          [
           "chb04_19.edf-->chb04_21.edf:\n14416.0s"
          ],
          [
           "chb04_21.edf-->chb04_22.edf:\n8.0s"
          ],
          [
           "chb04_22.edf-->chb04_23.edf:\n7.0s"
          ],
          [
           "chb04_23.edf-->chb04_24.edf:\n103.0s"
          ],
          [
           "chb04_24.edf-->chb04_25.edf:\n254.0s"
          ],
          [
           "chb04_25.edf-->chb04_26.edf:\n8.0s"
          ],
          [
           "chb04_26.edf-->chb04_27.edf:\n7.0s"
          ],
          [
           "chb04_27.edf-->chb04_28.edf:\n1083.0s"
          ],
          [
           "chb04_28.edf-->chb04_29.edf:\n106.0s"
          ],
          [
           "chb04_29.edf-->chb04_30.edf:\n46.0s"
          ],
          [
           "chb04_30.edf-->chb04_31.edf:\n8.0s"
          ],
          [
           "chb04_31.edf-->chb04_32.edf:\n7.0s"
          ],
          [
           "chb04_32.edf-->chb04_33.edf:\n8.0s"
          ],
          [
           "chb04_33.edf-->chb04_34.edf:\n8.0s"
          ],
          [
           "chb04_34.edf-->chb04_35.edf:\n8.0s"
          ],
          [
           "chb04_35.edf-->chb04_36.edf:\n7.0s"
          ],
          [
           "chb04_36.edf-->chb04_37.edf:\n8.0s"
          ],
          [
           "chb04_37.edf-->chb04_38.edf:\n3347.0s"
          ],
          [
           "chb04_38.edf-->chb04_39.edf:\n3.0s"
          ],
          [
           "chb04_39.edf-->chb04_40.edf:\n8.0s"
          ],
          [
           "chb04_40.edf-->chb04_41.edf:\n8.0s"
          ],
          [
           "chb04_41.edf-->chb04_42.edf:\n7.0s"
          ],
          [
           "chb04_42.edf-->chb04_43.edf:\n142.0s"
          ],
          [
           "chb05_01.edf-->chb05_02.edf:\n42.0s"
          ],
          [
           "chb05_02.edf-->chb05_03.edf:\n7.0s"
          ],
          [
           "chb05_03.edf-->chb05_04.edf:\n7.0s"
          ],
          [
           "chb05_04.edf-->chb05_05.edf:\n8.0s"
          ],
          [
           "chb05_05.edf-->chb05_06.edf:\n6.0s"
          ],
          [
           "chb05_06.edf-->chb05_07.edf:\n7.0s"
          ],
          [
           "chb05_07.edf-->chb05_08.edf:\n7.0s"
          ],
          [
           "chb05_08.edf-->chb05_09.edf:\n7.0s"
          ],
          [
           "chb05_09.edf-->chb05_10.edf:\n7.0s"
          ],
          [
           "chb05_10.edf-->chb05_11.edf:\n8.0s"
          ],
          [
           "chb05_11.edf-->chb05_12.edf:\n7.0s"
          ],
          [
           "chb05_12.edf-->chb05_13.edf:\n7.0s"
          ],
          [
           "chb05_13.edf-->chb05_14.edf:\n6.0s"
          ],
          [
           "chb05_14.edf-->chb05_15.edf:\n7.0s"
          ],
          [
           "chb05_15.edf-->chb05_16.edf:\n7.0s"
          ],
          [
           "chb05_16.edf-->chb05_17.edf:\n7.0s"
          ],
          [
           "chb05_17.edf-->chb05_18.edf:\n8.0s"
          ],
          [
           "chb05_18.edf-->chb05_19.edf:\n7.0s"
          ],
          [
           "chb05_19.edf-->chb05_20.edf:\n7.0s"
          ],
          [
           "chb05_20.edf-->chb05_21.edf:\n7.0s"
          ],
          [
           "chb05_21.edf-->chb05_22.edf:\n6.0s"
          ],
          [
           "chb05_22.edf-->chb05_23.edf:\n7.0s"
          ],
          [
           "chb05_23.edf-->chb05_24.edf:\n7.0s"
          ],
          [
           "chb05_24.edf-->chb05_25.edf:\n7.0s"
          ],
          [
           "chb05_25.edf-->chb05_26.edf:\n8.0s"
          ],
          [
           "chb05_26.edf-->chb05_27.edf:\n7.0s"
          ],
          [
           "chb05_27.edf-->chb05_28.edf:\n7.0s"
          ],
          [
           "chb05_28.edf-->chb05_29.edf:\n7.0s"
          ],
          [
           "chb05_29.edf-->chb05_30.edf:\n7.0s"
          ],
          [
           "chb05_30.edf-->chb05_31.edf:\n7.0s"
          ],
          [
           "chb05_31.edf-->chb05_32.edf:\n7.0s"
          ],
          [
           "chb05_32.edf-->chb05_33.edf:\n7.0s"
          ],
          [
           "chb05_33.edf-->chb05_34.edf:\n7.0s"
          ],
          [
           "chb05_34.edf-->chb05_35.edf:\n7.0s"
          ],
          [
           "chb05_35.edf-->chb05_36.edf:\n7.0s"
          ],
          [
           "chb05_36.edf-->chb05_37.edf:\n7.0s"
          ],
          [
           "chb05_37.edf-->chb05_38.edf:\n7.0s"
          ],
          [
           "chb05_38.edf-->chb05_39.edf:\n7.0s"
          ],
          [
           "chb06_01.edf-->chb06_02.edf:\n35.0s"
          ],
          [
           "chb06_02.edf-->chb06_03.edf:\n8.0s"
          ],
          [
           "chb06_03.edf-->chb06_04.edf:\n9.0s"
          ],
          [
           "chb06_04.edf-->chb06_05.edf:\n28.0s"
          ],
          [
           "chb06_05.edf-->chb06_06.edf:\n3.0s"
          ],
          [
           "chb06_06.edf-->chb06_07.edf:\n8.0s"
          ],
          [
           "chb06_07.edf-->chb06_08.edf:\n8.0s"
          ],
          [
           "chb06_08.edf-->chb06_09.edf:\n8.0s"
          ],
          [
           "chb06_09.edf-->chb06_10.edf:\n7.0s"
          ],
          [
           "chb06_10.edf-->chb06_12.edf:\n14416.0s"
          ],
          [
           "chb06_12.edf-->chb06_13.edf:\n10.0s"
          ],
          [
           "chb06_13.edf-->chb06_14.edf:\n15.0s"
          ],
          [
           "chb06_14.edf-->chb06_15.edf:\n8.0s"
          ],
          [
           "chb06_15.edf-->chb06_16.edf:\n8.0s"
          ],
          [
           "chb06_16.edf-->chb06_17.edf:\n150.0s"
          ],
          [
           "chb06_17.edf-->chb06_18.edf:\n4.0s"
          ],
          [
           "chb06_18.edf-->chb06_24.edf:\n66321.0s"
          ],
          [
           "chb07_01.edf-->chb07_02.edf:\n94.0s"
          ],
          [
           "chb07_02.edf-->chb07_03.edf:\n8.0s"
          ],
          [
           "chb07_03.edf-->chb07_04.edf:\n8.0s"
          ],
          [
           "chb07_04.edf-->chb07_05.edf:\n7.0s"
          ],
          [
           "chb07_05.edf-->chb07_06.edf:\n8.0s"
          ],
          [
           "chb07_06.edf-->chb07_07.edf:\n42.0s"
          ],
          [
           "chb07_07.edf-->chb07_08.edf:\n288.0s"
          ],
          [
           "chb07_08.edf-->chb07_09.edf:\n4.0s"
          ],
          [
           "chb07_09.edf-->chb07_10.edf:\n8.0s"
          ],
          [
           "chb07_10.edf-->chb07_11.edf:\n7.0s"
          ],
          [
           "chb07_11.edf-->chb07_12.edf:\n9.0s"
          ],
          [
           "chb07_12.edf-->chb07_13.edf:\n7.0s"
          ],
          [
           "chb07_13.edf-->chb07_14.edf:\n19.0s"
          ],
          [
           "chb07_14.edf-->chb07_15.edf:\n4.0s"
          ],
          [
           "chb07_15.edf-->chb07_16.edf:\n8.0s"
          ],
          [
           "chb07_16.edf-->chb07_17.edf:\n13.0s"
          ],
          [
           "chb07_17.edf-->chb07_18.edf:\n9.0s"
          ],
          [
           "chb07_18.edf-->chb07_19.edf:\n124.0s"
          ],
          [
           "chb08_02.edf-->chb08_03.edf:\n2.0s"
          ],
          [
           "chb08_03.edf-->chb08_04.edf:\n8.0s"
          ],
          [
           "chb08_04.edf-->chb08_05.edf:\n7.0s"
          ],
          [
           "chb08_05.edf-->chb08_10.edf:\n11260.0s"
          ],
          [
           "chb08_10.edf-->chb08_11.edf:\n7.0s"
          ],
          [
           "chb08_11.edf-->chb08_12.edf:\n7.0s"
          ],
          [
           "chb08_12.edf-->chb08_13.edf:\n8.0s"
          ],
          [
           "chb08_13.edf-->chb08_14.edf:\n7.0s"
          ],
          [
           "chb08_14.edf-->chb08_15.edf:\n8.0s"
          ],
          [
           "chb08_15.edf-->chb08_16.edf:\n7.0s"
          ],
          [
           "chb08_16.edf-->chb08_17.edf:\n8.0s"
          ],
          [
           "chb08_17.edf-->chb08_18.edf:\n7.0s"
          ],
          [
           "chb08_18.edf-->chb08_19.edf:\n8.0s"
          ],
          [
           "chb08_19.edf-->chb08_20.edf:\n7.0s"
          ],
          [
           "chb08_20.edf-->chb08_21.edf:\n8.0s"
          ],
          [
           "chb08_21.edf-->chb08_22.edf:\n7.0s"
          ],
          [
           "chb08_22.edf-->chb08_23.edf:\n8.0s"
          ],
          [
           "chb08_23.edf-->chb08_24.edf:\n7.0s"
          ],
          [
           "chb08_24.edf-->chb08_29.edf:\n11567.0s"
          ],
          [
           "chb09_01.edf-->chb09_02.edf:\n68.0s"
          ],
          [
           "chb09_02.edf-->chb09_03.edf:\n360.0s"
          ],
          [
           "chb09_03.edf-->chb09_04.edf:\n3.0s"
          ],
          [
           "chb09_04.edf-->chb09_05.edf:\n49.0s"
          ],
          [
           "chb09_05.edf-->chb09_06.edf:\n8.0s"
          ],
          [
           "chb09_06.edf-->chb09_07.edf:\n28.0s"
          ],
          [
           "chb09_07.edf-->chb09_08.edf:\n8.0s"
          ],
          [
           "chb09_08.edf-->chb09_09.edf:\n8.0s"
          ],
          [
           "chb09_09.edf-->chb09_10.edf:\n8.0s"
          ],
          [
           "chb09_10.edf-->chb09_11.edf:\n7.0s"
          ],
          [
           "chb09_11.edf-->chb09_12.edf:\n7.0s"
          ],
          [
           "chb09_12.edf-->chb09_13.edf:\n13.0s"
          ],
          [
           "chb09_13.edf-->chb09_14.edf:\n49.0s"
          ],
          [
           "chb09_14.edf-->chb09_15.edf:\n174.0s"
          ],
          [
           "chb09_15.edf-->chb09_16.edf:\n86.0s"
          ],
          [
           "chb09_16.edf-->chb09_17.edf:\n52.0s"
          ],
          [
           "chb09_17.edf-->chb09_18.edf:\n139.0s"
          ],
          [
           "chb09_18.edf-->chb09_19.edf:\n4.0s"
          ],
          [
           "chb10_01.edf-->chb10_02.edf:\n42.0s"
          ],
          [
           "chb10_02.edf-->chb10_03.edf:\n7.0s"
          ],
          [
           "chb10_03.edf-->chb10_04.edf:\n8.0s"
          ],
          [
           "chb10_04.edf-->chb10_05.edf:\n7.0s"
          ],
          [
           "chb10_05.edf-->chb10_06.edf:\n8.0s"
          ],
          [
           "chb10_06.edf-->chb10_07.edf:\n8.0s"
          ],
          [
           "chb10_07.edf-->chb10_08.edf:\n7.0s"
          ],
          [
           "chb10_08.edf-->chb10_12.edf:\n21630.0s"
          ],
          [
           "chb10_12.edf-->chb10_13.edf:\n8.0s"
          ],
          [
           "chb10_13.edf-->chb10_14.edf:\n7.0s"
          ],
          [
           "chb10_14.edf-->chb10_15.edf:\n8.0s"
          ],
          [
           "chb10_15.edf-->chb10_16.edf:\n7.0s"
          ],
          [
           "chb10_16.edf-->chb10_17.edf:\n7.0s"
          ],
          [
           "chb10_17.edf-->chb10_18.edf:\n8.0s"
          ],
          [
           "chb10_18.edf-->chb10_19.edf:\n7.0s"
          ],
          [
           "chb10_19.edf-->chb10_20.edf:\n8.0s"
          ],
          [
           "chb10_20.edf-->chb10_21.edf:\n143.0s"
          ],
          [
           "chb10_21.edf-->chb10_22.edf:\n8.0s"
          ],
          [
           "chb10_22.edf-->chb10_27.edf:\n29005.0s"
          ],
          [
           "chb10_27.edf-->chb10_28.edf:\n38.0s"
          ],
          [
           "chb10_28.edf-->chb10_30.edf:\n7215.0s"
          ],
          [
           "chb10_30.edf-->chb10_31.edf:\n28.0s"
          ],
          [
           "chb10_31.edf-->chb10_38.edf:\n23324.0s"
          ],
          [
           "chb10_38.edf-->chb10_89.edf:\n344930.0s"
          ],
          [
           "chb11_01.edf-->chb11_02.edf:\n29.0s"
          ],
          [
           "chb11_02.edf-->chb11_03.edf:\n7.0s"
          ],
          [
           "chb11_03.edf-->chb11_04.edf:\n7.0s"
          ],
          [
           "chb11_04.edf-->chb11_05.edf:\n6.0s"
          ],
          [
           "chb11_05.edf-->chb11_06.edf:\n7.0s"
          ],
          [
           "chb11_06.edf-->chb11_07.edf:\n7.0s"
          ],
          [
           "chb11_07.edf-->chb11_08.edf:\n7.0s"
          ],
          [
           "chb11_08.edf-->chb11_09.edf:\n7.0s"
          ],
          [
           "chb11_09.edf-->chb11_10.edf:\n6.0s"
          ],
          [
           "chb11_10.edf-->chb11_11.edf:\n7.0s"
          ],
          [
           "chb11_11.edf-->chb11_12.edf:\n7.0s"
          ],
          [
           "chb11_12.edf-->chb11_13.edf:\n7.0s"
          ],
          [
           "chb11_13.edf-->chb11_14.edf:\n6.0s"
          ],
          [
           "chb11_14.edf-->chb11_15.edf:\n7.0s"
          ],
          [
           "chb11_15.edf-->chb11_16.edf:\n7.0s"
          ],
          [
           "chb11_16.edf-->chb11_17.edf:\n7.0s"
          ],
          [
           "chb11_17.edf-->chb11_18.edf:\n7.0s"
          ],
          [
           "chb11_18.edf-->chb11_19.edf:\n7.0s"
          ],
          [
           "chb11_19.edf-->chb11_24.edf:\n14437.0s"
          ],
          [
           "chb11_24.edf-->chb11_25.edf:\n7.0s"
          ],
          [
           "chb11_25.edf-->chb11_26.edf:\n6.0s"
          ],
          [
           "chb11_26.edf-->chb11_27.edf:\n7.0s"
          ],
          [
           "chb11_27.edf-->chb11_53.edf:\n87267.0s"
          ],
          [
           "chb11_53.edf-->chb11_54.edf:\n7.0s"
          ],
          [
           "chb11_54.edf-->chb11_55.edf:\n7.0s"
          ],
          [
           "chb11_55.edf-->chb11_56.edf:\n34.0s"
          ],
          [
           "chb11_56.edf-->chb11_58.edf:\n3614.0s"
          ],
          [
           "chb11_58.edf-->chb11_60.edf:\n3614.0s"
          ],
          [
           "chb11_60.edf-->chb11_61.edf:\n7.0s"
          ],
          [
           "chb11_61.edf-->chb11_62.edf:\n6.0s"
          ],
          [
           "chb11_62.edf-->chb11_63.edf:\n7.0s"
          ],
          [
           "chb11_63.edf-->chb11_82.edf:\n61725.0s"
          ],
          [
           "chb11_82.edf-->chb11_92.edf:\n32467.0s"
          ],
          [
           "chb11_92.edf-->chb11_99.edf:\n21648.0s"
          ],
          [
           "chb12_06.edf-->chb12_08.edf:\n3718.0s"
          ],
          [
           "chb12_08.edf-->chb12_09.edf:\n7.0s"
          ],
          [
           "chb12_09.edf-->chb12_10.edf:\n48.0s"
          ],
          [
           "chb12_10.edf-->chb12_11.edf:\n32.0s"
          ],
          [
           "chb12_11.edf-->chb12_19.edf:\n16102.0s"
          ],
          [
           "chb12_19.edf-->chb12_20.edf:\n6.0s"
          ],
          [
           "chb12_20.edf-->chb12_21.edf:\n8.0s"
          ],
          [
           "chb12_21.edf-->chb12_23.edf:\n548.0s"
          ],
          [
           "chb12_23.edf-->chb12_24.edf:\n2.0s"
          ],
          [
           "chb12_24.edf-->chb12_27.edf:\n7221.0s"
          ],
          [
           "chb12_27.edf-->chb12_28.edf:\n6.0s"
          ],
          [
           "chb12_28.edf-->chb12_29.edf:\n7.0s"
          ],
          [
           "chb12_29.edf-->chb12_32.edf:\n7322.0s"
          ],
          [
           "chb12_32.edf-->chb12_33.edf:\n6.0s"
          ],
          [
           "chb12_33.edf-->chb12_34.edf:\n7.0s"
          ],
          [
           "chb12_34.edf-->chb12_35.edf:\n6.0s"
          ],
          [
           "chb12_35.edf-->chb12_36.edf:\n7.0s"
          ],
          [
           "chb12_36.edf-->chb12_37.edf:\n6.0s"
          ],
          [
           "chb12_37.edf-->chb12_38.edf:\n31.0s"
          ],
          [
           "chb12_38.edf-->chb12_39.edf:\n6.0s"
          ],
          [
           "chb12_39.edf-->chb12_40.edf:\n7.0s"
          ],
          [
           "chb12_40.edf-->chb12_41.edf:\n7.0s"
          ],
          [
           "chb12_41.edf-->chb12_42.edf:\n6.0s"
          ],
          [
           "chb13_02.edf-->chb13_03.edf:\n6.0s"
          ],
          [
           "chb13_03.edf-->chb13_04.edf:\n7.0s"
          ],
          [
           "chb13_04.edf-->chb13_05.edf:\n7.0s"
          ],
          [
           "chb13_05.edf-->chb13_06.edf:\n7.0s"
          ],
          [
           "chb13_06.edf-->chb13_07.edf:\n6.0s"
          ],
          [
           "chb13_07.edf-->chb13_08.edf:\n8.0s"
          ],
          [
           "chb13_08.edf-->chb13_09.edf:\n6.0s"
          ],
          [
           "chb13_09.edf-->chb13_10.edf:\n7.0s"
          ],
          [
           "chb13_10.edf-->chb13_11.edf:\n7.0s"
          ],
          [
           "chb13_11.edf-->chb13_12.edf:\n6.0s"
          ],
          [
           "chb13_12.edf-->chb13_13.edf:\n7.0s"
          ],
          [
           "chb13_13.edf-->chb13_14.edf:\n7.0s"
          ],
          [
           "chb13_14.edf-->chb13_15.edf:\n7.0s"
          ],
          [
           "chb13_15.edf-->chb13_16.edf:\n6.0s"
          ],
          [
           "chb13_16.edf-->chb13_18.edf:\n1772.0s"
          ],
          [
           "chb13_18.edf-->chb13_19.edf:\n5.0s"
          ],
          [
           "chb13_19.edf-->chb13_21.edf:\n3634.0s"
          ],
          [
           "chb13_21.edf-->chb13_22.edf:\n7.0s"
          ],
          [
           "chb13_22.edf-->chb13_24.edf:\n3613.0s"
          ],
          [
           "chb13_24.edf-->chb13_30.edf:\n18041.0s"
          ],
          [
           "chb13_30.edf-->chb13_36.edf:\n18083.0s"
          ],
          [
           "chb13_36.edf-->chb13_37.edf:\n7.0s"
          ],
          [
           "chb13_37.edf-->chb13_38.edf:\n7.0s"
          ],
          [
           "chb13_38.edf-->chb13_39.edf:\n7.0s"
          ],
          [
           "chb13_39.edf-->chb13_40.edf:\n6.0s"
          ],
          [
           "chb13_40.edf-->chb13_47.edf:\n21647.0s"
          ],
          [
           "chb13_47.edf-->chb13_55.edf:\n25290.0s"
          ],
          [
           "chb13_55.edf-->chb13_56.edf:\n7.0s"
          ],
          [
           "chb13_56.edf-->chb13_58.edf:\n3614.0s"
          ],
          [
           "chb13_58.edf-->chb13_59.edf:\n6.0s"
          ],
          [
           "chb13_59.edf-->chb13_60.edf:\n7.0s"
          ],
          [
           "chb13_60.edf-->chb13_62.edf:\n3614.0s"
          ],
          [
           "chb14_01.edf-->chb14_02.edf:\n3.0s"
          ],
          [
           "chb14_02.edf-->chb14_03.edf:\n7.0s"
          ],
          [
           "chb14_03.edf-->chb14_04.edf:\n7.0s"
          ],
          [
           "chb14_04.edf-->chb14_06.edf:\n3614.0s"
          ],
          [
           "chb14_06.edf-->chb14_07.edf:\n7.0s"
          ],
          [
           "chb14_07.edf-->chb14_11.edf:\n10827.0s"
          ],
          [
           "chb14_11.edf-->chb14_12.edf:\n7.0s"
          ],
          [
           "chb14_12.edf-->chb14_13.edf:\n7.0s"
          ],
          [
           "chb14_13.edf-->chb14_14.edf:\n7.0s"
          ],
          [
           "chb14_14.edf-->chb14_16.edf:\n3613.0s"
          ],
          [
           "chb14_16.edf-->chb14_17.edf:\n7.0s"
          ],
          [
           "chb14_17.edf-->chb14_18.edf:\n7.0s"
          ],
          [
           "chb14_18.edf-->chb14_19.edf:\n7.0s"
          ],
          [
           "chb14_19.edf-->chb14_20.edf:\n7.0s"
          ],
          [
           "chb14_20.edf-->chb14_22.edf:\n3614.0s"
          ],
          [
           "chb14_22.edf-->chb14_24.edf:\n3614.0s"
          ],
          [
           "chb14_24.edf-->chb14_25.edf:\n6.0s"
          ],
          [
           "chb14_25.edf-->chb14_26.edf:\n7.0s"
          ],
          [
           "chb14_26.edf-->chb14_27.edf:\n7.0s"
          ],
          [
           "chb14_27.edf-->chb14_29.edf:\n3614.0s"
          ],
          [
           "chb14_29.edf-->chb14_30.edf:\n7.0s"
          ],
          [
           "chb14_30.edf-->chb14_32.edf:\n3613.0s"
          ],
          [
           "chb14_32.edf-->chb14_37.edf:\n14434.0s"
          ],
          [
           "chb14_37.edf-->chb14_39.edf:\n3614.0s"
          ],
          [
           "chb14_39.edf-->chb14_42.edf:\n7221.0s"
          ],
          [
           "chb15_01.edf-->chb15_02.edf:\n28.0s"
          ],
          [
           "chb15_02.edf-->chb15_03.edf:\n7.0s"
          ],
          [
           "chb15_03.edf-->chb15_04.edf:\n7.0s"
          ],
          [
           "chb15_04.edf-->chb15_05.edf:\n6.0s"
          ],
          [
           "chb15_05.edf-->chb15_06.edf:\n7.0s"
          ],
          [
           "chb15_06.edf-->chb15_07.edf:\n7.0s"
          ],
          [
           "chb15_07.edf-->chb15_08.edf:\n7.0s"
          ],
          [
           "chb15_08.edf-->chb15_09.edf:\n7.0s"
          ],
          [
           "chb15_09.edf-->chb15_10.edf:\n7.0s"
          ],
          [
           "chb15_10.edf-->chb15_11.edf:\n7.0s"
          ],
          [
           "chb15_11.edf-->chb15_12.edf:\n7.0s"
          ],
          [
           "chb15_12.edf-->chb15_13.edf:\n7.0s"
          ],
          [
           "chb15_13.edf-->chb15_14.edf:\n7.0s"
          ],
          [
           "chb15_14.edf-->chb15_15.edf:\n7.0s"
          ],
          [
           "chb15_15.edf-->chb15_16.edf:\n7.0s"
          ],
          [
           "chb15_16.edf-->chb15_17.edf:\n7.0s"
          ],
          [
           "chb15_17.edf-->chb15_19.edf:\n3614.0s"
          ],
          [
           "chb15_19.edf-->chb15_20.edf:\n7.0s"
          ],
          [
           "chb15_20.edf-->chb15_22.edf:\n3614.0s"
          ],
          [
           "chb15_22.edf-->chb15_26.edf:\n10902.0s"
          ],
          [
           "chb15_26.edf-->chb15_28.edf:\n3614.0s"
          ],
          [
           "chb15_28.edf-->chb15_29.edf:\n7.0s"
          ],
          [
           "chb15_29.edf-->chb15_30.edf:\n7.0s"
          ],
          [
           "chb15_30.edf-->chb15_31.edf:\n6.0s"
          ],
          [
           "chb15_31.edf-->chb15_32.edf:\n7.0s"
          ],
          [
           "chb15_32.edf-->chb15_33.edf:\n7.0s"
          ],
          [
           "chb15_33.edf-->chb15_35.edf:\n3614.0s"
          ],
          [
           "chb15_35.edf-->chb15_37.edf:\n3614.0s"
          ],
          [
           "chb15_37.edf-->chb15_40.edf:\n7221.0s"
          ],
          [
           "chb15_40.edf-->chb15_45.edf:\n14439.0s"
          ],
          [
           "chb15_45.edf-->chb15_46.edf:\n7.0s"
          ],
          [
           "chb15_46.edf-->chb15_49.edf:\n7678.0s"
          ],
          [
           "chb15_49.edf-->chb15_50.edf:\n26.0s"
          ],
          [
           "chb15_50.edf-->chb15_51.edf:\n7.0s"
          ],
          [
           "chb15_51.edf-->chb15_52.edf:\n7.0s"
          ],
          [
           "chb15_52.edf-->chb15_54.edf:\n3635.0s"
          ],
          [
           "chb15_54.edf-->chb15_61.edf:\n21669.0s"
          ],
          [
           "chb15_61.edf-->chb15_62.edf:\n7.0s"
          ],
          [
           "chb15_62.edf-->chb15_63.edf:\n7.0s"
          ],
          [
           "chb16_01.edf-->chb16_02.edf:\n3.0s"
          ],
          [
           "chb16_02.edf-->chb16_03.edf:\n7.0s"
          ],
          [
           "chb16_03.edf-->chb16_04.edf:\n6.0s"
          ],
          [
           "chb16_04.edf-->chb16_05.edf:\n7.0s"
          ],
          [
           "chb16_05.edf-->chb16_06.edf:\n7.0s"
          ],
          [
           "chb16_06.edf-->chb16_07.edf:\n7.0s"
          ],
          [
           "chb16_07.edf-->chb16_08.edf:\n7.0s"
          ],
          [
           "chb16_08.edf-->chb16_09.edf:\n7.0s"
          ],
          [
           "chb16_09.edf-->chb16_10.edf:\n7.0s"
          ],
          [
           "chb16_10.edf-->chb16_11.edf:\n7.0s"
          ],
          [
           "chb16_11.edf-->chb16_12.edf:\n7.0s"
          ],
          [
           "chb16_12.edf-->chb16_13.edf:\n7.0s"
          ],
          [
           "chb16_13.edf-->chb16_14.edf:\n7.0s"
          ],
          [
           "chb16_14.edf-->chb16_15.edf:\n7.0s"
          ],
          [
           "chb16_15.edf-->chb16_16.edf:\n7.0s"
          ],
          [
           "chb16_16.edf-->chb16_17.edf:\n7.0s"
          ],
          [
           "chb16_17.edf-->chb16_18.edf:\n7.0s"
          ],
          [
           "chb16_18.edf-->chb16_19.edf:\n7.0s"
          ],
          [
           "chb17a_03.edf-->chb17a_04.edf:\n7.0s"
          ],
          [
           "chb17a_04.edf-->chb17a_05.edf:\n7.0s"
          ],
          [
           "chb17a_05.edf-->chb17a_06.edf:\n7.0s"
          ],
          [
           "chb17a_06.edf-->chb17a_08.edf:\n3640.0s"
          ],
          [
           "chb17a_08.edf-->chb17b_57.edf:\n173442.0s"
          ],
          [
           "chb17b_57.edf-->chb17b_58.edf:\n7.0s"
          ],
          [
           "chb17b_58.edf-->chb17b_59.edf:\n7.0s"
          ],
          [
           "chb17b_59.edf-->chb17b_60.edf:\n6.0s"
          ],
          [
           "chb17b_60.edf-->chb17b_63.edf:\n7221.0s"
          ],
          [
           "chb17b_63.edf-->chb17b_67.edf:\n9610.0s"
          ],
          [
           "chb17b_67.edf-->chb17b_68.edf:\n7.0s"
          ],
          [
           "chb17b_68.edf-->chb17b_69.edf:\n7.0s"
          ],
          [
           "chb17b_69.edf-->chb17c_02.edf:\n29576.0s"
          ],
          [
           "chb17c_02.edf-->chb17c_03.edf:\n7.0s"
          ],
          [
           "chb17c_03.edf-->chb17c_04.edf:\n7.0s"
          ],
          [
           "chb17c_04.edf-->chb17c_05.edf:\n6.0s"
          ],
          [
           "chb17c_05.edf-->chb17c_06.edf:\n7.0s"
          ],
          [
           "chb17c_06.edf-->chb17c_07.edf:\n7.0s"
          ],
          [
           "chb17c_07.edf-->chb17c_08.edf:\n7.0s"
          ],
          [
           "chb17c_08.edf-->chb17c_13.edf:\n14715.0s"
          ],
          [
           "chb18_01.edf-->chb18_02.edf:\n83.0s"
          ],
          [
           "chb18_02.edf-->chb18_03.edf:\n7.0s"
          ],
          [
           "chb18_03.edf-->chb18_04.edf:\n7.0s"
          ],
          [
           "chb18_04.edf-->chb18_05.edf:\n7.0s"
          ],
          [
           "chb18_05.edf-->chb18_06.edf:\n7.0s"
          ],
          [
           "chb18_06.edf-->chb18_07.edf:\n7.0s"
          ],
          [
           "chb18_07.edf-->chb18_08.edf:\n6.0s"
          ],
          [
           "chb18_08.edf-->chb18_09.edf:\n7.0s"
          ],
          [
           "chb18_09.edf-->chb18_10.edf:\n7.0s"
          ],
          [
           "chb18_10.edf-->chb18_11.edf:\n7.0s"
          ],
          [
           "chb18_11.edf-->chb18_12.edf:\n7.0s"
          ],
          [
           "chb18_12.edf-->chb18_13.edf:\n7.0s"
          ],
          [
           "chb18_13.edf-->chb18_14.edf:\n6.0s"
          ],
          [
           "chb18_14.edf-->chb18_15.edf:\n7.0s"
          ],
          [
           "chb18_15.edf-->chb18_16.edf:\n7.0s"
          ],
          [
           "chb18_16.edf-->chb18_17.edf:\n7.0s"
          ],
          [
           "chb18_17.edf-->chb18_18.edf:\n21650.0s"
          ],
          [
           "chb18_18.edf-->chb18_19.edf:\n7.0s"
          ],
          [
           "chb18_19.edf-->chb18_20.edf:\n7.0s"
          ],
          [
           "chb18_20.edf-->chb18_21.edf:\n6.0s"
          ],
          [
           "chb18_21.edf-->chb18_22.edf:\n7.0s"
          ],
          [
           "chb18_22.edf-->chb18_23.edf:\n7221.0s"
          ],
          [
           "chb18_23.edf-->chb18_24.edf:\n7.0s"
          ],
          [
           "chb18_24.edf-->chb18_25.edf:\n6.0s"
          ],
          [
           "chb18_25.edf-->chb18_26.edf:\n7.0s"
          ],
          [
           "chb18_26.edf-->chb18_27.edf:\n7.0s"
          ],
          [
           "chb18_27.edf-->chb18_28.edf:\n7.0s"
          ],
          [
           "chb18_28.edf-->chb18_29.edf:\n7.0s"
          ],
          [
           "chb18_29.edf-->chb18_30.edf:\n7.0s"
          ],
          [
           "chb18_30.edf-->chb18_31.edf:\n7286.0s"
          ],
          [
           "chb18_31.edf-->chb18_32.edf:\n3616.0s"
          ],
          [
           "chb18_32.edf-->chb18_33.edf:\n10828.0s"
          ],
          [
           "chb18_33.edf-->chb18_34.edf:\n10890.0s"
          ],
          [
           "chb18_34.edf-->chb18_35.edf:\n43286.0s"
          ],
          [
           "chb18_35.edf-->chb18_36.edf:\n83031.0s"
          ],
          [
           "chb19_01.edf-->chb19_02.edf:\n2.0s"
          ],
          [
           "chb19_02.edf-->chb19_03.edf:\n8.0s"
          ],
          [
           "chb19_03.edf-->chb19_04.edf:\n6.0s"
          ],
          [
           "chb19_04.edf-->chb19_05.edf:\n7.0s"
          ],
          [
           "chb19_05.edf-->chb19_06.edf:\n7.0s"
          ],
          [
           "chb19_06.edf-->chb19_07.edf:\n7.0s"
          ],
          [
           "chb19_07.edf-->chb19_08.edf:\n7.0s"
          ],
          [
           "chb19_08.edf-->chb19_09.edf:\n6.0s"
          ],
          [
           "chb19_09.edf-->chb19_10.edf:\n7.0s"
          ],
          [
           "chb19_10.edf-->chb19_11.edf:\n7.0s"
          ],
          [
           "chb19_11.edf-->chb19_12.edf:\n7.0s"
          ],
          [
           "chb19_12.edf-->chb19_13.edf:\n6.0s"
          ],
          [
           "chb19_13.edf-->chb19_14.edf:\n7.0s"
          ],
          [
           "chb19_14.edf-->chb19_15.edf:\n7.0s"
          ],
          [
           "chb19_15.edf-->chb19_16.edf:\n7.0s"
          ],
          [
           "chb19_16.edf-->chb19_17.edf:\n10827.0s"
          ],
          [
           "chb19_17.edf-->chb19_18.edf:\n7.0s"
          ],
          [
           "chb19_18.edf-->chb19_19.edf:\n6.0s"
          ],
          [
           "chb19_19.edf-->chb19_20.edf:\n7.0s"
          ],
          [
           "chb19_20.edf-->chb19_21.edf:\n7.0s"
          ],
          [
           "chb19_21.edf-->chb19_22.edf:\n18040.0s"
          ],
          [
           "chb19_22.edf-->chb19_23.edf:\n7.0s"
          ],
          [
           "chb19_23.edf-->chb19_24.edf:\n7.0s"
          ],
          [
           "chb19_24.edf-->chb19_25.edf:\n6.0s"
          ],
          [
           "chb19_25.edf-->chb19_26.edf:\n7221.0s"
          ],
          [
           "chb19_26.edf-->chb19_27.edf:\n76995.0s"
          ],
          [
           "chb19_27.edf-->chb19_28.edf:\n75957.0s"
          ],
          [
           "chb19_28.edf-->chb19_29.edf:\n18085.0s"
          ],
          [
           "chb19_29.edf-->chb19_30.edf:\n10899.0s"
          ],
          [
           "chb20_01.edf-->chb20_02.edf:\n30.0s"
          ],
          [
           "chb20_02.edf-->chb20_03.edf:\n7.0s"
          ],
          [
           "chb20_03.edf-->chb20_04.edf:\n8.0s"
          ],
          [
           "chb20_04.edf-->chb20_05.edf:\n7.0s"
          ],
          [
           "chb20_05.edf-->chb20_06.edf:\n7.0s"
          ],
          [
           "chb20_06.edf-->chb20_07.edf:\n6.0s"
          ],
          [
           "chb20_07.edf-->chb20_08.edf:\n7.0s"
          ],
          [
           "chb20_08.edf-->chb20_11.edf:\n7220.0s"
          ],
          [
           "chb20_11.edf-->chb20_12.edf:\n7.0s"
          ],
          [
           "chb20_12.edf-->chb20_13.edf:\n7.0s"
          ],
          [
           "chb20_13.edf-->chb20_14.edf:\n7.0s"
          ],
          [
           "chb20_14.edf-->chb20_15.edf:\n7.0s"
          ],
          [
           "chb20_15.edf-->chb20_16.edf:\n6.0s"
          ],
          [
           "chb20_16.edf-->chb20_17.edf:\n15.0s"
          ],
          [
           "chb20_17.edf-->chb20_21.edf:\n10563.0s"
          ],
          [
           "chb20_21.edf-->chb20_22.edf:\n81.0s"
          ],
          [
           "chb20_22.edf-->chb20_23.edf:\n376.0s"
          ],
          [
           "chb20_23.edf-->chb20_25.edf:\n3852.0s"
          ],
          [
           "chb20_25.edf-->chb20_26.edf:\n7.0s"
          ],
          [
           "chb20_26.edf-->chb20_27.edf:\n6.0s"
          ],
          [
           "chb20_27.edf-->chb20_28.edf:\n7.0s"
          ],
          [
           "chb20_28.edf-->chb20_29.edf:\n7.0s"
          ],
          [
           "chb20_29.edf-->chb20_30.edf:\n7.0s"
          ],
          [
           "chb20_30.edf-->chb20_31.edf:\n7.0s"
          ],
          [
           "chb20_31.edf-->chb20_34.edf:\n7220.0s"
          ],
          [
           "chb20_34.edf-->chb20_59.edf:\n81463.0s"
          ],
          [
           "chb20_59.edf-->chb20_60.edf:\n7.0s"
          ],
          [
           "chb20_60.edf-->chb20_68.edf:\n25256.0s"
          ],
          [
           "chb21_01.edf-->chb21_02.edf:\n4.0s"
          ],
          [
           "chb21_02.edf-->chb21_03.edf:\n8.0s"
          ],
          [
           "chb21_03.edf-->chb21_04.edf:\n7.0s"
          ],
          [
           "chb21_04.edf-->chb21_05.edf:\n7.0s"
          ],
          [
           "chb21_05.edf-->chb21_06.edf:\n7.0s"
          ],
          [
           "chb21_06.edf-->chb21_07.edf:\n6.0s"
          ],
          [
           "chb21_07.edf-->chb21_08.edf:\n7.0s"
          ],
          [
           "chb21_08.edf-->chb21_09.edf:\n7.0s"
          ],
          [
           "chb21_09.edf-->chb21_10.edf:\n7.0s"
          ],
          [
           "chb21_10.edf-->chb21_11.edf:\n7.0s"
          ],
          [
           "chb21_11.edf-->chb21_12.edf:\n7.0s"
          ],
          [
           "chb21_12.edf-->chb21_13.edf:\n7.0s"
          ],
          [
           "chb21_13.edf-->chb21_14.edf:\n7.0s"
          ],
          [
           "chb21_14.edf-->chb21_15.edf:\n7.0s"
          ],
          [
           "chb21_15.edf-->chb21_16.edf:\n7.0s"
          ],
          [
           "chb21_16.edf-->chb21_17.edf:\n33.0s"
          ],
          [
           "chb21_17.edf-->chb21_18.edf:\n7.0s"
          ],
          [
           "chb21_18.edf-->chb21_19.edf:\n7.0s"
          ],
          [
           "chb21_19.edf-->chb21_20.edf:\n7.0s"
          ],
          [
           "chb21_20.edf-->chb21_21.edf:\n7225.0s"
          ],
          [
           "chb21_21.edf-->chb21_22.edf:\n7.0s"
          ],
          [
           "chb21_22.edf-->chb21_23.edf:\n2779.0s"
          ],
          [
           "chb21_23.edf-->chb21_24.edf:\n3610.0s"
          ],
          [
           "chb21_24.edf-->chb21_25.edf:\n3614.0s"
          ],
          [
           "chb21_25.edf-->chb21_26.edf:\n7.0s"
          ],
          [
           "chb21_26.edf-->chb21_27.edf:\n7.0s"
          ],
          [
           "chb21_27.edf-->chb21_28.edf:\n7.0s"
          ],
          [
           "chb21_28.edf-->chb21_29.edf:\n21648.0s"
          ],
          [
           "chb21_29.edf-->chb21_30.edf:\n14434.0s"
          ],
          [
           "chb21_30.edf-->chb21_31.edf:\n28862.0s"
          ],
          [
           "chb21_31.edf-->chb21_32.edf:\n7.0s"
          ],
          [
           "chb21_32.edf-->chb21_33.edf:\n7.0s"
          ],
          [
           "chb22_01.edf-->chb22_02.edf:\n3.0s"
          ],
          [
           "chb22_02.edf-->chb22_03.edf:\n6.0s"
          ],
          [
           "chb22_03.edf-->chb22_04.edf:\n7.0s"
          ],
          [
           "chb22_04.edf-->chb22_05.edf:\n7.0s"
          ],
          [
           "chb22_05.edf-->chb22_06.edf:\n7.0s"
          ],
          [
           "chb22_06.edf-->chb22_07.edf:\n6.0s"
          ],
          [
           "chb22_07.edf-->chb22_08.edf:\n7.0s"
          ],
          [
           "chb22_08.edf-->chb22_09.edf:\n7.0s"
          ],
          [
           "chb22_09.edf-->chb22_10.edf:\n6.0s"
          ],
          [
           "chb22_10.edf-->chb22_11.edf:\n7.0s"
          ],
          [
           "chb22_11.edf-->chb22_15.edf:\n11106.0s"
          ],
          [
           "chb22_15.edf-->chb22_16.edf:\n7.0s"
          ],
          [
           "chb22_16.edf-->chb22_17.edf:\n6.0s"
          ],
          [
           "chb22_17.edf-->chb22_18.edf:\n7.0s"
          ],
          [
           "chb22_18.edf-->chb22_19.edf:\n7.0s"
          ],
          [
           "chb22_19.edf-->chb22_20.edf:\n7.0s"
          ],
          [
           "chb22_20.edf-->chb22_21.edf:\n7.0s"
          ],
          [
           "chb22_21.edf-->chb22_22.edf:\n7.0s"
          ],
          [
           "chb22_22.edf-->chb22_23.edf:\n7.0s"
          ],
          [
           "chb22_23.edf-->chb22_24.edf:\n6.0s"
          ],
          [
           "chb22_24.edf-->chb22_25.edf:\n7.0s"
          ],
          [
           "chb22_25.edf-->chb22_26.edf:\n7.0s"
          ],
          [
           "chb22_26.edf-->chb22_27.edf:\n7.0s"
          ],
          [
           "chb22_27.edf-->chb22_28.edf:\n7.0s"
          ],
          [
           "chb22_28.edf-->chb22_29.edf:\n6.0s"
          ],
          [
           "chb22_29.edf-->chb22_30.edf:\n7.0s"
          ],
          [
           "chb22_30.edf-->chb22_38.edf:\n25258.0s"
          ],
          [
           "chb22_38.edf-->chb22_51.edf:\n44176.0s"
          ],
          [
           "chb22_51.edf-->chb22_54.edf:\n7221.0s"
          ],
          [
           "chb22_54.edf-->chb22_77.edf:\n73794.0s"
          ],
          [
           "chb23_06.edf-->chb23_07.edf:\n33.0s"
          ],
          [
           "chb23_07.edf-->chb23_08.edf:\n129.0s"
          ],
          [
           "chb23_08.edf-->chb23_09.edf:\n20.0s"
          ],
          [
           "chb23_09.edf-->chb23_10.edf:\n27.0s"
          ],
          [
           "chb23_10.edf-->chb23_16.edf:\n54292.0s"
          ],
          [
           "chb23_16.edf-->chb23_17.edf:\n10.0s"
          ],
          [
           "chb23_17.edf-->chb23_19.edf:\n18719.0s"
          ],
          [
           "chb23_19.edf-->chb23_20.edf:\n8.0s"
          ],
          [
           "chb24_01.edf-->chb24_02.edf:\n3.0s"
          ],
          [
           "chb24_02.edf-->chb24_03.edf:\n8.0s"
          ],
          [
           "chb24_03.edf-->chb24_04.edf:\n7.0s"
          ],
          [
           "chb24_04.edf-->chb24_05.edf:\n7.0s"
          ],
          [
           "chb24_05.edf-->chb24_06.edf:\n7.0s"
          ],
          [
           "chb24_06.edf-->chb24_07.edf:\n8.0s"
          ],
          [
           "chb24_07.edf-->chb24_08.edf:\n7.0s"
          ],
          [
           "chb24_08.edf-->chb24_09.edf:\n7.0s"
          ],
          [
           "chb24_09.edf-->chb24_10.edf:\n7.0s"
          ],
          [
           "chb24_10.edf-->chb24_11.edf:\n7.0s"
          ],
          [
           "chb24_11.edf-->chb24_12.edf:\n7.0s"
          ],
          [
           "chb24_12.edf-->chb24_13.edf:\n7.0s"
          ],
          [
           "chb24_13.edf-->chb24_14.edf:\n7.0s"
          ],
          [
           "chb24_14.edf-->chb24_15.edf:\n8.0s"
          ],
          [
           "chb24_15.edf-->chb24_16.edf:\n7.0s"
          ],
          [
           "chb24_16.edf-->chb24_17.edf:\n7.0s"
          ],
          [
           "chb24_17.edf-->chb24_18.edf:\n7.0s"
          ],
          [
           "chb24_18.edf-->chb24_19.edf:\n9.0s"
          ],
          [
           "chb24_19.edf-->chb24_20.edf:\n8.0s"
          ],
          [
           "chb24_20.edf-->chb24_21.edf:\n7.0s"
          ],
          [
           "chb24_21.edf-->chb24_22.edf:\n7.0s"
          ]
         ],
         "hovertemplate": "Duration (seconds)=%{y}<br>Description=%{customdata[0]}<extra></extra>",
         "legendgroup": "",
         "marker": {
          "color": "#636efa"
         },
         "name": "",
         "offsetgroup": "",
         "orientation": "v",
         "points": "all",
         "scalegroup": "True",
         "showlegend": false,
         "type": "violin",
         "x0": " ",
         "xaxis": "x",
         "y": [
          3,
          7,
          8,
          7,
          7,
          7,
          7,
          16,
          11,
          7,
          8,
          7,
          8,
          7,
          7,
          8,
          7,
          7,
          7,
          243,
          3,
          9,
          8,
          8,
          8,
          14,
          47,
          7,
          9,
          8,
          7,
          7,
          10197,
          3,
          7,
          8,
          7,
          7,
          7,
          7,
          7222,
          3610,
          7,
          7,
          7,
          8,
          7,
          8,
          7,
          7,
          8,
          7,
          7,
          8,
          7221,
          8,
          3758,
          8,
          7,
          7,
          8,
          7,
          8,
          4279,
          13,
          8,
          7,
          8,
          7,
          8,
          7,
          8,
          7,
          7,
          8,
          7,
          3,
          8,
          7,
          7,
          7,
          7,
          7,
          8,
          7,
          7,
          7,
          8,
          7,
          7,
          7,
          7,
          7,
          8,
          9,
          11554,
          7,
          7,
          12,
          8,
          7,
          8,
          7,
          7,
          8,
          65435,
          8,
          7,
          21651,
          7,
          3615,
          55423,
          7,
          52,
          8,
          7,
          7,
          257,
          3,
          161,
          3,
          8,
          7,
          127,
          44,
          33,
          83,
          8,
          8,
          140,
          1788,
          14416,
          8,
          7,
          103,
          254,
          8,
          7,
          1083,
          106,
          46,
          8,
          7,
          8,
          8,
          8,
          7,
          8,
          3347,
          3,
          8,
          8,
          7,
          142,
          42,
          7,
          7,
          8,
          6,
          7,
          7,
          7,
          7,
          8,
          7,
          7,
          6,
          7,
          7,
          7,
          8,
          7,
          7,
          7,
          6,
          7,
          7,
          7,
          8,
          7,
          7,
          7,
          7,
          7,
          7,
          7,
          7,
          7,
          7,
          7,
          7,
          7,
          35,
          8,
          9,
          28,
          3,
          8,
          8,
          8,
          7,
          14416,
          10,
          15,
          8,
          8,
          150,
          4,
          66321,
          94,
          8,
          8,
          7,
          8,
          42,
          288,
          4,
          8,
          7,
          9,
          7,
          19,
          4,
          8,
          13,
          9,
          124,
          2,
          8,
          7,
          11260,
          7,
          7,
          8,
          7,
          8,
          7,
          8,
          7,
          8,
          7,
          8,
          7,
          8,
          7,
          11567,
          68,
          360,
          3,
          49,
          8,
          28,
          8,
          8,
          8,
          7,
          7,
          13,
          49,
          174,
          86,
          52,
          139,
          4,
          42,
          7,
          8,
          7,
          8,
          8,
          7,
          21630,
          8,
          7,
          8,
          7,
          7,
          8,
          7,
          8,
          143,
          8,
          29005,
          38,
          7215,
          28,
          23324,
          344930,
          29,
          7,
          7,
          6,
          7,
          7,
          7,
          7,
          6,
          7,
          7,
          7,
          6,
          7,
          7,
          7,
          7,
          7,
          14437,
          7,
          6,
          7,
          87267,
          7,
          7,
          34,
          3614,
          3614,
          7,
          6,
          7,
          61725,
          32467,
          21648,
          3718,
          7,
          48,
          32,
          16102,
          6,
          8,
          548,
          2,
          7221,
          6,
          7,
          7322,
          6,
          7,
          6,
          7,
          6,
          31,
          6,
          7,
          7,
          6,
          6,
          7,
          7,
          7,
          6,
          8,
          6,
          7,
          7,
          6,
          7,
          7,
          7,
          6,
          1772,
          5,
          3634,
          7,
          3613,
          18041,
          18083,
          7,
          7,
          7,
          6,
          21647,
          25290,
          7,
          3614,
          6,
          7,
          3614,
          3,
          7,
          7,
          3614,
          7,
          10827,
          7,
          7,
          7,
          3613,
          7,
          7,
          7,
          7,
          3614,
          3614,
          6,
          7,
          7,
          3614,
          7,
          3613,
          14434,
          3614,
          7221,
          28,
          7,
          7,
          6,
          7,
          7,
          7,
          7,
          7,
          7,
          7,
          7,
          7,
          7,
          7,
          7,
          3614,
          7,
          3614,
          10902,
          3614,
          7,
          7,
          6,
          7,
          7,
          3614,
          3614,
          7221,
          14439,
          7,
          7678,
          26,
          7,
          7,
          3635,
          21669,
          7,
          7,
          3,
          7,
          6,
          7,
          7,
          7,
          7,
          7,
          7,
          7,
          7,
          7,
          7,
          7,
          7,
          7,
          7,
          7,
          7,
          7,
          7,
          3640,
          173442,
          7,
          7,
          6,
          7221,
          9610,
          7,
          7,
          29576,
          7,
          7,
          6,
          7,
          7,
          7,
          14715,
          83,
          7,
          7,
          7,
          7,
          7,
          6,
          7,
          7,
          7,
          7,
          7,
          6,
          7,
          7,
          7,
          21650,
          7,
          7,
          6,
          7,
          7221,
          7,
          6,
          7,
          7,
          7,
          7,
          7,
          7286,
          3616,
          10828,
          10890,
          43286,
          83031,
          2,
          8,
          6,
          7,
          7,
          7,
          7,
          6,
          7,
          7,
          7,
          6,
          7,
          7,
          7,
          10827,
          7,
          6,
          7,
          7,
          18040,
          7,
          7,
          6,
          7221,
          76995,
          75957,
          18085,
          10899,
          30,
          7,
          8,
          7,
          7,
          6,
          7,
          7220,
          7,
          7,
          7,
          7,
          6,
          15,
          10563,
          81,
          376,
          3852,
          7,
          6,
          7,
          7,
          7,
          7,
          7220,
          81463,
          7,
          25256,
          4,
          8,
          7,
          7,
          7,
          6,
          7,
          7,
          7,
          7,
          7,
          7,
          7,
          7,
          7,
          33,
          7,
          7,
          7,
          7225,
          7,
          2779,
          3610,
          3614,
          7,
          7,
          7,
          21648,
          14434,
          28862,
          7,
          7,
          3,
          6,
          7,
          7,
          7,
          6,
          7,
          7,
          6,
          7,
          11106,
          7,
          6,
          7,
          7,
          7,
          7,
          7,
          7,
          6,
          7,
          7,
          7,
          7,
          6,
          7,
          25258,
          44176,
          7221,
          73794,
          33,
          129,
          20,
          27,
          54292,
          10,
          18719,
          8,
          3,
          8,
          7,
          7,
          7,
          8,
          7,
          7,
          7,
          7,
          7,
          7,
          7,
          8,
          7,
          7,
          7,
          9,
          8,
          7,
          7
         ],
         "y0": " ",
         "yaxis": "y"
        }
       ],
       "layout": {
        "legend": {
         "tracegroupgap": 0
        },
        "template": {
         "data": {
          "bar": [
           {
            "error_x": {
             "color": "#2a3f5f"
            },
            "error_y": {
             "color": "#2a3f5f"
            },
            "marker": {
             "line": {
              "color": "#E5ECF6",
              "width": 0.5
             },
             "pattern": {
              "fillmode": "overlay",
              "size": 10,
              "solidity": 0.2
             }
            },
            "type": "bar"
           }
          ],
          "barpolar": [
           {
            "marker": {
             "line": {
              "color": "#E5ECF6",
              "width": 0.5
             },
             "pattern": {
              "fillmode": "overlay",
              "size": 10,
              "solidity": 0.2
             }
            },
            "type": "barpolar"
           }
          ],
          "carpet": [
           {
            "aaxis": {
             "endlinecolor": "#2a3f5f",
             "gridcolor": "white",
             "linecolor": "white",
             "minorgridcolor": "white",
             "startlinecolor": "#2a3f5f"
            },
            "baxis": {
             "endlinecolor": "#2a3f5f",
             "gridcolor": "white",
             "linecolor": "white",
             "minorgridcolor": "white",
             "startlinecolor": "#2a3f5f"
            },
            "type": "carpet"
           }
          ],
          "choropleth": [
           {
            "colorbar": {
             "outlinewidth": 0,
             "ticks": ""
            },
            "type": "choropleth"
           }
          ],
          "contour": [
           {
            "colorbar": {
             "outlinewidth": 0,
             "ticks": ""
            },
            "colorscale": [
             [
              0,
              "#0d0887"
             ],
             [
              0.1111111111111111,
              "#46039f"
             ],
             [
              0.2222222222222222,
              "#7201a8"
             ],
             [
              0.3333333333333333,
              "#9c179e"
             ],
             [
              0.4444444444444444,
              "#bd3786"
             ],
             [
              0.5555555555555556,
              "#d8576b"
             ],
             [
              0.6666666666666666,
              "#ed7953"
             ],
             [
              0.7777777777777778,
              "#fb9f3a"
             ],
             [
              0.8888888888888888,
              "#fdca26"
             ],
             [
              1,
              "#f0f921"
             ]
            ],
            "type": "contour"
           }
          ],
          "contourcarpet": [
           {
            "colorbar": {
             "outlinewidth": 0,
             "ticks": ""
            },
            "type": "contourcarpet"
           }
          ],
          "heatmap": [
           {
            "colorbar": {
             "outlinewidth": 0,
             "ticks": ""
            },
            "colorscale": [
             [
              0,
              "#0d0887"
             ],
             [
              0.1111111111111111,
              "#46039f"
             ],
             [
              0.2222222222222222,
              "#7201a8"
             ],
             [
              0.3333333333333333,
              "#9c179e"
             ],
             [
              0.4444444444444444,
              "#bd3786"
             ],
             [
              0.5555555555555556,
              "#d8576b"
             ],
             [
              0.6666666666666666,
              "#ed7953"
             ],
             [
              0.7777777777777778,
              "#fb9f3a"
             ],
             [
              0.8888888888888888,
              "#fdca26"
             ],
             [
              1,
              "#f0f921"
             ]
            ],
            "type": "heatmap"
           }
          ],
          "heatmapgl": [
           {
            "colorbar": {
             "outlinewidth": 0,
             "ticks": ""
            },
            "colorscale": [
             [
              0,
              "#0d0887"
             ],
             [
              0.1111111111111111,
              "#46039f"
             ],
             [
              0.2222222222222222,
              "#7201a8"
             ],
             [
              0.3333333333333333,
              "#9c179e"
             ],
             [
              0.4444444444444444,
              "#bd3786"
             ],
             [
              0.5555555555555556,
              "#d8576b"
             ],
             [
              0.6666666666666666,
              "#ed7953"
             ],
             [
              0.7777777777777778,
              "#fb9f3a"
             ],
             [
              0.8888888888888888,
              "#fdca26"
             ],
             [
              1,
              "#f0f921"
             ]
            ],
            "type": "heatmapgl"
           }
          ],
          "histogram": [
           {
            "marker": {
             "pattern": {
              "fillmode": "overlay",
              "size": 10,
              "solidity": 0.2
             }
            },
            "type": "histogram"
           }
          ],
          "histogram2d": [
           {
            "colorbar": {
             "outlinewidth": 0,
             "ticks": ""
            },
            "colorscale": [
             [
              0,
              "#0d0887"
             ],
             [
              0.1111111111111111,
              "#46039f"
             ],
             [
              0.2222222222222222,
              "#7201a8"
             ],
             [
              0.3333333333333333,
              "#9c179e"
             ],
             [
              0.4444444444444444,
              "#bd3786"
             ],
             [
              0.5555555555555556,
              "#d8576b"
             ],
             [
              0.6666666666666666,
              "#ed7953"
             ],
             [
              0.7777777777777778,
              "#fb9f3a"
             ],
             [
              0.8888888888888888,
              "#fdca26"
             ],
             [
              1,
              "#f0f921"
             ]
            ],
            "type": "histogram2d"
           }
          ],
          "histogram2dcontour": [
           {
            "colorbar": {
             "outlinewidth": 0,
             "ticks": ""
            },
            "colorscale": [
             [
              0,
              "#0d0887"
             ],
             [
              0.1111111111111111,
              "#46039f"
             ],
             [
              0.2222222222222222,
              "#7201a8"
             ],
             [
              0.3333333333333333,
              "#9c179e"
             ],
             [
              0.4444444444444444,
              "#bd3786"
             ],
             [
              0.5555555555555556,
              "#d8576b"
             ],
             [
              0.6666666666666666,
              "#ed7953"
             ],
             [
              0.7777777777777778,
              "#fb9f3a"
             ],
             [
              0.8888888888888888,
              "#fdca26"
             ],
             [
              1,
              "#f0f921"
             ]
            ],
            "type": "histogram2dcontour"
           }
          ],
          "mesh3d": [
           {
            "colorbar": {
             "outlinewidth": 0,
             "ticks": ""
            },
            "type": "mesh3d"
           }
          ],
          "parcoords": [
           {
            "line": {
             "colorbar": {
              "outlinewidth": 0,
              "ticks": ""
             }
            },
            "type": "parcoords"
           }
          ],
          "pie": [
           {
            "automargin": true,
            "type": "pie"
           }
          ],
          "scatter": [
           {
            "fillpattern": {
             "fillmode": "overlay",
             "size": 10,
             "solidity": 0.2
            },
            "type": "scatter"
           }
          ],
          "scatter3d": [
           {
            "line": {
             "colorbar": {
              "outlinewidth": 0,
              "ticks": ""
             }
            },
            "marker": {
             "colorbar": {
              "outlinewidth": 0,
              "ticks": ""
             }
            },
            "type": "scatter3d"
           }
          ],
          "scattercarpet": [
           {
            "marker": {
             "colorbar": {
              "outlinewidth": 0,
              "ticks": ""
             }
            },
            "type": "scattercarpet"
           }
          ],
          "scattergeo": [
           {
            "marker": {
             "colorbar": {
              "outlinewidth": 0,
              "ticks": ""
             }
            },
            "type": "scattergeo"
           }
          ],
          "scattergl": [
           {
            "marker": {
             "colorbar": {
              "outlinewidth": 0,
              "ticks": ""
             }
            },
            "type": "scattergl"
           }
          ],
          "scattermapbox": [
           {
            "marker": {
             "colorbar": {
              "outlinewidth": 0,
              "ticks": ""
             }
            },
            "type": "scattermapbox"
           }
          ],
          "scatterpolar": [
           {
            "marker": {
             "colorbar": {
              "outlinewidth": 0,
              "ticks": ""
             }
            },
            "type": "scatterpolar"
           }
          ],
          "scatterpolargl": [
           {
            "marker": {
             "colorbar": {
              "outlinewidth": 0,
              "ticks": ""
             }
            },
            "type": "scatterpolargl"
           }
          ],
          "scatterternary": [
           {
            "marker": {
             "colorbar": {
              "outlinewidth": 0,
              "ticks": ""
             }
            },
            "type": "scatterternary"
           }
          ],
          "surface": [
           {
            "colorbar": {
             "outlinewidth": 0,
             "ticks": ""
            },
            "colorscale": [
             [
              0,
              "#0d0887"
             ],
             [
              0.1111111111111111,
              "#46039f"
             ],
             [
              0.2222222222222222,
              "#7201a8"
             ],
             [
              0.3333333333333333,
              "#9c179e"
             ],
             [
              0.4444444444444444,
              "#bd3786"
             ],
             [
              0.5555555555555556,
              "#d8576b"
             ],
             [
              0.6666666666666666,
              "#ed7953"
             ],
             [
              0.7777777777777778,
              "#fb9f3a"
             ],
             [
              0.8888888888888888,
              "#fdca26"
             ],
             [
              1,
              "#f0f921"
             ]
            ],
            "type": "surface"
           }
          ],
          "table": [
           {
            "cells": {
             "fill": {
              "color": "#EBF0F8"
             },
             "line": {
              "color": "white"
             }
            },
            "header": {
             "fill": {
              "color": "#C8D4E3"
             },
             "line": {
              "color": "white"
             }
            },
            "type": "table"
           }
          ]
         },
         "layout": {
          "annotationdefaults": {
           "arrowcolor": "#2a3f5f",
           "arrowhead": 0,
           "arrowwidth": 1
          },
          "autotypenumbers": "strict",
          "coloraxis": {
           "colorbar": {
            "outlinewidth": 0,
            "ticks": ""
           }
          },
          "colorscale": {
           "diverging": [
            [
             0,
             "#8e0152"
            ],
            [
             0.1,
             "#c51b7d"
            ],
            [
             0.2,
             "#de77ae"
            ],
            [
             0.3,
             "#f1b6da"
            ],
            [
             0.4,
             "#fde0ef"
            ],
            [
             0.5,
             "#f7f7f7"
            ],
            [
             0.6,
             "#e6f5d0"
            ],
            [
             0.7,
             "#b8e186"
            ],
            [
             0.8,
             "#7fbc41"
            ],
            [
             0.9,
             "#4d9221"
            ],
            [
             1,
             "#276419"
            ]
           ],
           "sequential": [
            [
             0,
             "#0d0887"
            ],
            [
             0.1111111111111111,
             "#46039f"
            ],
            [
             0.2222222222222222,
             "#7201a8"
            ],
            [
             0.3333333333333333,
             "#9c179e"
            ],
            [
             0.4444444444444444,
             "#bd3786"
            ],
            [
             0.5555555555555556,
             "#d8576b"
            ],
            [
             0.6666666666666666,
             "#ed7953"
            ],
            [
             0.7777777777777778,
             "#fb9f3a"
            ],
            [
             0.8888888888888888,
             "#fdca26"
            ],
            [
             1,
             "#f0f921"
            ]
           ],
           "sequentialminus": [
            [
             0,
             "#0d0887"
            ],
            [
             0.1111111111111111,
             "#46039f"
            ],
            [
             0.2222222222222222,
             "#7201a8"
            ],
            [
             0.3333333333333333,
             "#9c179e"
            ],
            [
             0.4444444444444444,
             "#bd3786"
            ],
            [
             0.5555555555555556,
             "#d8576b"
            ],
            [
             0.6666666666666666,
             "#ed7953"
            ],
            [
             0.7777777777777778,
             "#fb9f3a"
            ],
            [
             0.8888888888888888,
             "#fdca26"
            ],
            [
             1,
             "#f0f921"
            ]
           ]
          },
          "colorway": [
           "#636efa",
           "#EF553B",
           "#00cc96",
           "#ab63fa",
           "#FFA15A",
           "#19d3f3",
           "#FF6692",
           "#B6E880",
           "#FF97FF",
           "#FECB52"
          ],
          "font": {
           "color": "#2a3f5f"
          },
          "geo": {
           "bgcolor": "white",
           "lakecolor": "white",
           "landcolor": "#E5ECF6",
           "showlakes": true,
           "showland": true,
           "subunitcolor": "white"
          },
          "hoverlabel": {
           "align": "left"
          },
          "hovermode": "closest",
          "mapbox": {
           "style": "light"
          },
          "paper_bgcolor": "white",
          "plot_bgcolor": "#E5ECF6",
          "polar": {
           "angularaxis": {
            "gridcolor": "white",
            "linecolor": "white",
            "ticks": ""
           },
           "bgcolor": "#E5ECF6",
           "radialaxis": {
            "gridcolor": "white",
            "linecolor": "white",
            "ticks": ""
           }
          },
          "scene": {
           "xaxis": {
            "backgroundcolor": "#E5ECF6",
            "gridcolor": "white",
            "gridwidth": 2,
            "linecolor": "white",
            "showbackground": true,
            "ticks": "",
            "zerolinecolor": "white"
           },
           "yaxis": {
            "backgroundcolor": "#E5ECF6",
            "gridcolor": "white",
            "gridwidth": 2,
            "linecolor": "white",
            "showbackground": true,
            "ticks": "",
            "zerolinecolor": "white"
           },
           "zaxis": {
            "backgroundcolor": "#E5ECF6",
            "gridcolor": "white",
            "gridwidth": 2,
            "linecolor": "white",
            "showbackground": true,
            "ticks": "",
            "zerolinecolor": "white"
           }
          },
          "shapedefaults": {
           "line": {
            "color": "#2a3f5f"
           }
          },
          "ternary": {
           "aaxis": {
            "gridcolor": "white",
            "linecolor": "white",
            "ticks": ""
           },
           "baxis": {
            "gridcolor": "white",
            "linecolor": "white",
            "ticks": ""
           },
           "bgcolor": "#E5ECF6",
           "caxis": {
            "gridcolor": "white",
            "linecolor": "white",
            "ticks": ""
           }
          },
          "title": {
           "x": 0.05
          },
          "xaxis": {
           "automargin": true,
           "gridcolor": "white",
           "linecolor": "white",
           "ticks": "",
           "title": {
            "standoff": 15
           },
           "zerolinecolor": "white",
           "zerolinewidth": 2
          },
          "yaxis": {
           "automargin": true,
           "gridcolor": "white",
           "linecolor": "white",
           "ticks": "",
           "title": {
            "standoff": 15
           },
           "zerolinecolor": "white",
           "zerolinewidth": 2
          }
         }
        },
        "title": {
         "text": "All 24 Patients Gap Length"
        },
        "violinmode": "group",
        "xaxis": {
         "anchor": "y",
         "domain": [
          0,
          1
         ]
        },
        "yaxis": {
         "anchor": "x",
         "domain": [
          0,
          1
         ],
         "title": {
          "text": "Duration (seconds)"
         }
        }
       }
      },
      "text/html": [
       "<div>                            <div id=\"2ebba2d5-02c5-4f53-9b53-e8a97edd0f25\" class=\"plotly-graph-div\" style=\"height:525px; width:100%;\"></div>            <script type=\"text/javascript\">                require([\"plotly\"], function(Plotly) {                    window.PLOTLYENV=window.PLOTLYENV || {};                                    if (document.getElementById(\"2ebba2d5-02c5-4f53-9b53-e8a97edd0f25\")) {                    Plotly.newPlot(                        \"2ebba2d5-02c5-4f53-9b53-e8a97edd0f25\",                        [{\"alignmentgroup\":\"True\",\"box\":{\"visible\":true},\"customdata\":[[\"chb01_01.edf-->chb01_02.edf:\\n3.0s\"],[\"chb01_02.edf-->chb01_03.edf:\\n7.0s\"],[\"chb01_03.edf-->chb01_04.edf:\\n8.0s\"],[\"chb01_04.edf-->chb01_05.edf:\\n7.0s\"],[\"chb01_05.edf-->chb01_06.edf:\\n7.0s\"],[\"chb01_06.edf-->chb01_07.edf:\\n7.0s\"],[\"chb01_07.edf-->chb01_08.edf:\\n7.0s\"],[\"chb01_08.edf-->chb01_09.edf:\\n16.0s\"],[\"chb01_09.edf-->chb01_10.edf:\\n11.0s\"],[\"chb01_10.edf-->chb01_11.edf:\\n7.0s\"],[\"chb01_11.edf-->chb01_12.edf:\\n8.0s\"],[\"chb01_12.edf-->chb01_13.edf:\\n7.0s\"],[\"chb01_13.edf-->chb01_14.edf:\\n8.0s\"],[\"chb01_14.edf-->chb01_15.edf:\\n7.0s\"],[\"chb01_15.edf-->chb01_16.edf:\\n7.0s\"],[\"chb01_16.edf-->chb01_17.edf:\\n8.0s\"],[\"chb01_17.edf-->chb01_18.edf:\\n7.0s\"],[\"chb01_18.edf-->chb01_19.edf:\\n7.0s\"],[\"chb01_19.edf-->chb01_20.edf:\\n7.0s\"],[\"chb01_20.edf-->chb01_21.edf:\\n243.0s\"],[\"chb01_21.edf-->chb01_22.edf:\\n3.0s\"],[\"chb01_22.edf-->chb01_23.edf:\\n9.0s\"],[\"chb01_23.edf-->chb01_24.edf:\\n8.0s\"],[\"chb01_24.edf-->chb01_25.edf:\\n8.0s\"],[\"chb01_25.edf-->chb01_26.edf:\\n8.0s\"],[\"chb01_26.edf-->chb01_27.edf:\\n14.0s\"],[\"chb01_27.edf-->chb01_29.edf:\\n47.0s\"],[\"chb01_29.edf-->chb01_30.edf:\\n7.0s\"],[\"chb01_30.edf-->chb01_31.edf:\\n9.0s\"],[\"chb01_31.edf-->chb01_32.edf:\\n8.0s\"],[\"chb01_32.edf-->chb01_33.edf:\\n7.0s\"],[\"chb01_33.edf-->chb01_34.edf:\\n7.0s\"],[\"chb01_34.edf-->chb01_36.edf:\\n10197.0s\"],[\"chb01_36.edf-->chb01_37.edf:\\n3.0s\"],[\"chb01_37.edf-->chb01_38.edf:\\n7.0s\"],[\"chb01_38.edf-->chb01_39.edf:\\n8.0s\"],[\"chb01_39.edf-->chb01_40.edf:\\n7.0s\"],[\"chb01_40.edf-->chb01_41.edf:\\n7.0s\"],[\"chb01_41.edf-->chb01_42.edf:\\n7.0s\"],[\"chb01_42.edf-->chb01_43.edf:\\n7.0s\"],[\"chb01_43.edf-->chb01_46.edf:\\n7222.0s\"],[\"chb02_01.edf-->chb02_02.edf:\\n3610.0s\"],[\"chb02_02.edf-->chb02_03.edf:\\n7.0s\"],[\"chb02_03.edf-->chb02_04.edf:\\n7.0s\"],[\"chb02_04.edf-->chb02_05.edf:\\n7.0s\"],[\"chb02_05.edf-->chb02_06.edf:\\n8.0s\"],[\"chb02_06.edf-->chb02_07.edf:\\n7.0s\"],[\"chb02_07.edf-->chb02_08.edf:\\n8.0s\"],[\"chb02_08.edf-->chb02_09.edf:\\n7.0s\"],[\"chb02_09.edf-->chb02_10.edf:\\n7.0s\"],[\"chb02_10.edf-->chb02_11.edf:\\n8.0s\"],[\"chb02_11.edf-->chb02_12.edf:\\n7.0s\"],[\"chb02_12.edf-->chb02_13.edf:\\n7.0s\"],[\"chb02_13.edf-->chb02_14.edf:\\n8.0s\"],[\"chb02_14.edf-->chb02_15.edf:\\n7221.0s\"],[\"chb02_15.edf-->chb02_16.edf:\\n8.0s\"],[\"chb02_16.edf-->chb02_16+.edf:\\n3758.0s\"],[\"chb02_16+.edf-->chb02_17.edf:\\n8.0s\"],[\"chb02_17.edf-->chb02_18.edf:\\n7.0s\"],[\"chb02_18.edf-->chb02_19.edf:\\n7.0s\"],[\"chb02_19.edf-->chb02_20.edf:\\n8.0s\"],[\"chb02_20.edf-->chb02_21.edf:\\n7.0s\"],[\"chb02_21.edf-->chb02_22.edf:\\n8.0s\"],[\"chb02_22.edf-->chb02_23.edf:\\n4279.0s\"],[\"chb02_23.edf-->chb02_24.edf:\\n13.0s\"],[\"chb02_24.edf-->chb02_25.edf:\\n8.0s\"],[\"chb02_25.edf-->chb02_26.edf:\\n7.0s\"],[\"chb02_26.edf-->chb02_27.edf:\\n8.0s\"],[\"chb02_27.edf-->chb02_28.edf:\\n7.0s\"],[\"chb02_28.edf-->chb02_29.edf:\\n8.0s\"],[\"chb02_29.edf-->chb02_30.edf:\\n7.0s\"],[\"chb02_30.edf-->chb02_31.edf:\\n8.0s\"],[\"chb02_31.edf-->chb02_32.edf:\\n7.0s\"],[\"chb02_32.edf-->chb02_33.edf:\\n7.0s\"],[\"chb02_33.edf-->chb02_34.edf:\\n8.0s\"],[\"chb02_34.edf-->chb02_35.edf:\\n7.0s\"],[\"chb03_01.edf-->chb03_02.edf:\\n3.0s\"],[\"chb03_02.edf-->chb03_03.edf:\\n8.0s\"],[\"chb03_03.edf-->chb03_04.edf:\\n7.0s\"],[\"chb03_04.edf-->chb03_05.edf:\\n7.0s\"],[\"chb03_05.edf-->chb03_06.edf:\\n7.0s\"],[\"chb03_06.edf-->chb03_07.edf:\\n7.0s\"],[\"chb03_07.edf-->chb03_08.edf:\\n7.0s\"],[\"chb03_08.edf-->chb03_09.edf:\\n8.0s\"],[\"chb03_09.edf-->chb03_10.edf:\\n7.0s\"],[\"chb03_10.edf-->chb03_11.edf:\\n7.0s\"],[\"chb03_11.edf-->chb03_12.edf:\\n7.0s\"],[\"chb03_12.edf-->chb03_13.edf:\\n8.0s\"],[\"chb03_13.edf-->chb03_14.edf:\\n7.0s\"],[\"chb03_14.edf-->chb03_15.edf:\\n7.0s\"],[\"chb03_15.edf-->chb03_16.edf:\\n7.0s\"],[\"chb03_16.edf-->chb03_17.edf:\\n7.0s\"],[\"chb03_17.edf-->chb03_18.edf:\\n7.0s\"],[\"chb03_18.edf-->chb03_19.edf:\\n8.0s\"],[\"chb03_19.edf-->chb03_20.edf:\\n9.0s\"],[\"chb03_20.edf-->chb03_21.edf:\\n11554.0s\"],[\"chb03_21.edf-->chb03_22.edf:\\n7.0s\"],[\"chb03_22.edf-->chb03_23.edf:\\n7.0s\"],[\"chb03_23.edf-->chb03_25.edf:\\n12.0s\"],[\"chb03_25.edf-->chb03_24.edf:\\n8.0s\"],[\"chb03_24.edf-->chb03_26.edf:\\n7.0s\"],[\"chb03_26.edf-->chb03_27.edf:\\n8.0s\"],[\"chb03_27.edf-->chb03_28.edf:\\n7.0s\"],[\"chb03_28.edf-->chb03_29.edf:\\n7.0s\"],[\"chb03_29.edf-->chb03_30.edf:\\n8.0s\"],[\"chb03_30.edf-->chb03_31.edf:\\n65435.0s\"],[\"chb03_31.edf-->chb03_32.edf:\\n8.0s\"],[\"chb03_32.edf-->chb03_33.edf:\\n7.0s\"],[\"chb03_33.edf-->chb03_34.edf:\\n21651.0s\"],[\"chb03_34.edf-->chb03_35.edf:\\n7.0s\"],[\"chb03_35.edf-->chb03_36.edf:\\n3615.0s\"],[\"chb03_36.edf-->chb03_37.edf:\\n55423.0s\"],[\"chb03_37.edf-->chb03_38.edf:\\n7.0s\"],[\"chb04_01.edf-->chb04_02.edf:\\n52.0s\"],[\"chb04_02.edf-->chb04_03.edf:\\n8.0s\"],[\"chb04_03.edf-->chb04_04.edf:\\n7.0s\"],[\"chb04_04.edf-->chb04_05.edf:\\n7.0s\"],[\"chb04_05.edf-->chb04_06.edf:\\n257.0s\"],[\"chb04_06.edf-->chb04_07.edf:\\n3.0s\"],[\"chb04_07.edf-->chb04_08.edf:\\n161.0s\"],[\"chb04_08.edf-->chb04_09.edf:\\n3.0s\"],[\"chb04_09.edf-->chb04_10.edf:\\n8.0s\"],[\"chb04_10.edf-->chb04_11.edf:\\n7.0s\"],[\"chb04_11.edf-->chb04_12.edf:\\n127.0s\"],[\"chb04_12.edf-->chb04_13.edf:\\n44.0s\"],[\"chb04_13.edf-->chb04_14.edf:\\n33.0s\"],[\"chb04_14.edf-->chb04_15.edf:\\n83.0s\"],[\"chb04_15.edf-->chb04_16.edf:\\n8.0s\"],[\"chb04_16.edf-->chb04_17.edf:\\n8.0s\"],[\"chb04_17.edf-->chb04_18.edf:\\n140.0s\"],[\"chb04_18.edf-->chb04_19.edf:\\n1788.0s\"],[\"chb04_19.edf-->chb04_21.edf:\\n14416.0s\"],[\"chb04_21.edf-->chb04_22.edf:\\n8.0s\"],[\"chb04_22.edf-->chb04_23.edf:\\n7.0s\"],[\"chb04_23.edf-->chb04_24.edf:\\n103.0s\"],[\"chb04_24.edf-->chb04_25.edf:\\n254.0s\"],[\"chb04_25.edf-->chb04_26.edf:\\n8.0s\"],[\"chb04_26.edf-->chb04_27.edf:\\n7.0s\"],[\"chb04_27.edf-->chb04_28.edf:\\n1083.0s\"],[\"chb04_28.edf-->chb04_29.edf:\\n106.0s\"],[\"chb04_29.edf-->chb04_30.edf:\\n46.0s\"],[\"chb04_30.edf-->chb04_31.edf:\\n8.0s\"],[\"chb04_31.edf-->chb04_32.edf:\\n7.0s\"],[\"chb04_32.edf-->chb04_33.edf:\\n8.0s\"],[\"chb04_33.edf-->chb04_34.edf:\\n8.0s\"],[\"chb04_34.edf-->chb04_35.edf:\\n8.0s\"],[\"chb04_35.edf-->chb04_36.edf:\\n7.0s\"],[\"chb04_36.edf-->chb04_37.edf:\\n8.0s\"],[\"chb04_37.edf-->chb04_38.edf:\\n3347.0s\"],[\"chb04_38.edf-->chb04_39.edf:\\n3.0s\"],[\"chb04_39.edf-->chb04_40.edf:\\n8.0s\"],[\"chb04_40.edf-->chb04_41.edf:\\n8.0s\"],[\"chb04_41.edf-->chb04_42.edf:\\n7.0s\"],[\"chb04_42.edf-->chb04_43.edf:\\n142.0s\"],[\"chb05_01.edf-->chb05_02.edf:\\n42.0s\"],[\"chb05_02.edf-->chb05_03.edf:\\n7.0s\"],[\"chb05_03.edf-->chb05_04.edf:\\n7.0s\"],[\"chb05_04.edf-->chb05_05.edf:\\n8.0s\"],[\"chb05_05.edf-->chb05_06.edf:\\n6.0s\"],[\"chb05_06.edf-->chb05_07.edf:\\n7.0s\"],[\"chb05_07.edf-->chb05_08.edf:\\n7.0s\"],[\"chb05_08.edf-->chb05_09.edf:\\n7.0s\"],[\"chb05_09.edf-->chb05_10.edf:\\n7.0s\"],[\"chb05_10.edf-->chb05_11.edf:\\n8.0s\"],[\"chb05_11.edf-->chb05_12.edf:\\n7.0s\"],[\"chb05_12.edf-->chb05_13.edf:\\n7.0s\"],[\"chb05_13.edf-->chb05_14.edf:\\n6.0s\"],[\"chb05_14.edf-->chb05_15.edf:\\n7.0s\"],[\"chb05_15.edf-->chb05_16.edf:\\n7.0s\"],[\"chb05_16.edf-->chb05_17.edf:\\n7.0s\"],[\"chb05_17.edf-->chb05_18.edf:\\n8.0s\"],[\"chb05_18.edf-->chb05_19.edf:\\n7.0s\"],[\"chb05_19.edf-->chb05_20.edf:\\n7.0s\"],[\"chb05_20.edf-->chb05_21.edf:\\n7.0s\"],[\"chb05_21.edf-->chb05_22.edf:\\n6.0s\"],[\"chb05_22.edf-->chb05_23.edf:\\n7.0s\"],[\"chb05_23.edf-->chb05_24.edf:\\n7.0s\"],[\"chb05_24.edf-->chb05_25.edf:\\n7.0s\"],[\"chb05_25.edf-->chb05_26.edf:\\n8.0s\"],[\"chb05_26.edf-->chb05_27.edf:\\n7.0s\"],[\"chb05_27.edf-->chb05_28.edf:\\n7.0s\"],[\"chb05_28.edf-->chb05_29.edf:\\n7.0s\"],[\"chb05_29.edf-->chb05_30.edf:\\n7.0s\"],[\"chb05_30.edf-->chb05_31.edf:\\n7.0s\"],[\"chb05_31.edf-->chb05_32.edf:\\n7.0s\"],[\"chb05_32.edf-->chb05_33.edf:\\n7.0s\"],[\"chb05_33.edf-->chb05_34.edf:\\n7.0s\"],[\"chb05_34.edf-->chb05_35.edf:\\n7.0s\"],[\"chb05_35.edf-->chb05_36.edf:\\n7.0s\"],[\"chb05_36.edf-->chb05_37.edf:\\n7.0s\"],[\"chb05_37.edf-->chb05_38.edf:\\n7.0s\"],[\"chb05_38.edf-->chb05_39.edf:\\n7.0s\"],[\"chb06_01.edf-->chb06_02.edf:\\n35.0s\"],[\"chb06_02.edf-->chb06_03.edf:\\n8.0s\"],[\"chb06_03.edf-->chb06_04.edf:\\n9.0s\"],[\"chb06_04.edf-->chb06_05.edf:\\n28.0s\"],[\"chb06_05.edf-->chb06_06.edf:\\n3.0s\"],[\"chb06_06.edf-->chb06_07.edf:\\n8.0s\"],[\"chb06_07.edf-->chb06_08.edf:\\n8.0s\"],[\"chb06_08.edf-->chb06_09.edf:\\n8.0s\"],[\"chb06_09.edf-->chb06_10.edf:\\n7.0s\"],[\"chb06_10.edf-->chb06_12.edf:\\n14416.0s\"],[\"chb06_12.edf-->chb06_13.edf:\\n10.0s\"],[\"chb06_13.edf-->chb06_14.edf:\\n15.0s\"],[\"chb06_14.edf-->chb06_15.edf:\\n8.0s\"],[\"chb06_15.edf-->chb06_16.edf:\\n8.0s\"],[\"chb06_16.edf-->chb06_17.edf:\\n150.0s\"],[\"chb06_17.edf-->chb06_18.edf:\\n4.0s\"],[\"chb06_18.edf-->chb06_24.edf:\\n66321.0s\"],[\"chb07_01.edf-->chb07_02.edf:\\n94.0s\"],[\"chb07_02.edf-->chb07_03.edf:\\n8.0s\"],[\"chb07_03.edf-->chb07_04.edf:\\n8.0s\"],[\"chb07_04.edf-->chb07_05.edf:\\n7.0s\"],[\"chb07_05.edf-->chb07_06.edf:\\n8.0s\"],[\"chb07_06.edf-->chb07_07.edf:\\n42.0s\"],[\"chb07_07.edf-->chb07_08.edf:\\n288.0s\"],[\"chb07_08.edf-->chb07_09.edf:\\n4.0s\"],[\"chb07_09.edf-->chb07_10.edf:\\n8.0s\"],[\"chb07_10.edf-->chb07_11.edf:\\n7.0s\"],[\"chb07_11.edf-->chb07_12.edf:\\n9.0s\"],[\"chb07_12.edf-->chb07_13.edf:\\n7.0s\"],[\"chb07_13.edf-->chb07_14.edf:\\n19.0s\"],[\"chb07_14.edf-->chb07_15.edf:\\n4.0s\"],[\"chb07_15.edf-->chb07_16.edf:\\n8.0s\"],[\"chb07_16.edf-->chb07_17.edf:\\n13.0s\"],[\"chb07_17.edf-->chb07_18.edf:\\n9.0s\"],[\"chb07_18.edf-->chb07_19.edf:\\n124.0s\"],[\"chb08_02.edf-->chb08_03.edf:\\n2.0s\"],[\"chb08_03.edf-->chb08_04.edf:\\n8.0s\"],[\"chb08_04.edf-->chb08_05.edf:\\n7.0s\"],[\"chb08_05.edf-->chb08_10.edf:\\n11260.0s\"],[\"chb08_10.edf-->chb08_11.edf:\\n7.0s\"],[\"chb08_11.edf-->chb08_12.edf:\\n7.0s\"],[\"chb08_12.edf-->chb08_13.edf:\\n8.0s\"],[\"chb08_13.edf-->chb08_14.edf:\\n7.0s\"],[\"chb08_14.edf-->chb08_15.edf:\\n8.0s\"],[\"chb08_15.edf-->chb08_16.edf:\\n7.0s\"],[\"chb08_16.edf-->chb08_17.edf:\\n8.0s\"],[\"chb08_17.edf-->chb08_18.edf:\\n7.0s\"],[\"chb08_18.edf-->chb08_19.edf:\\n8.0s\"],[\"chb08_19.edf-->chb08_20.edf:\\n7.0s\"],[\"chb08_20.edf-->chb08_21.edf:\\n8.0s\"],[\"chb08_21.edf-->chb08_22.edf:\\n7.0s\"],[\"chb08_22.edf-->chb08_23.edf:\\n8.0s\"],[\"chb08_23.edf-->chb08_24.edf:\\n7.0s\"],[\"chb08_24.edf-->chb08_29.edf:\\n11567.0s\"],[\"chb09_01.edf-->chb09_02.edf:\\n68.0s\"],[\"chb09_02.edf-->chb09_03.edf:\\n360.0s\"],[\"chb09_03.edf-->chb09_04.edf:\\n3.0s\"],[\"chb09_04.edf-->chb09_05.edf:\\n49.0s\"],[\"chb09_05.edf-->chb09_06.edf:\\n8.0s\"],[\"chb09_06.edf-->chb09_07.edf:\\n28.0s\"],[\"chb09_07.edf-->chb09_08.edf:\\n8.0s\"],[\"chb09_08.edf-->chb09_09.edf:\\n8.0s\"],[\"chb09_09.edf-->chb09_10.edf:\\n8.0s\"],[\"chb09_10.edf-->chb09_11.edf:\\n7.0s\"],[\"chb09_11.edf-->chb09_12.edf:\\n7.0s\"],[\"chb09_12.edf-->chb09_13.edf:\\n13.0s\"],[\"chb09_13.edf-->chb09_14.edf:\\n49.0s\"],[\"chb09_14.edf-->chb09_15.edf:\\n174.0s\"],[\"chb09_15.edf-->chb09_16.edf:\\n86.0s\"],[\"chb09_16.edf-->chb09_17.edf:\\n52.0s\"],[\"chb09_17.edf-->chb09_18.edf:\\n139.0s\"],[\"chb09_18.edf-->chb09_19.edf:\\n4.0s\"],[\"chb10_01.edf-->chb10_02.edf:\\n42.0s\"],[\"chb10_02.edf-->chb10_03.edf:\\n7.0s\"],[\"chb10_03.edf-->chb10_04.edf:\\n8.0s\"],[\"chb10_04.edf-->chb10_05.edf:\\n7.0s\"],[\"chb10_05.edf-->chb10_06.edf:\\n8.0s\"],[\"chb10_06.edf-->chb10_07.edf:\\n8.0s\"],[\"chb10_07.edf-->chb10_08.edf:\\n7.0s\"],[\"chb10_08.edf-->chb10_12.edf:\\n21630.0s\"],[\"chb10_12.edf-->chb10_13.edf:\\n8.0s\"],[\"chb10_13.edf-->chb10_14.edf:\\n7.0s\"],[\"chb10_14.edf-->chb10_15.edf:\\n8.0s\"],[\"chb10_15.edf-->chb10_16.edf:\\n7.0s\"],[\"chb10_16.edf-->chb10_17.edf:\\n7.0s\"],[\"chb10_17.edf-->chb10_18.edf:\\n8.0s\"],[\"chb10_18.edf-->chb10_19.edf:\\n7.0s\"],[\"chb10_19.edf-->chb10_20.edf:\\n8.0s\"],[\"chb10_20.edf-->chb10_21.edf:\\n143.0s\"],[\"chb10_21.edf-->chb10_22.edf:\\n8.0s\"],[\"chb10_22.edf-->chb10_27.edf:\\n29005.0s\"],[\"chb10_27.edf-->chb10_28.edf:\\n38.0s\"],[\"chb10_28.edf-->chb10_30.edf:\\n7215.0s\"],[\"chb10_30.edf-->chb10_31.edf:\\n28.0s\"],[\"chb10_31.edf-->chb10_38.edf:\\n23324.0s\"],[\"chb10_38.edf-->chb10_89.edf:\\n344930.0s\"],[\"chb11_01.edf-->chb11_02.edf:\\n29.0s\"],[\"chb11_02.edf-->chb11_03.edf:\\n7.0s\"],[\"chb11_03.edf-->chb11_04.edf:\\n7.0s\"],[\"chb11_04.edf-->chb11_05.edf:\\n6.0s\"],[\"chb11_05.edf-->chb11_06.edf:\\n7.0s\"],[\"chb11_06.edf-->chb11_07.edf:\\n7.0s\"],[\"chb11_07.edf-->chb11_08.edf:\\n7.0s\"],[\"chb11_08.edf-->chb11_09.edf:\\n7.0s\"],[\"chb11_09.edf-->chb11_10.edf:\\n6.0s\"],[\"chb11_10.edf-->chb11_11.edf:\\n7.0s\"],[\"chb11_11.edf-->chb11_12.edf:\\n7.0s\"],[\"chb11_12.edf-->chb11_13.edf:\\n7.0s\"],[\"chb11_13.edf-->chb11_14.edf:\\n6.0s\"],[\"chb11_14.edf-->chb11_15.edf:\\n7.0s\"],[\"chb11_15.edf-->chb11_16.edf:\\n7.0s\"],[\"chb11_16.edf-->chb11_17.edf:\\n7.0s\"],[\"chb11_17.edf-->chb11_18.edf:\\n7.0s\"],[\"chb11_18.edf-->chb11_19.edf:\\n7.0s\"],[\"chb11_19.edf-->chb11_24.edf:\\n14437.0s\"],[\"chb11_24.edf-->chb11_25.edf:\\n7.0s\"],[\"chb11_25.edf-->chb11_26.edf:\\n6.0s\"],[\"chb11_26.edf-->chb11_27.edf:\\n7.0s\"],[\"chb11_27.edf-->chb11_53.edf:\\n87267.0s\"],[\"chb11_53.edf-->chb11_54.edf:\\n7.0s\"],[\"chb11_54.edf-->chb11_55.edf:\\n7.0s\"],[\"chb11_55.edf-->chb11_56.edf:\\n34.0s\"],[\"chb11_56.edf-->chb11_58.edf:\\n3614.0s\"],[\"chb11_58.edf-->chb11_60.edf:\\n3614.0s\"],[\"chb11_60.edf-->chb11_61.edf:\\n7.0s\"],[\"chb11_61.edf-->chb11_62.edf:\\n6.0s\"],[\"chb11_62.edf-->chb11_63.edf:\\n7.0s\"],[\"chb11_63.edf-->chb11_82.edf:\\n61725.0s\"],[\"chb11_82.edf-->chb11_92.edf:\\n32467.0s\"],[\"chb11_92.edf-->chb11_99.edf:\\n21648.0s\"],[\"chb12_06.edf-->chb12_08.edf:\\n3718.0s\"],[\"chb12_08.edf-->chb12_09.edf:\\n7.0s\"],[\"chb12_09.edf-->chb12_10.edf:\\n48.0s\"],[\"chb12_10.edf-->chb12_11.edf:\\n32.0s\"],[\"chb12_11.edf-->chb12_19.edf:\\n16102.0s\"],[\"chb12_19.edf-->chb12_20.edf:\\n6.0s\"],[\"chb12_20.edf-->chb12_21.edf:\\n8.0s\"],[\"chb12_21.edf-->chb12_23.edf:\\n548.0s\"],[\"chb12_23.edf-->chb12_24.edf:\\n2.0s\"],[\"chb12_24.edf-->chb12_27.edf:\\n7221.0s\"],[\"chb12_27.edf-->chb12_28.edf:\\n6.0s\"],[\"chb12_28.edf-->chb12_29.edf:\\n7.0s\"],[\"chb12_29.edf-->chb12_32.edf:\\n7322.0s\"],[\"chb12_32.edf-->chb12_33.edf:\\n6.0s\"],[\"chb12_33.edf-->chb12_34.edf:\\n7.0s\"],[\"chb12_34.edf-->chb12_35.edf:\\n6.0s\"],[\"chb12_35.edf-->chb12_36.edf:\\n7.0s\"],[\"chb12_36.edf-->chb12_37.edf:\\n6.0s\"],[\"chb12_37.edf-->chb12_38.edf:\\n31.0s\"],[\"chb12_38.edf-->chb12_39.edf:\\n6.0s\"],[\"chb12_39.edf-->chb12_40.edf:\\n7.0s\"],[\"chb12_40.edf-->chb12_41.edf:\\n7.0s\"],[\"chb12_41.edf-->chb12_42.edf:\\n6.0s\"],[\"chb13_02.edf-->chb13_03.edf:\\n6.0s\"],[\"chb13_03.edf-->chb13_04.edf:\\n7.0s\"],[\"chb13_04.edf-->chb13_05.edf:\\n7.0s\"],[\"chb13_05.edf-->chb13_06.edf:\\n7.0s\"],[\"chb13_06.edf-->chb13_07.edf:\\n6.0s\"],[\"chb13_07.edf-->chb13_08.edf:\\n8.0s\"],[\"chb13_08.edf-->chb13_09.edf:\\n6.0s\"],[\"chb13_09.edf-->chb13_10.edf:\\n7.0s\"],[\"chb13_10.edf-->chb13_11.edf:\\n7.0s\"],[\"chb13_11.edf-->chb13_12.edf:\\n6.0s\"],[\"chb13_12.edf-->chb13_13.edf:\\n7.0s\"],[\"chb13_13.edf-->chb13_14.edf:\\n7.0s\"],[\"chb13_14.edf-->chb13_15.edf:\\n7.0s\"],[\"chb13_15.edf-->chb13_16.edf:\\n6.0s\"],[\"chb13_16.edf-->chb13_18.edf:\\n1772.0s\"],[\"chb13_18.edf-->chb13_19.edf:\\n5.0s\"],[\"chb13_19.edf-->chb13_21.edf:\\n3634.0s\"],[\"chb13_21.edf-->chb13_22.edf:\\n7.0s\"],[\"chb13_22.edf-->chb13_24.edf:\\n3613.0s\"],[\"chb13_24.edf-->chb13_30.edf:\\n18041.0s\"],[\"chb13_30.edf-->chb13_36.edf:\\n18083.0s\"],[\"chb13_36.edf-->chb13_37.edf:\\n7.0s\"],[\"chb13_37.edf-->chb13_38.edf:\\n7.0s\"],[\"chb13_38.edf-->chb13_39.edf:\\n7.0s\"],[\"chb13_39.edf-->chb13_40.edf:\\n6.0s\"],[\"chb13_40.edf-->chb13_47.edf:\\n21647.0s\"],[\"chb13_47.edf-->chb13_55.edf:\\n25290.0s\"],[\"chb13_55.edf-->chb13_56.edf:\\n7.0s\"],[\"chb13_56.edf-->chb13_58.edf:\\n3614.0s\"],[\"chb13_58.edf-->chb13_59.edf:\\n6.0s\"],[\"chb13_59.edf-->chb13_60.edf:\\n7.0s\"],[\"chb13_60.edf-->chb13_62.edf:\\n3614.0s\"],[\"chb14_01.edf-->chb14_02.edf:\\n3.0s\"],[\"chb14_02.edf-->chb14_03.edf:\\n7.0s\"],[\"chb14_03.edf-->chb14_04.edf:\\n7.0s\"],[\"chb14_04.edf-->chb14_06.edf:\\n3614.0s\"],[\"chb14_06.edf-->chb14_07.edf:\\n7.0s\"],[\"chb14_07.edf-->chb14_11.edf:\\n10827.0s\"],[\"chb14_11.edf-->chb14_12.edf:\\n7.0s\"],[\"chb14_12.edf-->chb14_13.edf:\\n7.0s\"],[\"chb14_13.edf-->chb14_14.edf:\\n7.0s\"],[\"chb14_14.edf-->chb14_16.edf:\\n3613.0s\"],[\"chb14_16.edf-->chb14_17.edf:\\n7.0s\"],[\"chb14_17.edf-->chb14_18.edf:\\n7.0s\"],[\"chb14_18.edf-->chb14_19.edf:\\n7.0s\"],[\"chb14_19.edf-->chb14_20.edf:\\n7.0s\"],[\"chb14_20.edf-->chb14_22.edf:\\n3614.0s\"],[\"chb14_22.edf-->chb14_24.edf:\\n3614.0s\"],[\"chb14_24.edf-->chb14_25.edf:\\n6.0s\"],[\"chb14_25.edf-->chb14_26.edf:\\n7.0s\"],[\"chb14_26.edf-->chb14_27.edf:\\n7.0s\"],[\"chb14_27.edf-->chb14_29.edf:\\n3614.0s\"],[\"chb14_29.edf-->chb14_30.edf:\\n7.0s\"],[\"chb14_30.edf-->chb14_32.edf:\\n3613.0s\"],[\"chb14_32.edf-->chb14_37.edf:\\n14434.0s\"],[\"chb14_37.edf-->chb14_39.edf:\\n3614.0s\"],[\"chb14_39.edf-->chb14_42.edf:\\n7221.0s\"],[\"chb15_01.edf-->chb15_02.edf:\\n28.0s\"],[\"chb15_02.edf-->chb15_03.edf:\\n7.0s\"],[\"chb15_03.edf-->chb15_04.edf:\\n7.0s\"],[\"chb15_04.edf-->chb15_05.edf:\\n6.0s\"],[\"chb15_05.edf-->chb15_06.edf:\\n7.0s\"],[\"chb15_06.edf-->chb15_07.edf:\\n7.0s\"],[\"chb15_07.edf-->chb15_08.edf:\\n7.0s\"],[\"chb15_08.edf-->chb15_09.edf:\\n7.0s\"],[\"chb15_09.edf-->chb15_10.edf:\\n7.0s\"],[\"chb15_10.edf-->chb15_11.edf:\\n7.0s\"],[\"chb15_11.edf-->chb15_12.edf:\\n7.0s\"],[\"chb15_12.edf-->chb15_13.edf:\\n7.0s\"],[\"chb15_13.edf-->chb15_14.edf:\\n7.0s\"],[\"chb15_14.edf-->chb15_15.edf:\\n7.0s\"],[\"chb15_15.edf-->chb15_16.edf:\\n7.0s\"],[\"chb15_16.edf-->chb15_17.edf:\\n7.0s\"],[\"chb15_17.edf-->chb15_19.edf:\\n3614.0s\"],[\"chb15_19.edf-->chb15_20.edf:\\n7.0s\"],[\"chb15_20.edf-->chb15_22.edf:\\n3614.0s\"],[\"chb15_22.edf-->chb15_26.edf:\\n10902.0s\"],[\"chb15_26.edf-->chb15_28.edf:\\n3614.0s\"],[\"chb15_28.edf-->chb15_29.edf:\\n7.0s\"],[\"chb15_29.edf-->chb15_30.edf:\\n7.0s\"],[\"chb15_30.edf-->chb15_31.edf:\\n6.0s\"],[\"chb15_31.edf-->chb15_32.edf:\\n7.0s\"],[\"chb15_32.edf-->chb15_33.edf:\\n7.0s\"],[\"chb15_33.edf-->chb15_35.edf:\\n3614.0s\"],[\"chb15_35.edf-->chb15_37.edf:\\n3614.0s\"],[\"chb15_37.edf-->chb15_40.edf:\\n7221.0s\"],[\"chb15_40.edf-->chb15_45.edf:\\n14439.0s\"],[\"chb15_45.edf-->chb15_46.edf:\\n7.0s\"],[\"chb15_46.edf-->chb15_49.edf:\\n7678.0s\"],[\"chb15_49.edf-->chb15_50.edf:\\n26.0s\"],[\"chb15_50.edf-->chb15_51.edf:\\n7.0s\"],[\"chb15_51.edf-->chb15_52.edf:\\n7.0s\"],[\"chb15_52.edf-->chb15_54.edf:\\n3635.0s\"],[\"chb15_54.edf-->chb15_61.edf:\\n21669.0s\"],[\"chb15_61.edf-->chb15_62.edf:\\n7.0s\"],[\"chb15_62.edf-->chb15_63.edf:\\n7.0s\"],[\"chb16_01.edf-->chb16_02.edf:\\n3.0s\"],[\"chb16_02.edf-->chb16_03.edf:\\n7.0s\"],[\"chb16_03.edf-->chb16_04.edf:\\n6.0s\"],[\"chb16_04.edf-->chb16_05.edf:\\n7.0s\"],[\"chb16_05.edf-->chb16_06.edf:\\n7.0s\"],[\"chb16_06.edf-->chb16_07.edf:\\n7.0s\"],[\"chb16_07.edf-->chb16_08.edf:\\n7.0s\"],[\"chb16_08.edf-->chb16_09.edf:\\n7.0s\"],[\"chb16_09.edf-->chb16_10.edf:\\n7.0s\"],[\"chb16_10.edf-->chb16_11.edf:\\n7.0s\"],[\"chb16_11.edf-->chb16_12.edf:\\n7.0s\"],[\"chb16_12.edf-->chb16_13.edf:\\n7.0s\"],[\"chb16_13.edf-->chb16_14.edf:\\n7.0s\"],[\"chb16_14.edf-->chb16_15.edf:\\n7.0s\"],[\"chb16_15.edf-->chb16_16.edf:\\n7.0s\"],[\"chb16_16.edf-->chb16_17.edf:\\n7.0s\"],[\"chb16_17.edf-->chb16_18.edf:\\n7.0s\"],[\"chb16_18.edf-->chb16_19.edf:\\n7.0s\"],[\"chb17a_03.edf-->chb17a_04.edf:\\n7.0s\"],[\"chb17a_04.edf-->chb17a_05.edf:\\n7.0s\"],[\"chb17a_05.edf-->chb17a_06.edf:\\n7.0s\"],[\"chb17a_06.edf-->chb17a_08.edf:\\n3640.0s\"],[\"chb17a_08.edf-->chb17b_57.edf:\\n173442.0s\"],[\"chb17b_57.edf-->chb17b_58.edf:\\n7.0s\"],[\"chb17b_58.edf-->chb17b_59.edf:\\n7.0s\"],[\"chb17b_59.edf-->chb17b_60.edf:\\n6.0s\"],[\"chb17b_60.edf-->chb17b_63.edf:\\n7221.0s\"],[\"chb17b_63.edf-->chb17b_67.edf:\\n9610.0s\"],[\"chb17b_67.edf-->chb17b_68.edf:\\n7.0s\"],[\"chb17b_68.edf-->chb17b_69.edf:\\n7.0s\"],[\"chb17b_69.edf-->chb17c_02.edf:\\n29576.0s\"],[\"chb17c_02.edf-->chb17c_03.edf:\\n7.0s\"],[\"chb17c_03.edf-->chb17c_04.edf:\\n7.0s\"],[\"chb17c_04.edf-->chb17c_05.edf:\\n6.0s\"],[\"chb17c_05.edf-->chb17c_06.edf:\\n7.0s\"],[\"chb17c_06.edf-->chb17c_07.edf:\\n7.0s\"],[\"chb17c_07.edf-->chb17c_08.edf:\\n7.0s\"],[\"chb17c_08.edf-->chb17c_13.edf:\\n14715.0s\"],[\"chb18_01.edf-->chb18_02.edf:\\n83.0s\"],[\"chb18_02.edf-->chb18_03.edf:\\n7.0s\"],[\"chb18_03.edf-->chb18_04.edf:\\n7.0s\"],[\"chb18_04.edf-->chb18_05.edf:\\n7.0s\"],[\"chb18_05.edf-->chb18_06.edf:\\n7.0s\"],[\"chb18_06.edf-->chb18_07.edf:\\n7.0s\"],[\"chb18_07.edf-->chb18_08.edf:\\n6.0s\"],[\"chb18_08.edf-->chb18_09.edf:\\n7.0s\"],[\"chb18_09.edf-->chb18_10.edf:\\n7.0s\"],[\"chb18_10.edf-->chb18_11.edf:\\n7.0s\"],[\"chb18_11.edf-->chb18_12.edf:\\n7.0s\"],[\"chb18_12.edf-->chb18_13.edf:\\n7.0s\"],[\"chb18_13.edf-->chb18_14.edf:\\n6.0s\"],[\"chb18_14.edf-->chb18_15.edf:\\n7.0s\"],[\"chb18_15.edf-->chb18_16.edf:\\n7.0s\"],[\"chb18_16.edf-->chb18_17.edf:\\n7.0s\"],[\"chb18_17.edf-->chb18_18.edf:\\n21650.0s\"],[\"chb18_18.edf-->chb18_19.edf:\\n7.0s\"],[\"chb18_19.edf-->chb18_20.edf:\\n7.0s\"],[\"chb18_20.edf-->chb18_21.edf:\\n6.0s\"],[\"chb18_21.edf-->chb18_22.edf:\\n7.0s\"],[\"chb18_22.edf-->chb18_23.edf:\\n7221.0s\"],[\"chb18_23.edf-->chb18_24.edf:\\n7.0s\"],[\"chb18_24.edf-->chb18_25.edf:\\n6.0s\"],[\"chb18_25.edf-->chb18_26.edf:\\n7.0s\"],[\"chb18_26.edf-->chb18_27.edf:\\n7.0s\"],[\"chb18_27.edf-->chb18_28.edf:\\n7.0s\"],[\"chb18_28.edf-->chb18_29.edf:\\n7.0s\"],[\"chb18_29.edf-->chb18_30.edf:\\n7.0s\"],[\"chb18_30.edf-->chb18_31.edf:\\n7286.0s\"],[\"chb18_31.edf-->chb18_32.edf:\\n3616.0s\"],[\"chb18_32.edf-->chb18_33.edf:\\n10828.0s\"],[\"chb18_33.edf-->chb18_34.edf:\\n10890.0s\"],[\"chb18_34.edf-->chb18_35.edf:\\n43286.0s\"],[\"chb18_35.edf-->chb18_36.edf:\\n83031.0s\"],[\"chb19_01.edf-->chb19_02.edf:\\n2.0s\"],[\"chb19_02.edf-->chb19_03.edf:\\n8.0s\"],[\"chb19_03.edf-->chb19_04.edf:\\n6.0s\"],[\"chb19_04.edf-->chb19_05.edf:\\n7.0s\"],[\"chb19_05.edf-->chb19_06.edf:\\n7.0s\"],[\"chb19_06.edf-->chb19_07.edf:\\n7.0s\"],[\"chb19_07.edf-->chb19_08.edf:\\n7.0s\"],[\"chb19_08.edf-->chb19_09.edf:\\n6.0s\"],[\"chb19_09.edf-->chb19_10.edf:\\n7.0s\"],[\"chb19_10.edf-->chb19_11.edf:\\n7.0s\"],[\"chb19_11.edf-->chb19_12.edf:\\n7.0s\"],[\"chb19_12.edf-->chb19_13.edf:\\n6.0s\"],[\"chb19_13.edf-->chb19_14.edf:\\n7.0s\"],[\"chb19_14.edf-->chb19_15.edf:\\n7.0s\"],[\"chb19_15.edf-->chb19_16.edf:\\n7.0s\"],[\"chb19_16.edf-->chb19_17.edf:\\n10827.0s\"],[\"chb19_17.edf-->chb19_18.edf:\\n7.0s\"],[\"chb19_18.edf-->chb19_19.edf:\\n6.0s\"],[\"chb19_19.edf-->chb19_20.edf:\\n7.0s\"],[\"chb19_20.edf-->chb19_21.edf:\\n7.0s\"],[\"chb19_21.edf-->chb19_22.edf:\\n18040.0s\"],[\"chb19_22.edf-->chb19_23.edf:\\n7.0s\"],[\"chb19_23.edf-->chb19_24.edf:\\n7.0s\"],[\"chb19_24.edf-->chb19_25.edf:\\n6.0s\"],[\"chb19_25.edf-->chb19_26.edf:\\n7221.0s\"],[\"chb19_26.edf-->chb19_27.edf:\\n76995.0s\"],[\"chb19_27.edf-->chb19_28.edf:\\n75957.0s\"],[\"chb19_28.edf-->chb19_29.edf:\\n18085.0s\"],[\"chb19_29.edf-->chb19_30.edf:\\n10899.0s\"],[\"chb20_01.edf-->chb20_02.edf:\\n30.0s\"],[\"chb20_02.edf-->chb20_03.edf:\\n7.0s\"],[\"chb20_03.edf-->chb20_04.edf:\\n8.0s\"],[\"chb20_04.edf-->chb20_05.edf:\\n7.0s\"],[\"chb20_05.edf-->chb20_06.edf:\\n7.0s\"],[\"chb20_06.edf-->chb20_07.edf:\\n6.0s\"],[\"chb20_07.edf-->chb20_08.edf:\\n7.0s\"],[\"chb20_08.edf-->chb20_11.edf:\\n7220.0s\"],[\"chb20_11.edf-->chb20_12.edf:\\n7.0s\"],[\"chb20_12.edf-->chb20_13.edf:\\n7.0s\"],[\"chb20_13.edf-->chb20_14.edf:\\n7.0s\"],[\"chb20_14.edf-->chb20_15.edf:\\n7.0s\"],[\"chb20_15.edf-->chb20_16.edf:\\n6.0s\"],[\"chb20_16.edf-->chb20_17.edf:\\n15.0s\"],[\"chb20_17.edf-->chb20_21.edf:\\n10563.0s\"],[\"chb20_21.edf-->chb20_22.edf:\\n81.0s\"],[\"chb20_22.edf-->chb20_23.edf:\\n376.0s\"],[\"chb20_23.edf-->chb20_25.edf:\\n3852.0s\"],[\"chb20_25.edf-->chb20_26.edf:\\n7.0s\"],[\"chb20_26.edf-->chb20_27.edf:\\n6.0s\"],[\"chb20_27.edf-->chb20_28.edf:\\n7.0s\"],[\"chb20_28.edf-->chb20_29.edf:\\n7.0s\"],[\"chb20_29.edf-->chb20_30.edf:\\n7.0s\"],[\"chb20_30.edf-->chb20_31.edf:\\n7.0s\"],[\"chb20_31.edf-->chb20_34.edf:\\n7220.0s\"],[\"chb20_34.edf-->chb20_59.edf:\\n81463.0s\"],[\"chb20_59.edf-->chb20_60.edf:\\n7.0s\"],[\"chb20_60.edf-->chb20_68.edf:\\n25256.0s\"],[\"chb21_01.edf-->chb21_02.edf:\\n4.0s\"],[\"chb21_02.edf-->chb21_03.edf:\\n8.0s\"],[\"chb21_03.edf-->chb21_04.edf:\\n7.0s\"],[\"chb21_04.edf-->chb21_05.edf:\\n7.0s\"],[\"chb21_05.edf-->chb21_06.edf:\\n7.0s\"],[\"chb21_06.edf-->chb21_07.edf:\\n6.0s\"],[\"chb21_07.edf-->chb21_08.edf:\\n7.0s\"],[\"chb21_08.edf-->chb21_09.edf:\\n7.0s\"],[\"chb21_09.edf-->chb21_10.edf:\\n7.0s\"],[\"chb21_10.edf-->chb21_11.edf:\\n7.0s\"],[\"chb21_11.edf-->chb21_12.edf:\\n7.0s\"],[\"chb21_12.edf-->chb21_13.edf:\\n7.0s\"],[\"chb21_13.edf-->chb21_14.edf:\\n7.0s\"],[\"chb21_14.edf-->chb21_15.edf:\\n7.0s\"],[\"chb21_15.edf-->chb21_16.edf:\\n7.0s\"],[\"chb21_16.edf-->chb21_17.edf:\\n33.0s\"],[\"chb21_17.edf-->chb21_18.edf:\\n7.0s\"],[\"chb21_18.edf-->chb21_19.edf:\\n7.0s\"],[\"chb21_19.edf-->chb21_20.edf:\\n7.0s\"],[\"chb21_20.edf-->chb21_21.edf:\\n7225.0s\"],[\"chb21_21.edf-->chb21_22.edf:\\n7.0s\"],[\"chb21_22.edf-->chb21_23.edf:\\n2779.0s\"],[\"chb21_23.edf-->chb21_24.edf:\\n3610.0s\"],[\"chb21_24.edf-->chb21_25.edf:\\n3614.0s\"],[\"chb21_25.edf-->chb21_26.edf:\\n7.0s\"],[\"chb21_26.edf-->chb21_27.edf:\\n7.0s\"],[\"chb21_27.edf-->chb21_28.edf:\\n7.0s\"],[\"chb21_28.edf-->chb21_29.edf:\\n21648.0s\"],[\"chb21_29.edf-->chb21_30.edf:\\n14434.0s\"],[\"chb21_30.edf-->chb21_31.edf:\\n28862.0s\"],[\"chb21_31.edf-->chb21_32.edf:\\n7.0s\"],[\"chb21_32.edf-->chb21_33.edf:\\n7.0s\"],[\"chb22_01.edf-->chb22_02.edf:\\n3.0s\"],[\"chb22_02.edf-->chb22_03.edf:\\n6.0s\"],[\"chb22_03.edf-->chb22_04.edf:\\n7.0s\"],[\"chb22_04.edf-->chb22_05.edf:\\n7.0s\"],[\"chb22_05.edf-->chb22_06.edf:\\n7.0s\"],[\"chb22_06.edf-->chb22_07.edf:\\n6.0s\"],[\"chb22_07.edf-->chb22_08.edf:\\n7.0s\"],[\"chb22_08.edf-->chb22_09.edf:\\n7.0s\"],[\"chb22_09.edf-->chb22_10.edf:\\n6.0s\"],[\"chb22_10.edf-->chb22_11.edf:\\n7.0s\"],[\"chb22_11.edf-->chb22_15.edf:\\n11106.0s\"],[\"chb22_15.edf-->chb22_16.edf:\\n7.0s\"],[\"chb22_16.edf-->chb22_17.edf:\\n6.0s\"],[\"chb22_17.edf-->chb22_18.edf:\\n7.0s\"],[\"chb22_18.edf-->chb22_19.edf:\\n7.0s\"],[\"chb22_19.edf-->chb22_20.edf:\\n7.0s\"],[\"chb22_20.edf-->chb22_21.edf:\\n7.0s\"],[\"chb22_21.edf-->chb22_22.edf:\\n7.0s\"],[\"chb22_22.edf-->chb22_23.edf:\\n7.0s\"],[\"chb22_23.edf-->chb22_24.edf:\\n6.0s\"],[\"chb22_24.edf-->chb22_25.edf:\\n7.0s\"],[\"chb22_25.edf-->chb22_26.edf:\\n7.0s\"],[\"chb22_26.edf-->chb22_27.edf:\\n7.0s\"],[\"chb22_27.edf-->chb22_28.edf:\\n7.0s\"],[\"chb22_28.edf-->chb22_29.edf:\\n6.0s\"],[\"chb22_29.edf-->chb22_30.edf:\\n7.0s\"],[\"chb22_30.edf-->chb22_38.edf:\\n25258.0s\"],[\"chb22_38.edf-->chb22_51.edf:\\n44176.0s\"],[\"chb22_51.edf-->chb22_54.edf:\\n7221.0s\"],[\"chb22_54.edf-->chb22_77.edf:\\n73794.0s\"],[\"chb23_06.edf-->chb23_07.edf:\\n33.0s\"],[\"chb23_07.edf-->chb23_08.edf:\\n129.0s\"],[\"chb23_08.edf-->chb23_09.edf:\\n20.0s\"],[\"chb23_09.edf-->chb23_10.edf:\\n27.0s\"],[\"chb23_10.edf-->chb23_16.edf:\\n54292.0s\"],[\"chb23_16.edf-->chb23_17.edf:\\n10.0s\"],[\"chb23_17.edf-->chb23_19.edf:\\n18719.0s\"],[\"chb23_19.edf-->chb23_20.edf:\\n8.0s\"],[\"chb24_01.edf-->chb24_02.edf:\\n3.0s\"],[\"chb24_02.edf-->chb24_03.edf:\\n8.0s\"],[\"chb24_03.edf-->chb24_04.edf:\\n7.0s\"],[\"chb24_04.edf-->chb24_05.edf:\\n7.0s\"],[\"chb24_05.edf-->chb24_06.edf:\\n7.0s\"],[\"chb24_06.edf-->chb24_07.edf:\\n8.0s\"],[\"chb24_07.edf-->chb24_08.edf:\\n7.0s\"],[\"chb24_08.edf-->chb24_09.edf:\\n7.0s\"],[\"chb24_09.edf-->chb24_10.edf:\\n7.0s\"],[\"chb24_10.edf-->chb24_11.edf:\\n7.0s\"],[\"chb24_11.edf-->chb24_12.edf:\\n7.0s\"],[\"chb24_12.edf-->chb24_13.edf:\\n7.0s\"],[\"chb24_13.edf-->chb24_14.edf:\\n7.0s\"],[\"chb24_14.edf-->chb24_15.edf:\\n8.0s\"],[\"chb24_15.edf-->chb24_16.edf:\\n7.0s\"],[\"chb24_16.edf-->chb24_17.edf:\\n7.0s\"],[\"chb24_17.edf-->chb24_18.edf:\\n7.0s\"],[\"chb24_18.edf-->chb24_19.edf:\\n9.0s\"],[\"chb24_19.edf-->chb24_20.edf:\\n8.0s\"],[\"chb24_20.edf-->chb24_21.edf:\\n7.0s\"],[\"chb24_21.edf-->chb24_22.edf:\\n7.0s\"]],\"hovertemplate\":\"Duration (seconds)=%{y}<br>Description=%{customdata[0]}<extra></extra>\",\"legendgroup\":\"\",\"marker\":{\"color\":\"#636efa\"},\"name\":\"\",\"offsetgroup\":\"\",\"orientation\":\"v\",\"points\":\"all\",\"scalegroup\":\"True\",\"showlegend\":false,\"x0\":\" \",\"xaxis\":\"x\",\"y\":[3.0,7.0,8.0,7.0,7.0,7.0,7.0,16.0,11.0,7.0,8.0,7.0,8.0,7.0,7.0,8.0,7.0,7.0,7.0,243.0,3.0,9.0,8.0,8.0,8.0,14.0,47.0,7.0,9.0,8.0,7.0,7.0,10197.0,3.0,7.0,8.0,7.0,7.0,7.0,7.0,7222.0,3610.0,7.0,7.0,7.0,8.0,7.0,8.0,7.0,7.0,8.0,7.0,7.0,8.0,7221.0,8.0,3758.0,8.0,7.0,7.0,8.0,7.0,8.0,4279.0,13.0,8.0,7.0,8.0,7.0,8.0,7.0,8.0,7.0,7.0,8.0,7.0,3.0,8.0,7.0,7.0,7.0,7.0,7.0,8.0,7.0,7.0,7.0,8.0,7.0,7.0,7.0,7.0,7.0,8.0,9.0,11554.0,7.0,7.0,12.0,8.0,7.0,8.0,7.0,7.0,8.0,65435.0,8.0,7.0,21651.0,7.0,3615.0,55423.0,7.0,52.0,8.0,7.0,7.0,257.0,3.0,161.0,3.0,8.0,7.0,127.0,44.0,33.0,83.0,8.0,8.0,140.0,1788.0,14416.0,8.0,7.0,103.0,254.0,8.0,7.0,1083.0,106.0,46.0,8.0,7.0,8.0,8.0,8.0,7.0,8.0,3347.0,3.0,8.0,8.0,7.0,142.0,42.0,7.0,7.0,8.0,6.0,7.0,7.0,7.0,7.0,8.0,7.0,7.0,6.0,7.0,7.0,7.0,8.0,7.0,7.0,7.0,6.0,7.0,7.0,7.0,8.0,7.0,7.0,7.0,7.0,7.0,7.0,7.0,7.0,7.0,7.0,7.0,7.0,7.0,35.0,8.0,9.0,28.0,3.0,8.0,8.0,8.0,7.0,14416.0,10.0,15.0,8.0,8.0,150.0,4.0,66321.0,94.0,8.0,8.0,7.0,8.0,42.0,288.0,4.0,8.0,7.0,9.0,7.0,19.0,4.0,8.0,13.0,9.0,124.0,2.0,8.0,7.0,11260.0,7.0,7.0,8.0,7.0,8.0,7.0,8.0,7.0,8.0,7.0,8.0,7.0,8.0,7.0,11567.0,68.0,360.0,3.0,49.0,8.0,28.0,8.0,8.0,8.0,7.0,7.0,13.0,49.0,174.0,86.0,52.0,139.0,4.0,42.0,7.0,8.0,7.0,8.0,8.0,7.0,21630.0,8.0,7.0,8.0,7.0,7.0,8.0,7.0,8.0,143.0,8.0,29005.0,38.0,7215.0,28.0,23324.0,344930.0,29.0,7.0,7.0,6.0,7.0,7.0,7.0,7.0,6.0,7.0,7.0,7.0,6.0,7.0,7.0,7.0,7.0,7.0,14437.0,7.0,6.0,7.0,87267.0,7.0,7.0,34.0,3614.0,3614.0,7.0,6.0,7.0,61725.0,32467.0,21648.0,3718.0,7.0,48.0,32.0,16102.0,6.0,8.0,548.0,2.0,7221.0,6.0,7.0,7322.0,6.0,7.0,6.0,7.0,6.0,31.0,6.0,7.0,7.0,6.0,6.0,7.0,7.0,7.0,6.0,8.0,6.0,7.0,7.0,6.0,7.0,7.0,7.0,6.0,1772.0,5.0,3634.0,7.0,3613.0,18041.0,18083.0,7.0,7.0,7.0,6.0,21647.0,25290.0,7.0,3614.0,6.0,7.0,3614.0,3.0,7.0,7.0,3614.0,7.0,10827.0,7.0,7.0,7.0,3613.0,7.0,7.0,7.0,7.0,3614.0,3614.0,6.0,7.0,7.0,3614.0,7.0,3613.0,14434.0,3614.0,7221.0,28.0,7.0,7.0,6.0,7.0,7.0,7.0,7.0,7.0,7.0,7.0,7.0,7.0,7.0,7.0,7.0,3614.0,7.0,3614.0,10902.0,3614.0,7.0,7.0,6.0,7.0,7.0,3614.0,3614.0,7221.0,14439.0,7.0,7678.0,26.0,7.0,7.0,3635.0,21669.0,7.0,7.0,3.0,7.0,6.0,7.0,7.0,7.0,7.0,7.0,7.0,7.0,7.0,7.0,7.0,7.0,7.0,7.0,7.0,7.0,7.0,7.0,7.0,3640.0,173442.0,7.0,7.0,6.0,7221.0,9610.0,7.0,7.0,29576.0,7.0,7.0,6.0,7.0,7.0,7.0,14715.0,83.0,7.0,7.0,7.0,7.0,7.0,6.0,7.0,7.0,7.0,7.0,7.0,6.0,7.0,7.0,7.0,21650.0,7.0,7.0,6.0,7.0,7221.0,7.0,6.0,7.0,7.0,7.0,7.0,7.0,7286.0,3616.0,10828.0,10890.0,43286.0,83031.0,2.0,8.0,6.0,7.0,7.0,7.0,7.0,6.0,7.0,7.0,7.0,6.0,7.0,7.0,7.0,10827.0,7.0,6.0,7.0,7.0,18040.0,7.0,7.0,6.0,7221.0,76995.0,75957.0,18085.0,10899.0,30.0,7.0,8.0,7.0,7.0,6.0,7.0,7220.0,7.0,7.0,7.0,7.0,6.0,15.0,10563.0,81.0,376.0,3852.0,7.0,6.0,7.0,7.0,7.0,7.0,7220.0,81463.0,7.0,25256.0,4.0,8.0,7.0,7.0,7.0,6.0,7.0,7.0,7.0,7.0,7.0,7.0,7.0,7.0,7.0,33.0,7.0,7.0,7.0,7225.0,7.0,2779.0,3610.0,3614.0,7.0,7.0,7.0,21648.0,14434.0,28862.0,7.0,7.0,3.0,6.0,7.0,7.0,7.0,6.0,7.0,7.0,6.0,7.0,11106.0,7.0,6.0,7.0,7.0,7.0,7.0,7.0,7.0,6.0,7.0,7.0,7.0,7.0,6.0,7.0,25258.0,44176.0,7221.0,73794.0,33.0,129.0,20.0,27.0,54292.0,10.0,18719.0,8.0,3.0,8.0,7.0,7.0,7.0,8.0,7.0,7.0,7.0,7.0,7.0,7.0,7.0,8.0,7.0,7.0,7.0,9.0,8.0,7.0,7.0],\"y0\":\" \",\"yaxis\":\"y\",\"type\":\"violin\"}],                        {\"template\":{\"data\":{\"histogram2dcontour\":[{\"type\":\"histogram2dcontour\",\"colorbar\":{\"outlinewidth\":0,\"ticks\":\"\"},\"colorscale\":[[0.0,\"#0d0887\"],[0.1111111111111111,\"#46039f\"],[0.2222222222222222,\"#7201a8\"],[0.3333333333333333,\"#9c179e\"],[0.4444444444444444,\"#bd3786\"],[0.5555555555555556,\"#d8576b\"],[0.6666666666666666,\"#ed7953\"],[0.7777777777777778,\"#fb9f3a\"],[0.8888888888888888,\"#fdca26\"],[1.0,\"#f0f921\"]]}],\"choropleth\":[{\"type\":\"choropleth\",\"colorbar\":{\"outlinewidth\":0,\"ticks\":\"\"}}],\"histogram2d\":[{\"type\":\"histogram2d\",\"colorbar\":{\"outlinewidth\":0,\"ticks\":\"\"},\"colorscale\":[[0.0,\"#0d0887\"],[0.1111111111111111,\"#46039f\"],[0.2222222222222222,\"#7201a8\"],[0.3333333333333333,\"#9c179e\"],[0.4444444444444444,\"#bd3786\"],[0.5555555555555556,\"#d8576b\"],[0.6666666666666666,\"#ed7953\"],[0.7777777777777778,\"#fb9f3a\"],[0.8888888888888888,\"#fdca26\"],[1.0,\"#f0f921\"]]}],\"heatmap\":[{\"type\":\"heatmap\",\"colorbar\":{\"outlinewidth\":0,\"ticks\":\"\"},\"colorscale\":[[0.0,\"#0d0887\"],[0.1111111111111111,\"#46039f\"],[0.2222222222222222,\"#7201a8\"],[0.3333333333333333,\"#9c179e\"],[0.4444444444444444,\"#bd3786\"],[0.5555555555555556,\"#d8576b\"],[0.6666666666666666,\"#ed7953\"],[0.7777777777777778,\"#fb9f3a\"],[0.8888888888888888,\"#fdca26\"],[1.0,\"#f0f921\"]]}],\"heatmapgl\":[{\"type\":\"heatmapgl\",\"colorbar\":{\"outlinewidth\":0,\"ticks\":\"\"},\"colorscale\":[[0.0,\"#0d0887\"],[0.1111111111111111,\"#46039f\"],[0.2222222222222222,\"#7201a8\"],[0.3333333333333333,\"#9c179e\"],[0.4444444444444444,\"#bd3786\"],[0.5555555555555556,\"#d8576b\"],[0.6666666666666666,\"#ed7953\"],[0.7777777777777778,\"#fb9f3a\"],[0.8888888888888888,\"#fdca26\"],[1.0,\"#f0f921\"]]}],\"contourcarpet\":[{\"type\":\"contourcarpet\",\"colorbar\":{\"outlinewidth\":0,\"ticks\":\"\"}}],\"contour\":[{\"type\":\"contour\",\"colorbar\":{\"outlinewidth\":0,\"ticks\":\"\"},\"colorscale\":[[0.0,\"#0d0887\"],[0.1111111111111111,\"#46039f\"],[0.2222222222222222,\"#7201a8\"],[0.3333333333333333,\"#9c179e\"],[0.4444444444444444,\"#bd3786\"],[0.5555555555555556,\"#d8576b\"],[0.6666666666666666,\"#ed7953\"],[0.7777777777777778,\"#fb9f3a\"],[0.8888888888888888,\"#fdca26\"],[1.0,\"#f0f921\"]]}],\"surface\":[{\"type\":\"surface\",\"colorbar\":{\"outlinewidth\":0,\"ticks\":\"\"},\"colorscale\":[[0.0,\"#0d0887\"],[0.1111111111111111,\"#46039f\"],[0.2222222222222222,\"#7201a8\"],[0.3333333333333333,\"#9c179e\"],[0.4444444444444444,\"#bd3786\"],[0.5555555555555556,\"#d8576b\"],[0.6666666666666666,\"#ed7953\"],[0.7777777777777778,\"#fb9f3a\"],[0.8888888888888888,\"#fdca26\"],[1.0,\"#f0f921\"]]}],\"mesh3d\":[{\"type\":\"mesh3d\",\"colorbar\":{\"outlinewidth\":0,\"ticks\":\"\"}}],\"scatter\":[{\"fillpattern\":{\"fillmode\":\"overlay\",\"size\":10,\"solidity\":0.2},\"type\":\"scatter\"}],\"parcoords\":[{\"type\":\"parcoords\",\"line\":{\"colorbar\":{\"outlinewidth\":0,\"ticks\":\"\"}}}],\"scatterpolargl\":[{\"type\":\"scatterpolargl\",\"marker\":{\"colorbar\":{\"outlinewidth\":0,\"ticks\":\"\"}}}],\"bar\":[{\"error_x\":{\"color\":\"#2a3f5f\"},\"error_y\":{\"color\":\"#2a3f5f\"},\"marker\":{\"line\":{\"color\":\"#E5ECF6\",\"width\":0.5},\"pattern\":{\"fillmode\":\"overlay\",\"size\":10,\"solidity\":0.2}},\"type\":\"bar\"}],\"scattergeo\":[{\"type\":\"scattergeo\",\"marker\":{\"colorbar\":{\"outlinewidth\":0,\"ticks\":\"\"}}}],\"scatterpolar\":[{\"type\":\"scatterpolar\",\"marker\":{\"colorbar\":{\"outlinewidth\":0,\"ticks\":\"\"}}}],\"histogram\":[{\"marker\":{\"pattern\":{\"fillmode\":\"overlay\",\"size\":10,\"solidity\":0.2}},\"type\":\"histogram\"}],\"scattergl\":[{\"type\":\"scattergl\",\"marker\":{\"colorbar\":{\"outlinewidth\":0,\"ticks\":\"\"}}}],\"scatter3d\":[{\"type\":\"scatter3d\",\"line\":{\"colorbar\":{\"outlinewidth\":0,\"ticks\":\"\"}},\"marker\":{\"colorbar\":{\"outlinewidth\":0,\"ticks\":\"\"}}}],\"scattermapbox\":[{\"type\":\"scattermapbox\",\"marker\":{\"colorbar\":{\"outlinewidth\":0,\"ticks\":\"\"}}}],\"scatterternary\":[{\"type\":\"scatterternary\",\"marker\":{\"colorbar\":{\"outlinewidth\":0,\"ticks\":\"\"}}}],\"scattercarpet\":[{\"type\":\"scattercarpet\",\"marker\":{\"colorbar\":{\"outlinewidth\":0,\"ticks\":\"\"}}}],\"carpet\":[{\"aaxis\":{\"endlinecolor\":\"#2a3f5f\",\"gridcolor\":\"white\",\"linecolor\":\"white\",\"minorgridcolor\":\"white\",\"startlinecolor\":\"#2a3f5f\"},\"baxis\":{\"endlinecolor\":\"#2a3f5f\",\"gridcolor\":\"white\",\"linecolor\":\"white\",\"minorgridcolor\":\"white\",\"startlinecolor\":\"#2a3f5f\"},\"type\":\"carpet\"}],\"table\":[{\"cells\":{\"fill\":{\"color\":\"#EBF0F8\"},\"line\":{\"color\":\"white\"}},\"header\":{\"fill\":{\"color\":\"#C8D4E3\"},\"line\":{\"color\":\"white\"}},\"type\":\"table\"}],\"barpolar\":[{\"marker\":{\"line\":{\"color\":\"#E5ECF6\",\"width\":0.5},\"pattern\":{\"fillmode\":\"overlay\",\"size\":10,\"solidity\":0.2}},\"type\":\"barpolar\"}],\"pie\":[{\"automargin\":true,\"type\":\"pie\"}]},\"layout\":{\"autotypenumbers\":\"strict\",\"colorway\":[\"#636efa\",\"#EF553B\",\"#00cc96\",\"#ab63fa\",\"#FFA15A\",\"#19d3f3\",\"#FF6692\",\"#B6E880\",\"#FF97FF\",\"#FECB52\"],\"font\":{\"color\":\"#2a3f5f\"},\"hovermode\":\"closest\",\"hoverlabel\":{\"align\":\"left\"},\"paper_bgcolor\":\"white\",\"plot_bgcolor\":\"#E5ECF6\",\"polar\":{\"bgcolor\":\"#E5ECF6\",\"angularaxis\":{\"gridcolor\":\"white\",\"linecolor\":\"white\",\"ticks\":\"\"},\"radialaxis\":{\"gridcolor\":\"white\",\"linecolor\":\"white\",\"ticks\":\"\"}},\"ternary\":{\"bgcolor\":\"#E5ECF6\",\"aaxis\":{\"gridcolor\":\"white\",\"linecolor\":\"white\",\"ticks\":\"\"},\"baxis\":{\"gridcolor\":\"white\",\"linecolor\":\"white\",\"ticks\":\"\"},\"caxis\":{\"gridcolor\":\"white\",\"linecolor\":\"white\",\"ticks\":\"\"}},\"coloraxis\":{\"colorbar\":{\"outlinewidth\":0,\"ticks\":\"\"}},\"colorscale\":{\"sequential\":[[0.0,\"#0d0887\"],[0.1111111111111111,\"#46039f\"],[0.2222222222222222,\"#7201a8\"],[0.3333333333333333,\"#9c179e\"],[0.4444444444444444,\"#bd3786\"],[0.5555555555555556,\"#d8576b\"],[0.6666666666666666,\"#ed7953\"],[0.7777777777777778,\"#fb9f3a\"],[0.8888888888888888,\"#fdca26\"],[1.0,\"#f0f921\"]],\"sequentialminus\":[[0.0,\"#0d0887\"],[0.1111111111111111,\"#46039f\"],[0.2222222222222222,\"#7201a8\"],[0.3333333333333333,\"#9c179e\"],[0.4444444444444444,\"#bd3786\"],[0.5555555555555556,\"#d8576b\"],[0.6666666666666666,\"#ed7953\"],[0.7777777777777778,\"#fb9f3a\"],[0.8888888888888888,\"#fdca26\"],[1.0,\"#f0f921\"]],\"diverging\":[[0,\"#8e0152\"],[0.1,\"#c51b7d\"],[0.2,\"#de77ae\"],[0.3,\"#f1b6da\"],[0.4,\"#fde0ef\"],[0.5,\"#f7f7f7\"],[0.6,\"#e6f5d0\"],[0.7,\"#b8e186\"],[0.8,\"#7fbc41\"],[0.9,\"#4d9221\"],[1,\"#276419\"]]},\"xaxis\":{\"gridcolor\":\"white\",\"linecolor\":\"white\",\"ticks\":\"\",\"title\":{\"standoff\":15},\"zerolinecolor\":\"white\",\"automargin\":true,\"zerolinewidth\":2},\"yaxis\":{\"gridcolor\":\"white\",\"linecolor\":\"white\",\"ticks\":\"\",\"title\":{\"standoff\":15},\"zerolinecolor\":\"white\",\"automargin\":true,\"zerolinewidth\":2},\"scene\":{\"xaxis\":{\"backgroundcolor\":\"#E5ECF6\",\"gridcolor\":\"white\",\"linecolor\":\"white\",\"showbackground\":true,\"ticks\":\"\",\"zerolinecolor\":\"white\",\"gridwidth\":2},\"yaxis\":{\"backgroundcolor\":\"#E5ECF6\",\"gridcolor\":\"white\",\"linecolor\":\"white\",\"showbackground\":true,\"ticks\":\"\",\"zerolinecolor\":\"white\",\"gridwidth\":2},\"zaxis\":{\"backgroundcolor\":\"#E5ECF6\",\"gridcolor\":\"white\",\"linecolor\":\"white\",\"showbackground\":true,\"ticks\":\"\",\"zerolinecolor\":\"white\",\"gridwidth\":2}},\"shapedefaults\":{\"line\":{\"color\":\"#2a3f5f\"}},\"annotationdefaults\":{\"arrowcolor\":\"#2a3f5f\",\"arrowhead\":0,\"arrowwidth\":1},\"geo\":{\"bgcolor\":\"white\",\"landcolor\":\"#E5ECF6\",\"subunitcolor\":\"white\",\"showland\":true,\"showlakes\":true,\"lakecolor\":\"white\"},\"title\":{\"x\":0.05},\"mapbox\":{\"style\":\"light\"}}},\"xaxis\":{\"anchor\":\"y\",\"domain\":[0.0,1.0]},\"yaxis\":{\"anchor\":\"x\",\"domain\":[0.0,1.0],\"title\":{\"text\":\"Duration (seconds)\"}},\"legend\":{\"tracegroupgap\":0},\"title\":{\"text\":\"All 24 Patients Gap Length\"},\"violinmode\":\"group\"},                        {\"responsive\": true}                    ).then(function(){\n",
       "                            \n",
       "var gd = document.getElementById('2ebba2d5-02c5-4f53-9b53-e8a97edd0f25');\n",
       "var x = new MutationObserver(function (mutations, observer) {{\n",
       "        var display = window.getComputedStyle(gd).display;\n",
       "        if (!display || display === 'none') {{\n",
       "            console.log([gd, 'removed!']);\n",
       "            Plotly.purge(gd);\n",
       "            observer.disconnect();\n",
       "        }}\n",
       "}});\n",
       "\n",
       "// Listen for the removal of the full notebook cells\n",
       "var notebookContainer = gd.closest('#notebook-container');\n",
       "if (notebookContainer) {{\n",
       "    x.observe(notebookContainer, {childList: true});\n",
       "}}\n",
       "\n",
       "// Listen for the clearing of the current output cell\n",
       "var outputEl = gd.closest('.output');\n",
       "if (outputEl) {{\n",
       "    x.observe(outputEl, {childList: true});\n",
       "}}\n",
       "\n",
       "                        })                };                });            </script>        </div>"
      ]
     },
     "metadata": {},
     "output_type": "display_data"
    }
   ],
   "source": [
    "plot_violin(\"All 24 Patients Gap Length\", pd.concat(df_lst))"
   ]
  },
  {
   "cell_type": "code",
   "execution_count": 10,
   "metadata": {},
   "outputs": [
    {
     "data": {
      "text/html": [
       "<div>\n",
       "<style scoped>\n",
       "    .dataframe tbody tr th:only-of-type {\n",
       "        vertical-align: middle;\n",
       "    }\n",
       "\n",
       "    .dataframe tbody tr th {\n",
       "        vertical-align: top;\n",
       "    }\n",
       "\n",
       "    .dataframe thead th {\n",
       "        text-align: right;\n",
       "    }\n",
       "</style>\n",
       "<table border=\"1\" class=\"dataframe\">\n",
       "  <thead>\n",
       "    <tr style=\"text-align: right;\">\n",
       "      <th></th>\n",
       "      <th>Duration (seconds)</th>\n",
       "      <th>Description</th>\n",
       "    </tr>\n",
       "  </thead>\n",
       "  <tbody>\n",
       "    <tr>\n",
       "      <th>19</th>\n",
       "      <td>243.0</td>\n",
       "      <td>chb01_20.edf--&gt;chb01_21.edf:\\n243.0s</td>\n",
       "    </tr>\n",
       "    <tr>\n",
       "      <th>26</th>\n",
       "      <td>47.0</td>\n",
       "      <td>chb01_27.edf--&gt;chb01_29.edf:\\n47.0s</td>\n",
       "    </tr>\n",
       "    <tr>\n",
       "      <th>32</th>\n",
       "      <td>10197.0</td>\n",
       "      <td>chb01_34.edf--&gt;chb01_36.edf:\\n10197.0s</td>\n",
       "    </tr>\n",
       "    <tr>\n",
       "      <th>40</th>\n",
       "      <td>7222.0</td>\n",
       "      <td>chb01_43.edf--&gt;chb01_46.edf:\\n7222.0s</td>\n",
       "    </tr>\n",
       "    <tr>\n",
       "      <th>0</th>\n",
       "      <td>3610.0</td>\n",
       "      <td>chb02_01.edf--&gt;chb02_02.edf:\\n3610.0s</td>\n",
       "    </tr>\n",
       "    <tr>\n",
       "      <th>...</th>\n",
       "      <td>...</td>\n",
       "      <td>...</td>\n",
       "    </tr>\n",
       "    <tr>\n",
       "      <th>28</th>\n",
       "      <td>7221.0</td>\n",
       "      <td>chb22_51.edf--&gt;chb22_54.edf:\\n7221.0s</td>\n",
       "    </tr>\n",
       "    <tr>\n",
       "      <th>29</th>\n",
       "      <td>73794.0</td>\n",
       "      <td>chb22_54.edf--&gt;chb22_77.edf:\\n73794.0s</td>\n",
       "    </tr>\n",
       "    <tr>\n",
       "      <th>1</th>\n",
       "      <td>129.0</td>\n",
       "      <td>chb23_07.edf--&gt;chb23_08.edf:\\n129.0s</td>\n",
       "    </tr>\n",
       "    <tr>\n",
       "      <th>4</th>\n",
       "      <td>54292.0</td>\n",
       "      <td>chb23_10.edf--&gt;chb23_16.edf:\\n54292.0s</td>\n",
       "    </tr>\n",
       "    <tr>\n",
       "      <th>6</th>\n",
       "      <td>18719.0</td>\n",
       "      <td>chb23_17.edf--&gt;chb23_19.edf:\\n18719.0s</td>\n",
       "    </tr>\n",
       "  </tbody>\n",
       "</table>\n",
       "<p>142 rows × 2 columns</p>\n",
       "</div>"
      ],
      "text/plain": [
       "    Duration (seconds)                             Description\n",
       "19               243.0    chb01_20.edf-->chb01_21.edf:\\n243.0s\n",
       "26                47.0     chb01_27.edf-->chb01_29.edf:\\n47.0s\n",
       "32             10197.0  chb01_34.edf-->chb01_36.edf:\\n10197.0s\n",
       "40              7222.0   chb01_43.edf-->chb01_46.edf:\\n7222.0s\n",
       "0               3610.0   chb02_01.edf-->chb02_02.edf:\\n3610.0s\n",
       "..                 ...                                     ...\n",
       "28              7221.0   chb22_51.edf-->chb22_54.edf:\\n7221.0s\n",
       "29             73794.0  chb22_54.edf-->chb22_77.edf:\\n73794.0s\n",
       "1                129.0    chb23_07.edf-->chb23_08.edf:\\n129.0s\n",
       "4              54292.0  chb23_10.edf-->chb23_16.edf:\\n54292.0s\n",
       "6              18719.0  chb23_17.edf-->chb23_19.edf:\\n18719.0s\n",
       "\n",
       "[142 rows x 2 columns]"
      ]
     },
     "execution_count": 10,
     "metadata": {},
     "output_type": "execute_result"
    }
   ],
   "source": [
    "df_gap = pd.concat(df_lst)\n",
    "df_gap[df_gap['Duration (seconds)'] > 38.0]"
   ]
  },
  {
   "cell_type": "code",
   "execution_count": null,
   "metadata": {},
   "outputs": [
    {
     "data": {
      "application/vnd.plotly.v1+json": {
       "config": {
        "plotlyServerURL": "https://plot.ly"
       },
       "data": [
        {
         "alignmentgroup": "True",
         "box": {
          "visible": true
         },
         "customdata": [
          [
           "chb01_03.edf: 40s"
          ],
          [
           "chb01_04.edf: 27s"
          ],
          [
           "chb01_15.edf: 40s"
          ],
          [
           "chb01_16.edf: 51s"
          ],
          [
           "chb01_18.edf: 90s"
          ],
          [
           "chb01_21.edf: 93s"
          ],
          [
           "chb01_26.edf: 101s"
          ],
          [
           "chb02_16.edf: 82s"
          ],
          [
           "chb02_16+.edf: 81s"
          ],
          [
           "chb02_19.edf: 9s"
          ],
          [
           "chb03_01.edf: 52s"
          ],
          [
           "chb03_02.edf: 65s"
          ],
          [
           "chb03_03.edf: 69s"
          ],
          [
           "chb03_04.edf: 52s"
          ],
          [
           "chb03_34.edf: 47s"
          ],
          [
           "chb03_35.edf: 64s"
          ],
          [
           "chb03_36.edf: 53s"
          ],
          [
           "chb04_05.edf: 49s"
          ],
          [
           "chb04_08.edf: 111s"
          ],
          [
           "chb04_28.edf: 102s"
          ],
          [
           "chb04_28.edf: 116s"
          ],
          [
           "chb05_06.edf: 115s"
          ],
          [
           "chb05_13.edf: 110s"
          ],
          [
           "chb05_16.edf: 96s"
          ],
          [
           "chb05_17.edf: 120s"
          ],
          [
           "chb05_22.edf: 117s"
          ],
          [
           "chb06_01.edf: 14s"
          ],
          [
           "chb06_01.edf: 15s"
          ],
          [
           "chb06_01.edf: 15s"
          ],
          [
           "chb06_04.edf: 20s"
          ],
          [
           "chb06_04.edf: 20s"
          ],
          [
           "chb06_09.edf: 16s"
          ],
          [
           "chb06_10.edf: 12s"
          ],
          [
           "chb06_13.edf: 13s"
          ],
          [
           "chb06_18.edf: 12s"
          ],
          [
           "chb06_24.edf: 16s"
          ],
          [
           "chb07_12.edf: 86s"
          ],
          [
           "chb07_13.edf: 96s"
          ],
          [
           "chb07_19.edf: 143s"
          ],
          [
           "chb08_02.edf: 171s"
          ],
          [
           "chb08_05.edf: 190s"
          ],
          [
           "chb08_11.edf: 134s"
          ],
          [
           "chb08_13.edf: 160s"
          ],
          [
           "chb08_21.edf: 264s"
          ],
          [
           "chb09_06.edf: 64s"
          ],
          [
           "chb09_08.edf: 79s"
          ],
          [
           "chb09_08.edf: 71s"
          ],
          [
           "chb09_19.edf: 62s"
          ],
          [
           "chb10_12.edf: 35s"
          ],
          [
           "chb10_20.edf: 70s"
          ],
          [
           "chb10_27.edf: 65s"
          ],
          [
           "chb10_30.edf: 58s"
          ],
          [
           "chb10_31.edf: 76s"
          ],
          [
           "chb10_38.edf: 89s"
          ],
          [
           "chb10_89.edf: 54s"
          ],
          [
           "chb11_82.edf: 22s"
          ],
          [
           "chb11_92.edf: 32s"
          ],
          [
           "chb11_99.edf: 752s"
          ],
          [
           "chb12_06.edf: 61s"
          ],
          [
           "chb12_06.edf: 32s"
          ],
          [
           "chb12_08.edf: 13s"
          ],
          [
           "chb12_08.edf: 23s"
          ],
          [
           "chb12_08.edf: 20s"
          ],
          [
           "chb12_08.edf: 26s"
          ],
          [
           "chb12_09.edf: 32s"
          ],
          [
           "chb12_09.edf: 32s"
          ],
          [
           "chb12_10.edf: 32s"
          ],
          [
           "chb12_10.edf: 45s"
          ],
          [
           "chb12_11.edf: 37s"
          ],
          [
           "chb12_23.edf: 80s"
          ],
          [
           "chb12_23.edf: 97s"
          ],
          [
           "chb12_23.edf: 40s"
          ],
          [
           "chb12_27.edf: 35s"
          ],
          [
           "chb12_27.edf: 27s"
          ],
          [
           "chb12_27.edf: 25s"
          ],
          [
           "chb12_27.edf: 42s"
          ],
          [
           "chb12_27.edf: 52s"
          ],
          [
           "chb12_27.edf: 48s"
          ],
          [
           "chb12_28.edf: 34s"
          ],
          [
           "chb12_29.edf: 39s"
          ],
          [
           "chb12_29.edf: 38s"
          ],
          [
           "chb12_29.edf: 36s"
          ],
          [
           "chb12_29.edf: 46s"
          ],
          [
           "chb12_29.edf: 37s"
          ],
          [
           "chb12_29.edf: 27s"
          ],
          [
           "chb12_33.edf: 21s"
          ],
          [
           "chb12_33.edf: 23s"
          ],
          [
           "chb12_36.edf: 27s"
          ],
          [
           "chb12_38.edf: 25s"
          ],
          [
           "chb12_38.edf: 23s"
          ],
          [
           "chb12_38.edf: 43s"
          ],
          [
           "chb12_38.edf: 55s"
          ],
          [
           "chb12_38.edf: 46s"
          ],
          [
           "chb12_42.edf: 51s"
          ],
          [
           "chb12_42.edf: 28s"
          ],
          [
           "chb12_42.edf: 29s"
          ],
          [
           "chb12_42.edf: 25s"
          ],
          [
           "chb12_42.edf: 23s"
          ],
          [
           "chb13_19.edf: 44s"
          ],
          [
           "chb13_21.edf: 70s"
          ],
          [
           "chb13_40.edf: 31s"
          ],
          [
           "chb13_40.edf: 64s"
          ],
          [
           "chb13_55.edf: 20s"
          ],
          [
           "chb13_55.edf: 18s"
          ],
          [
           "chb13_58.edf: 17s"
          ],
          [
           "chb13_59.edf: 62s"
          ],
          [
           "chb13_60.edf: 22s"
          ],
          [
           "chb13_62.edf: 65s"
          ],
          [
           "chb13_62.edf: 65s"
          ],
          [
           "chb13_62.edf: 57s"
          ],
          [
           "chb14_03.edf: 14s"
          ],
          [
           "chb14_04.edf: 20s"
          ],
          [
           "chb14_04.edf: 22s"
          ],
          [
           "chb14_06.edf: 14s"
          ],
          [
           "chb14_11.edf: 41s"
          ],
          [
           "chb14_17.edf: 20s"
          ],
          [
           "chb14_18.edf: 22s"
          ],
          [
           "chb14_27.edf: 16s"
          ],
          [
           "chb15_06.edf: 125s"
          ],
          [
           "chb15_10.edf: 31s"
          ],
          [
           "chb15_15.edf: 157s"
          ],
          [
           "chb15_17.edf: 35s"
          ],
          [
           "chb15_20.edf: 55s"
          ],
          [
           "chb15_22.edf: 205s"
          ],
          [
           "chb15_28.edf: 190s"
          ],
          [
           "chb15_31.edf: 120s"
          ],
          [
           "chb15_40.edf: 60s"
          ],
          [
           "chb15_40.edf: 119s"
          ],
          [
           "chb15_40.edf: 63s"
          ],
          [
           "chb15_46.edf: 107s"
          ],
          [
           "chb15_49.edf: 140s"
          ],
          [
           "chb15_52.edf: 71s"
          ],
          [
           "chb15_54.edf: 55s"
          ],
          [
           "chb15_54.edf: 177s"
          ],
          [
           "chb15_54.edf: 71s"
          ],
          [
           "chb15_54.edf: 71s"
          ],
          [
           "chb15_54.edf: 32s"
          ],
          [
           "chb15_62.edf: 108s"
          ],
          [
           "chb16_10.edf: 9s"
          ],
          [
           "chb16_11.edf: 9s"
          ],
          [
           "chb16_14.edf: 14s"
          ],
          [
           "chb16_16.edf: 6s"
          ],
          [
           "chb16_17.edf: 9s"
          ],
          [
           "chb16_17.edf: 6s"
          ],
          [
           "chb16_17.edf: 8s"
          ],
          [
           "chb16_17.edf: 8s"
          ],
          [
           "chb16_18.edf: 8s"
          ],
          [
           "chb16_18.edf: 7s"
          ],
          [
           "chb17a_03.edf: 90s"
          ],
          [
           "chb17a_04.edf: 115s"
          ],
          [
           "chb17b_63.edf: 88s"
          ],
          [
           "chb18_29.edf: 50s"
          ],
          [
           "chb18_30.edf: 30s"
          ],
          [
           "chb18_31.edf: 68s"
          ],
          [
           "chb18_32.edf: 55s"
          ],
          [
           "chb18_35.edf: 68s"
          ],
          [
           "chb18_36.edf: 46s"
          ],
          [
           "chb19_28.edf: 78s"
          ],
          [
           "chb19_29.edf: 77s"
          ],
          [
           "chb19_30.edf: 81s"
          ],
          [
           "chb20_12.edf: 29s"
          ],
          [
           "chb20_13.edf: 30s"
          ],
          [
           "chb20_13.edf: 39s"
          ],
          [
           "chb20_14.edf: 38s"
          ],
          [
           "chb20_15.edf: 35s"
          ],
          [
           "chb20_15.edf: 49s"
          ],
          [
           "chb20_16.edf: 35s"
          ],
          [
           "chb20_68.edf: 39s"
          ],
          [
           "chb21_19.edf: 56s"
          ],
          [
           "chb21_20.edf: 50s"
          ],
          [
           "chb21_21.edf: 81s"
          ],
          [
           "chb21_22.edf: 12s"
          ],
          [
           "chb22_20.edf: 58s"
          ],
          [
           "chb22_25.edf: 74s"
          ],
          [
           "chb22_38.edf: 72s"
          ],
          [
           "chb23_06.edf: 113s"
          ],
          [
           "chb23_08.edf: 20s"
          ],
          [
           "chb23_08.edf: 47s"
          ],
          [
           "chb23_09.edf: 71s"
          ],
          [
           "chb23_09.edf: 62s"
          ],
          [
           "chb23_09.edf: 27s"
          ],
          [
           "chb23_09.edf: 84s"
          ],
          [
           "chb24_01.edf: 25s"
          ],
          [
           "chb24_01.edf: 25s"
          ],
          [
           "chb24_03.edf: 29s"
          ],
          [
           "chb24_03.edf: 25s"
          ],
          [
           "chb24_04.edf: 32s"
          ],
          [
           "chb24_04.edf: 27s"
          ],
          [
           "chb24_04.edf: 19s"
          ],
          [
           "chb24_06.edf: 24s"
          ],
          [
           "chb24_07.edf: 22s"
          ],
          [
           "chb24_09.edf: 19s"
          ],
          [
           "chb24_11.edf: 70s"
          ],
          [
           "chb24_13.edf: 16s"
          ],
          [
           "chb24_14.edf: 27s"
          ],
          [
           "chb24_15.edf: 17s"
          ],
          [
           "chb24_17.edf: 66s"
          ],
          [
           "chb24_21.edf: 68s"
          ]
         ],
         "hovertemplate": "Duration (seconds)=%{y}<br>Description=%{customdata[0]}<extra></extra>",
         "legendgroup": "",
         "marker": {
          "color": "#636efa"
         },
         "name": "",
         "offsetgroup": "",
         "orientation": "v",
         "points": "all",
         "scalegroup": "True",
         "showlegend": false,
         "type": "violin",
         "x0": " ",
         "xaxis": "x",
         "y": [
          40,
          27,
          40,
          51,
          90,
          93,
          101,
          82,
          81,
          9,
          52,
          65,
          69,
          52,
          47,
          64,
          53,
          49,
          111,
          102,
          116,
          115,
          110,
          96,
          120,
          117,
          14,
          15,
          15,
          20,
          20,
          16,
          12,
          13,
          12,
          16,
          86,
          96,
          143,
          171,
          190,
          134,
          160,
          264,
          64,
          79,
          71,
          62,
          35,
          70,
          65,
          58,
          76,
          89,
          54,
          22,
          32,
          752,
          61,
          32,
          13,
          23,
          20,
          26,
          32,
          32,
          32,
          45,
          37,
          80,
          97,
          40,
          35,
          27,
          25,
          42,
          52,
          48,
          34,
          39,
          38,
          36,
          46,
          37,
          27,
          21,
          23,
          27,
          25,
          23,
          43,
          55,
          46,
          51,
          28,
          29,
          25,
          23,
          44,
          70,
          31,
          64,
          20,
          18,
          17,
          62,
          22,
          65,
          65,
          57,
          14,
          20,
          22,
          14,
          41,
          20,
          22,
          16,
          125,
          31,
          157,
          35,
          55,
          205,
          190,
          120,
          60,
          119,
          63,
          107,
          140,
          71,
          55,
          177,
          71,
          71,
          32,
          108,
          9,
          9,
          14,
          6,
          9,
          6,
          8,
          8,
          8,
          7,
          90,
          115,
          88,
          50,
          30,
          68,
          55,
          68,
          46,
          78,
          77,
          81,
          29,
          30,
          39,
          38,
          35,
          49,
          35,
          39,
          56,
          50,
          81,
          12,
          58,
          74,
          72,
          113,
          20,
          47,
          71,
          62,
          27,
          84,
          25,
          25,
          29,
          25,
          32,
          27,
          19,
          24,
          22,
          19,
          70,
          16,
          27,
          17,
          66,
          68
         ],
         "y0": " ",
         "yaxis": "y"
        }
       ],
       "layout": {
        "legend": {
         "tracegroupgap": 0
        },
        "template": {
         "data": {
          "bar": [
           {
            "error_x": {
             "color": "#2a3f5f"
            },
            "error_y": {
             "color": "#2a3f5f"
            },
            "marker": {
             "line": {
              "color": "#E5ECF6",
              "width": 0.5
             },
             "pattern": {
              "fillmode": "overlay",
              "size": 10,
              "solidity": 0.2
             }
            },
            "type": "bar"
           }
          ],
          "barpolar": [
           {
            "marker": {
             "line": {
              "color": "#E5ECF6",
              "width": 0.5
             },
             "pattern": {
              "fillmode": "overlay",
              "size": 10,
              "solidity": 0.2
             }
            },
            "type": "barpolar"
           }
          ],
          "carpet": [
           {
            "aaxis": {
             "endlinecolor": "#2a3f5f",
             "gridcolor": "white",
             "linecolor": "white",
             "minorgridcolor": "white",
             "startlinecolor": "#2a3f5f"
            },
            "baxis": {
             "endlinecolor": "#2a3f5f",
             "gridcolor": "white",
             "linecolor": "white",
             "minorgridcolor": "white",
             "startlinecolor": "#2a3f5f"
            },
            "type": "carpet"
           }
          ],
          "choropleth": [
           {
            "colorbar": {
             "outlinewidth": 0,
             "ticks": ""
            },
            "type": "choropleth"
           }
          ],
          "contour": [
           {
            "colorbar": {
             "outlinewidth": 0,
             "ticks": ""
            },
            "colorscale": [
             [
              0,
              "#0d0887"
             ],
             [
              0.1111111111111111,
              "#46039f"
             ],
             [
              0.2222222222222222,
              "#7201a8"
             ],
             [
              0.3333333333333333,
              "#9c179e"
             ],
             [
              0.4444444444444444,
              "#bd3786"
             ],
             [
              0.5555555555555556,
              "#d8576b"
             ],
             [
              0.6666666666666666,
              "#ed7953"
             ],
             [
              0.7777777777777778,
              "#fb9f3a"
             ],
             [
              0.8888888888888888,
              "#fdca26"
             ],
             [
              1,
              "#f0f921"
             ]
            ],
            "type": "contour"
           }
          ],
          "contourcarpet": [
           {
            "colorbar": {
             "outlinewidth": 0,
             "ticks": ""
            },
            "type": "contourcarpet"
           }
          ],
          "heatmap": [
           {
            "colorbar": {
             "outlinewidth": 0,
             "ticks": ""
            },
            "colorscale": [
             [
              0,
              "#0d0887"
             ],
             [
              0.1111111111111111,
              "#46039f"
             ],
             [
              0.2222222222222222,
              "#7201a8"
             ],
             [
              0.3333333333333333,
              "#9c179e"
             ],
             [
              0.4444444444444444,
              "#bd3786"
             ],
             [
              0.5555555555555556,
              "#d8576b"
             ],
             [
              0.6666666666666666,
              "#ed7953"
             ],
             [
              0.7777777777777778,
              "#fb9f3a"
             ],
             [
              0.8888888888888888,
              "#fdca26"
             ],
             [
              1,
              "#f0f921"
             ]
            ],
            "type": "heatmap"
           }
          ],
          "heatmapgl": [
           {
            "colorbar": {
             "outlinewidth": 0,
             "ticks": ""
            },
            "colorscale": [
             [
              0,
              "#0d0887"
             ],
             [
              0.1111111111111111,
              "#46039f"
             ],
             [
              0.2222222222222222,
              "#7201a8"
             ],
             [
              0.3333333333333333,
              "#9c179e"
             ],
             [
              0.4444444444444444,
              "#bd3786"
             ],
             [
              0.5555555555555556,
              "#d8576b"
             ],
             [
              0.6666666666666666,
              "#ed7953"
             ],
             [
              0.7777777777777778,
              "#fb9f3a"
             ],
             [
              0.8888888888888888,
              "#fdca26"
             ],
             [
              1,
              "#f0f921"
             ]
            ],
            "type": "heatmapgl"
           }
          ],
          "histogram": [
           {
            "marker": {
             "pattern": {
              "fillmode": "overlay",
              "size": 10,
              "solidity": 0.2
             }
            },
            "type": "histogram"
           }
          ],
          "histogram2d": [
           {
            "colorbar": {
             "outlinewidth": 0,
             "ticks": ""
            },
            "colorscale": [
             [
              0,
              "#0d0887"
             ],
             [
              0.1111111111111111,
              "#46039f"
             ],
             [
              0.2222222222222222,
              "#7201a8"
             ],
             [
              0.3333333333333333,
              "#9c179e"
             ],
             [
              0.4444444444444444,
              "#bd3786"
             ],
             [
              0.5555555555555556,
              "#d8576b"
             ],
             [
              0.6666666666666666,
              "#ed7953"
             ],
             [
              0.7777777777777778,
              "#fb9f3a"
             ],
             [
              0.8888888888888888,
              "#fdca26"
             ],
             [
              1,
              "#f0f921"
             ]
            ],
            "type": "histogram2d"
           }
          ],
          "histogram2dcontour": [
           {
            "colorbar": {
             "outlinewidth": 0,
             "ticks": ""
            },
            "colorscale": [
             [
              0,
              "#0d0887"
             ],
             [
              0.1111111111111111,
              "#46039f"
             ],
             [
              0.2222222222222222,
              "#7201a8"
             ],
             [
              0.3333333333333333,
              "#9c179e"
             ],
             [
              0.4444444444444444,
              "#bd3786"
             ],
             [
              0.5555555555555556,
              "#d8576b"
             ],
             [
              0.6666666666666666,
              "#ed7953"
             ],
             [
              0.7777777777777778,
              "#fb9f3a"
             ],
             [
              0.8888888888888888,
              "#fdca26"
             ],
             [
              1,
              "#f0f921"
             ]
            ],
            "type": "histogram2dcontour"
           }
          ],
          "mesh3d": [
           {
            "colorbar": {
             "outlinewidth": 0,
             "ticks": ""
            },
            "type": "mesh3d"
           }
          ],
          "parcoords": [
           {
            "line": {
             "colorbar": {
              "outlinewidth": 0,
              "ticks": ""
             }
            },
            "type": "parcoords"
           }
          ],
          "pie": [
           {
            "automargin": true,
            "type": "pie"
           }
          ],
          "scatter": [
           {
            "fillpattern": {
             "fillmode": "overlay",
             "size": 10,
             "solidity": 0.2
            },
            "type": "scatter"
           }
          ],
          "scatter3d": [
           {
            "line": {
             "colorbar": {
              "outlinewidth": 0,
              "ticks": ""
             }
            },
            "marker": {
             "colorbar": {
              "outlinewidth": 0,
              "ticks": ""
             }
            },
            "type": "scatter3d"
           }
          ],
          "scattercarpet": [
           {
            "marker": {
             "colorbar": {
              "outlinewidth": 0,
              "ticks": ""
             }
            },
            "type": "scattercarpet"
           }
          ],
          "scattergeo": [
           {
            "marker": {
             "colorbar": {
              "outlinewidth": 0,
              "ticks": ""
             }
            },
            "type": "scattergeo"
           }
          ],
          "scattergl": [
           {
            "marker": {
             "colorbar": {
              "outlinewidth": 0,
              "ticks": ""
             }
            },
            "type": "scattergl"
           }
          ],
          "scattermapbox": [
           {
            "marker": {
             "colorbar": {
              "outlinewidth": 0,
              "ticks": ""
             }
            },
            "type": "scattermapbox"
           }
          ],
          "scatterpolar": [
           {
            "marker": {
             "colorbar": {
              "outlinewidth": 0,
              "ticks": ""
             }
            },
            "type": "scatterpolar"
           }
          ],
          "scatterpolargl": [
           {
            "marker": {
             "colorbar": {
              "outlinewidth": 0,
              "ticks": ""
             }
            },
            "type": "scatterpolargl"
           }
          ],
          "scatterternary": [
           {
            "marker": {
             "colorbar": {
              "outlinewidth": 0,
              "ticks": ""
             }
            },
            "type": "scatterternary"
           }
          ],
          "surface": [
           {
            "colorbar": {
             "outlinewidth": 0,
             "ticks": ""
            },
            "colorscale": [
             [
              0,
              "#0d0887"
             ],
             [
              0.1111111111111111,
              "#46039f"
             ],
             [
              0.2222222222222222,
              "#7201a8"
             ],
             [
              0.3333333333333333,
              "#9c179e"
             ],
             [
              0.4444444444444444,
              "#bd3786"
             ],
             [
              0.5555555555555556,
              "#d8576b"
             ],
             [
              0.6666666666666666,
              "#ed7953"
             ],
             [
              0.7777777777777778,
              "#fb9f3a"
             ],
             [
              0.8888888888888888,
              "#fdca26"
             ],
             [
              1,
              "#f0f921"
             ]
            ],
            "type": "surface"
           }
          ],
          "table": [
           {
            "cells": {
             "fill": {
              "color": "#EBF0F8"
             },
             "line": {
              "color": "white"
             }
            },
            "header": {
             "fill": {
              "color": "#C8D4E3"
             },
             "line": {
              "color": "white"
             }
            },
            "type": "table"
           }
          ]
         },
         "layout": {
          "annotationdefaults": {
           "arrowcolor": "#2a3f5f",
           "arrowhead": 0,
           "arrowwidth": 1
          },
          "autotypenumbers": "strict",
          "coloraxis": {
           "colorbar": {
            "outlinewidth": 0,
            "ticks": ""
           }
          },
          "colorscale": {
           "diverging": [
            [
             0,
             "#8e0152"
            ],
            [
             0.1,
             "#c51b7d"
            ],
            [
             0.2,
             "#de77ae"
            ],
            [
             0.3,
             "#f1b6da"
            ],
            [
             0.4,
             "#fde0ef"
            ],
            [
             0.5,
             "#f7f7f7"
            ],
            [
             0.6,
             "#e6f5d0"
            ],
            [
             0.7,
             "#b8e186"
            ],
            [
             0.8,
             "#7fbc41"
            ],
            [
             0.9,
             "#4d9221"
            ],
            [
             1,
             "#276419"
            ]
           ],
           "sequential": [
            [
             0,
             "#0d0887"
            ],
            [
             0.1111111111111111,
             "#46039f"
            ],
            [
             0.2222222222222222,
             "#7201a8"
            ],
            [
             0.3333333333333333,
             "#9c179e"
            ],
            [
             0.4444444444444444,
             "#bd3786"
            ],
            [
             0.5555555555555556,
             "#d8576b"
            ],
            [
             0.6666666666666666,
             "#ed7953"
            ],
            [
             0.7777777777777778,
             "#fb9f3a"
            ],
            [
             0.8888888888888888,
             "#fdca26"
            ],
            [
             1,
             "#f0f921"
            ]
           ],
           "sequentialminus": [
            [
             0,
             "#0d0887"
            ],
            [
             0.1111111111111111,
             "#46039f"
            ],
            [
             0.2222222222222222,
             "#7201a8"
            ],
            [
             0.3333333333333333,
             "#9c179e"
            ],
            [
             0.4444444444444444,
             "#bd3786"
            ],
            [
             0.5555555555555556,
             "#d8576b"
            ],
            [
             0.6666666666666666,
             "#ed7953"
            ],
            [
             0.7777777777777778,
             "#fb9f3a"
            ],
            [
             0.8888888888888888,
             "#fdca26"
            ],
            [
             1,
             "#f0f921"
            ]
           ]
          },
          "colorway": [
           "#636efa",
           "#EF553B",
           "#00cc96",
           "#ab63fa",
           "#FFA15A",
           "#19d3f3",
           "#FF6692",
           "#B6E880",
           "#FF97FF",
           "#FECB52"
          ],
          "font": {
           "color": "#2a3f5f"
          },
          "geo": {
           "bgcolor": "white",
           "lakecolor": "white",
           "landcolor": "#E5ECF6",
           "showlakes": true,
           "showland": true,
           "subunitcolor": "white"
          },
          "hoverlabel": {
           "align": "left"
          },
          "hovermode": "closest",
          "mapbox": {
           "style": "light"
          },
          "paper_bgcolor": "white",
          "plot_bgcolor": "#E5ECF6",
          "polar": {
           "angularaxis": {
            "gridcolor": "white",
            "linecolor": "white",
            "ticks": ""
           },
           "bgcolor": "#E5ECF6",
           "radialaxis": {
            "gridcolor": "white",
            "linecolor": "white",
            "ticks": ""
           }
          },
          "scene": {
           "xaxis": {
            "backgroundcolor": "#E5ECF6",
            "gridcolor": "white",
            "gridwidth": 2,
            "linecolor": "white",
            "showbackground": true,
            "ticks": "",
            "zerolinecolor": "white"
           },
           "yaxis": {
            "backgroundcolor": "#E5ECF6",
            "gridcolor": "white",
            "gridwidth": 2,
            "linecolor": "white",
            "showbackground": true,
            "ticks": "",
            "zerolinecolor": "white"
           },
           "zaxis": {
            "backgroundcolor": "#E5ECF6",
            "gridcolor": "white",
            "gridwidth": 2,
            "linecolor": "white",
            "showbackground": true,
            "ticks": "",
            "zerolinecolor": "white"
           }
          },
          "shapedefaults": {
           "line": {
            "color": "#2a3f5f"
           }
          },
          "ternary": {
           "aaxis": {
            "gridcolor": "white",
            "linecolor": "white",
            "ticks": ""
           },
           "baxis": {
            "gridcolor": "white",
            "linecolor": "white",
            "ticks": ""
           },
           "bgcolor": "#E5ECF6",
           "caxis": {
            "gridcolor": "white",
            "linecolor": "white",
            "ticks": ""
           }
          },
          "title": {
           "x": 0.05
          },
          "xaxis": {
           "automargin": true,
           "gridcolor": "white",
           "linecolor": "white",
           "ticks": "",
           "title": {
            "standoff": 15
           },
           "zerolinecolor": "white",
           "zerolinewidth": 2
          },
          "yaxis": {
           "automargin": true,
           "gridcolor": "white",
           "linecolor": "white",
           "ticks": "",
           "title": {
            "standoff": 15
           },
           "zerolinecolor": "white",
           "zerolinewidth": 2
          }
         }
        },
        "title": {
         "text": "All 24 Patients Onset Length"
        },
        "violinmode": "group",
        "xaxis": {
         "anchor": "y",
         "domain": [
          0,
          1
         ]
        },
        "yaxis": {
         "anchor": "x",
         "domain": [
          0,
          1
         ],
         "title": {
          "text": "Duration (seconds)"
         }
        }
       }
      },
      "text/html": [
       "<div>                            <div id=\"b507619f-8787-4711-a1b8-180e3a61e4db\" class=\"plotly-graph-div\" style=\"height:525px; width:100%;\"></div>            <script type=\"text/javascript\">                require([\"plotly\"], function(Plotly) {                    window.PLOTLYENV=window.PLOTLYENV || {};                                    if (document.getElementById(\"b507619f-8787-4711-a1b8-180e3a61e4db\")) {                    Plotly.newPlot(                        \"b507619f-8787-4711-a1b8-180e3a61e4db\",                        [{\"alignmentgroup\":\"True\",\"box\":{\"visible\":true},\"customdata\":[[\"chb01_03.edf: 40s\"],[\"chb01_04.edf: 27s\"],[\"chb01_15.edf: 40s\"],[\"chb01_16.edf: 51s\"],[\"chb01_18.edf: 90s\"],[\"chb01_21.edf: 93s\"],[\"chb01_26.edf: 101s\"],[\"chb02_16.edf: 82s\"],[\"chb02_16+.edf: 81s\"],[\"chb02_19.edf: 9s\"],[\"chb03_01.edf: 52s\"],[\"chb03_02.edf: 65s\"],[\"chb03_03.edf: 69s\"],[\"chb03_04.edf: 52s\"],[\"chb03_34.edf: 47s\"],[\"chb03_35.edf: 64s\"],[\"chb03_36.edf: 53s\"],[\"chb04_05.edf: 49s\"],[\"chb04_08.edf: 111s\"],[\"chb04_28.edf: 102s\"],[\"chb04_28.edf: 116s\"],[\"chb05_06.edf: 115s\"],[\"chb05_13.edf: 110s\"],[\"chb05_16.edf: 96s\"],[\"chb05_17.edf: 120s\"],[\"chb05_22.edf: 117s\"],[\"chb06_01.edf: 14s\"],[\"chb06_01.edf: 15s\"],[\"chb06_01.edf: 15s\"],[\"chb06_04.edf: 20s\"],[\"chb06_04.edf: 20s\"],[\"chb06_09.edf: 16s\"],[\"chb06_10.edf: 12s\"],[\"chb06_13.edf: 13s\"],[\"chb06_18.edf: 12s\"],[\"chb06_24.edf: 16s\"],[\"chb07_12.edf: 86s\"],[\"chb07_13.edf: 96s\"],[\"chb07_19.edf: 143s\"],[\"chb08_02.edf: 171s\"],[\"chb08_05.edf: 190s\"],[\"chb08_11.edf: 134s\"],[\"chb08_13.edf: 160s\"],[\"chb08_21.edf: 264s\"],[\"chb09_06.edf: 64s\"],[\"chb09_08.edf: 79s\"],[\"chb09_08.edf: 71s\"],[\"chb09_19.edf: 62s\"],[\"chb10_12.edf: 35s\"],[\"chb10_20.edf: 70s\"],[\"chb10_27.edf: 65s\"],[\"chb10_30.edf: 58s\"],[\"chb10_31.edf: 76s\"],[\"chb10_38.edf: 89s\"],[\"chb10_89.edf: 54s\"],[\"chb11_82.edf: 22s\"],[\"chb11_92.edf: 32s\"],[\"chb11_99.edf: 752s\"],[\"chb12_06.edf: 61s\"],[\"chb12_06.edf: 32s\"],[\"chb12_08.edf: 13s\"],[\"chb12_08.edf: 23s\"],[\"chb12_08.edf: 20s\"],[\"chb12_08.edf: 26s\"],[\"chb12_09.edf: 32s\"],[\"chb12_09.edf: 32s\"],[\"chb12_10.edf: 32s\"],[\"chb12_10.edf: 45s\"],[\"chb12_11.edf: 37s\"],[\"chb12_23.edf: 80s\"],[\"chb12_23.edf: 97s\"],[\"chb12_23.edf: 40s\"],[\"chb12_27.edf: 35s\"],[\"chb12_27.edf: 27s\"],[\"chb12_27.edf: 25s\"],[\"chb12_27.edf: 42s\"],[\"chb12_27.edf: 52s\"],[\"chb12_27.edf: 48s\"],[\"chb12_28.edf: 34s\"],[\"chb12_29.edf: 39s\"],[\"chb12_29.edf: 38s\"],[\"chb12_29.edf: 36s\"],[\"chb12_29.edf: 46s\"],[\"chb12_29.edf: 37s\"],[\"chb12_29.edf: 27s\"],[\"chb12_33.edf: 21s\"],[\"chb12_33.edf: 23s\"],[\"chb12_36.edf: 27s\"],[\"chb12_38.edf: 25s\"],[\"chb12_38.edf: 23s\"],[\"chb12_38.edf: 43s\"],[\"chb12_38.edf: 55s\"],[\"chb12_38.edf: 46s\"],[\"chb12_42.edf: 51s\"],[\"chb12_42.edf: 28s\"],[\"chb12_42.edf: 29s\"],[\"chb12_42.edf: 25s\"],[\"chb12_42.edf: 23s\"],[\"chb13_19.edf: 44s\"],[\"chb13_21.edf: 70s\"],[\"chb13_40.edf: 31s\"],[\"chb13_40.edf: 64s\"],[\"chb13_55.edf: 20s\"],[\"chb13_55.edf: 18s\"],[\"chb13_58.edf: 17s\"],[\"chb13_59.edf: 62s\"],[\"chb13_60.edf: 22s\"],[\"chb13_62.edf: 65s\"],[\"chb13_62.edf: 65s\"],[\"chb13_62.edf: 57s\"],[\"chb14_03.edf: 14s\"],[\"chb14_04.edf: 20s\"],[\"chb14_04.edf: 22s\"],[\"chb14_06.edf: 14s\"],[\"chb14_11.edf: 41s\"],[\"chb14_17.edf: 20s\"],[\"chb14_18.edf: 22s\"],[\"chb14_27.edf: 16s\"],[\"chb15_06.edf: 125s\"],[\"chb15_10.edf: 31s\"],[\"chb15_15.edf: 157s\"],[\"chb15_17.edf: 35s\"],[\"chb15_20.edf: 55s\"],[\"chb15_22.edf: 205s\"],[\"chb15_28.edf: 190s\"],[\"chb15_31.edf: 120s\"],[\"chb15_40.edf: 60s\"],[\"chb15_40.edf: 119s\"],[\"chb15_40.edf: 63s\"],[\"chb15_46.edf: 107s\"],[\"chb15_49.edf: 140s\"],[\"chb15_52.edf: 71s\"],[\"chb15_54.edf: 55s\"],[\"chb15_54.edf: 177s\"],[\"chb15_54.edf: 71s\"],[\"chb15_54.edf: 71s\"],[\"chb15_54.edf: 32s\"],[\"chb15_62.edf: 108s\"],[\"chb16_10.edf: 9s\"],[\"chb16_11.edf: 9s\"],[\"chb16_14.edf: 14s\"],[\"chb16_16.edf: 6s\"],[\"chb16_17.edf: 9s\"],[\"chb16_17.edf: 6s\"],[\"chb16_17.edf: 8s\"],[\"chb16_17.edf: 8s\"],[\"chb16_18.edf: 8s\"],[\"chb16_18.edf: 7s\"],[\"chb17a_03.edf: 90s\"],[\"chb17a_04.edf: 115s\"],[\"chb17b_63.edf: 88s\"],[\"chb18_29.edf: 50s\"],[\"chb18_30.edf: 30s\"],[\"chb18_31.edf: 68s\"],[\"chb18_32.edf: 55s\"],[\"chb18_35.edf: 68s\"],[\"chb18_36.edf: 46s\"],[\"chb19_28.edf: 78s\"],[\"chb19_29.edf: 77s\"],[\"chb19_30.edf: 81s\"],[\"chb20_12.edf: 29s\"],[\"chb20_13.edf: 30s\"],[\"chb20_13.edf: 39s\"],[\"chb20_14.edf: 38s\"],[\"chb20_15.edf: 35s\"],[\"chb20_15.edf: 49s\"],[\"chb20_16.edf: 35s\"],[\"chb20_68.edf: 39s\"],[\"chb21_19.edf: 56s\"],[\"chb21_20.edf: 50s\"],[\"chb21_21.edf: 81s\"],[\"chb21_22.edf: 12s\"],[\"chb22_20.edf: 58s\"],[\"chb22_25.edf: 74s\"],[\"chb22_38.edf: 72s\"],[\"chb23_06.edf: 113s\"],[\"chb23_08.edf: 20s\"],[\"chb23_08.edf: 47s\"],[\"chb23_09.edf: 71s\"],[\"chb23_09.edf: 62s\"],[\"chb23_09.edf: 27s\"],[\"chb23_09.edf: 84s\"],[\"chb24_01.edf: 25s\"],[\"chb24_01.edf: 25s\"],[\"chb24_03.edf: 29s\"],[\"chb24_03.edf: 25s\"],[\"chb24_04.edf: 32s\"],[\"chb24_04.edf: 27s\"],[\"chb24_04.edf: 19s\"],[\"chb24_06.edf: 24s\"],[\"chb24_07.edf: 22s\"],[\"chb24_09.edf: 19s\"],[\"chb24_11.edf: 70s\"],[\"chb24_13.edf: 16s\"],[\"chb24_14.edf: 27s\"],[\"chb24_15.edf: 17s\"],[\"chb24_17.edf: 66s\"],[\"chb24_21.edf: 68s\"]],\"hovertemplate\":\"Duration (seconds)=%{y}<br>Description=%{customdata[0]}<extra></extra>\",\"legendgroup\":\"\",\"marker\":{\"color\":\"#636efa\"},\"name\":\"\",\"offsetgroup\":\"\",\"orientation\":\"v\",\"points\":\"all\",\"scalegroup\":\"True\",\"showlegend\":false,\"x0\":\" \",\"xaxis\":\"x\",\"y\":[40,27,40,51,90,93,101,82,81,9,52,65,69,52,47,64,53,49,111,102,116,115,110,96,120,117,14,15,15,20,20,16,12,13,12,16,86,96,143,171,190,134,160,264,64,79,71,62,35,70,65,58,76,89,54,22,32,752,61,32,13,23,20,26,32,32,32,45,37,80,97,40,35,27,25,42,52,48,34,39,38,36,46,37,27,21,23,27,25,23,43,55,46,51,28,29,25,23,44,70,31,64,20,18,17,62,22,65,65,57,14,20,22,14,41,20,22,16,125,31,157,35,55,205,190,120,60,119,63,107,140,71,55,177,71,71,32,108,9,9,14,6,9,6,8,8,8,7,90,115,88,50,30,68,55,68,46,78,77,81,29,30,39,38,35,49,35,39,56,50,81,12,58,74,72,113,20,47,71,62,27,84,25,25,29,25,32,27,19,24,22,19,70,16,27,17,66,68],\"y0\":\" \",\"yaxis\":\"y\",\"type\":\"violin\"}],                        {\"template\":{\"data\":{\"histogram2dcontour\":[{\"type\":\"histogram2dcontour\",\"colorbar\":{\"outlinewidth\":0,\"ticks\":\"\"},\"colorscale\":[[0.0,\"#0d0887\"],[0.1111111111111111,\"#46039f\"],[0.2222222222222222,\"#7201a8\"],[0.3333333333333333,\"#9c179e\"],[0.4444444444444444,\"#bd3786\"],[0.5555555555555556,\"#d8576b\"],[0.6666666666666666,\"#ed7953\"],[0.7777777777777778,\"#fb9f3a\"],[0.8888888888888888,\"#fdca26\"],[1.0,\"#f0f921\"]]}],\"choropleth\":[{\"type\":\"choropleth\",\"colorbar\":{\"outlinewidth\":0,\"ticks\":\"\"}}],\"histogram2d\":[{\"type\":\"histogram2d\",\"colorbar\":{\"outlinewidth\":0,\"ticks\":\"\"},\"colorscale\":[[0.0,\"#0d0887\"],[0.1111111111111111,\"#46039f\"],[0.2222222222222222,\"#7201a8\"],[0.3333333333333333,\"#9c179e\"],[0.4444444444444444,\"#bd3786\"],[0.5555555555555556,\"#d8576b\"],[0.6666666666666666,\"#ed7953\"],[0.7777777777777778,\"#fb9f3a\"],[0.8888888888888888,\"#fdca26\"],[1.0,\"#f0f921\"]]}],\"heatmap\":[{\"type\":\"heatmap\",\"colorbar\":{\"outlinewidth\":0,\"ticks\":\"\"},\"colorscale\":[[0.0,\"#0d0887\"],[0.1111111111111111,\"#46039f\"],[0.2222222222222222,\"#7201a8\"],[0.3333333333333333,\"#9c179e\"],[0.4444444444444444,\"#bd3786\"],[0.5555555555555556,\"#d8576b\"],[0.6666666666666666,\"#ed7953\"],[0.7777777777777778,\"#fb9f3a\"],[0.8888888888888888,\"#fdca26\"],[1.0,\"#f0f921\"]]}],\"heatmapgl\":[{\"type\":\"heatmapgl\",\"colorbar\":{\"outlinewidth\":0,\"ticks\":\"\"},\"colorscale\":[[0.0,\"#0d0887\"],[0.1111111111111111,\"#46039f\"],[0.2222222222222222,\"#7201a8\"],[0.3333333333333333,\"#9c179e\"],[0.4444444444444444,\"#bd3786\"],[0.5555555555555556,\"#d8576b\"],[0.6666666666666666,\"#ed7953\"],[0.7777777777777778,\"#fb9f3a\"],[0.8888888888888888,\"#fdca26\"],[1.0,\"#f0f921\"]]}],\"contourcarpet\":[{\"type\":\"contourcarpet\",\"colorbar\":{\"outlinewidth\":0,\"ticks\":\"\"}}],\"contour\":[{\"type\":\"contour\",\"colorbar\":{\"outlinewidth\":0,\"ticks\":\"\"},\"colorscale\":[[0.0,\"#0d0887\"],[0.1111111111111111,\"#46039f\"],[0.2222222222222222,\"#7201a8\"],[0.3333333333333333,\"#9c179e\"],[0.4444444444444444,\"#bd3786\"],[0.5555555555555556,\"#d8576b\"],[0.6666666666666666,\"#ed7953\"],[0.7777777777777778,\"#fb9f3a\"],[0.8888888888888888,\"#fdca26\"],[1.0,\"#f0f921\"]]}],\"surface\":[{\"type\":\"surface\",\"colorbar\":{\"outlinewidth\":0,\"ticks\":\"\"},\"colorscale\":[[0.0,\"#0d0887\"],[0.1111111111111111,\"#46039f\"],[0.2222222222222222,\"#7201a8\"],[0.3333333333333333,\"#9c179e\"],[0.4444444444444444,\"#bd3786\"],[0.5555555555555556,\"#d8576b\"],[0.6666666666666666,\"#ed7953\"],[0.7777777777777778,\"#fb9f3a\"],[0.8888888888888888,\"#fdca26\"],[1.0,\"#f0f921\"]]}],\"mesh3d\":[{\"type\":\"mesh3d\",\"colorbar\":{\"outlinewidth\":0,\"ticks\":\"\"}}],\"scatter\":[{\"fillpattern\":{\"fillmode\":\"overlay\",\"size\":10,\"solidity\":0.2},\"type\":\"scatter\"}],\"parcoords\":[{\"type\":\"parcoords\",\"line\":{\"colorbar\":{\"outlinewidth\":0,\"ticks\":\"\"}}}],\"scatterpolargl\":[{\"type\":\"scatterpolargl\",\"marker\":{\"colorbar\":{\"outlinewidth\":0,\"ticks\":\"\"}}}],\"bar\":[{\"error_x\":{\"color\":\"#2a3f5f\"},\"error_y\":{\"color\":\"#2a3f5f\"},\"marker\":{\"line\":{\"color\":\"#E5ECF6\",\"width\":0.5},\"pattern\":{\"fillmode\":\"overlay\",\"size\":10,\"solidity\":0.2}},\"type\":\"bar\"}],\"scattergeo\":[{\"type\":\"scattergeo\",\"marker\":{\"colorbar\":{\"outlinewidth\":0,\"ticks\":\"\"}}}],\"scatterpolar\":[{\"type\":\"scatterpolar\",\"marker\":{\"colorbar\":{\"outlinewidth\":0,\"ticks\":\"\"}}}],\"histogram\":[{\"marker\":{\"pattern\":{\"fillmode\":\"overlay\",\"size\":10,\"solidity\":0.2}},\"type\":\"histogram\"}],\"scattergl\":[{\"type\":\"scattergl\",\"marker\":{\"colorbar\":{\"outlinewidth\":0,\"ticks\":\"\"}}}],\"scatter3d\":[{\"type\":\"scatter3d\",\"line\":{\"colorbar\":{\"outlinewidth\":0,\"ticks\":\"\"}},\"marker\":{\"colorbar\":{\"outlinewidth\":0,\"ticks\":\"\"}}}],\"scattermapbox\":[{\"type\":\"scattermapbox\",\"marker\":{\"colorbar\":{\"outlinewidth\":0,\"ticks\":\"\"}}}],\"scatterternary\":[{\"type\":\"scatterternary\",\"marker\":{\"colorbar\":{\"outlinewidth\":0,\"ticks\":\"\"}}}],\"scattercarpet\":[{\"type\":\"scattercarpet\",\"marker\":{\"colorbar\":{\"outlinewidth\":0,\"ticks\":\"\"}}}],\"carpet\":[{\"aaxis\":{\"endlinecolor\":\"#2a3f5f\",\"gridcolor\":\"white\",\"linecolor\":\"white\",\"minorgridcolor\":\"white\",\"startlinecolor\":\"#2a3f5f\"},\"baxis\":{\"endlinecolor\":\"#2a3f5f\",\"gridcolor\":\"white\",\"linecolor\":\"white\",\"minorgridcolor\":\"white\",\"startlinecolor\":\"#2a3f5f\"},\"type\":\"carpet\"}],\"table\":[{\"cells\":{\"fill\":{\"color\":\"#EBF0F8\"},\"line\":{\"color\":\"white\"}},\"header\":{\"fill\":{\"color\":\"#C8D4E3\"},\"line\":{\"color\":\"white\"}},\"type\":\"table\"}],\"barpolar\":[{\"marker\":{\"line\":{\"color\":\"#E5ECF6\",\"width\":0.5},\"pattern\":{\"fillmode\":\"overlay\",\"size\":10,\"solidity\":0.2}},\"type\":\"barpolar\"}],\"pie\":[{\"automargin\":true,\"type\":\"pie\"}]},\"layout\":{\"autotypenumbers\":\"strict\",\"colorway\":[\"#636efa\",\"#EF553B\",\"#00cc96\",\"#ab63fa\",\"#FFA15A\",\"#19d3f3\",\"#FF6692\",\"#B6E880\",\"#FF97FF\",\"#FECB52\"],\"font\":{\"color\":\"#2a3f5f\"},\"hovermode\":\"closest\",\"hoverlabel\":{\"align\":\"left\"},\"paper_bgcolor\":\"white\",\"plot_bgcolor\":\"#E5ECF6\",\"polar\":{\"bgcolor\":\"#E5ECF6\",\"angularaxis\":{\"gridcolor\":\"white\",\"linecolor\":\"white\",\"ticks\":\"\"},\"radialaxis\":{\"gridcolor\":\"white\",\"linecolor\":\"white\",\"ticks\":\"\"}},\"ternary\":{\"bgcolor\":\"#E5ECF6\",\"aaxis\":{\"gridcolor\":\"white\",\"linecolor\":\"white\",\"ticks\":\"\"},\"baxis\":{\"gridcolor\":\"white\",\"linecolor\":\"white\",\"ticks\":\"\"},\"caxis\":{\"gridcolor\":\"white\",\"linecolor\":\"white\",\"ticks\":\"\"}},\"coloraxis\":{\"colorbar\":{\"outlinewidth\":0,\"ticks\":\"\"}},\"colorscale\":{\"sequential\":[[0.0,\"#0d0887\"],[0.1111111111111111,\"#46039f\"],[0.2222222222222222,\"#7201a8\"],[0.3333333333333333,\"#9c179e\"],[0.4444444444444444,\"#bd3786\"],[0.5555555555555556,\"#d8576b\"],[0.6666666666666666,\"#ed7953\"],[0.7777777777777778,\"#fb9f3a\"],[0.8888888888888888,\"#fdca26\"],[1.0,\"#f0f921\"]],\"sequentialminus\":[[0.0,\"#0d0887\"],[0.1111111111111111,\"#46039f\"],[0.2222222222222222,\"#7201a8\"],[0.3333333333333333,\"#9c179e\"],[0.4444444444444444,\"#bd3786\"],[0.5555555555555556,\"#d8576b\"],[0.6666666666666666,\"#ed7953\"],[0.7777777777777778,\"#fb9f3a\"],[0.8888888888888888,\"#fdca26\"],[1.0,\"#f0f921\"]],\"diverging\":[[0,\"#8e0152\"],[0.1,\"#c51b7d\"],[0.2,\"#de77ae\"],[0.3,\"#f1b6da\"],[0.4,\"#fde0ef\"],[0.5,\"#f7f7f7\"],[0.6,\"#e6f5d0\"],[0.7,\"#b8e186\"],[0.8,\"#7fbc41\"],[0.9,\"#4d9221\"],[1,\"#276419\"]]},\"xaxis\":{\"gridcolor\":\"white\",\"linecolor\":\"white\",\"ticks\":\"\",\"title\":{\"standoff\":15},\"zerolinecolor\":\"white\",\"automargin\":true,\"zerolinewidth\":2},\"yaxis\":{\"gridcolor\":\"white\",\"linecolor\":\"white\",\"ticks\":\"\",\"title\":{\"standoff\":15},\"zerolinecolor\":\"white\",\"automargin\":true,\"zerolinewidth\":2},\"scene\":{\"xaxis\":{\"backgroundcolor\":\"#E5ECF6\",\"gridcolor\":\"white\",\"linecolor\":\"white\",\"showbackground\":true,\"ticks\":\"\",\"zerolinecolor\":\"white\",\"gridwidth\":2},\"yaxis\":{\"backgroundcolor\":\"#E5ECF6\",\"gridcolor\":\"white\",\"linecolor\":\"white\",\"showbackground\":true,\"ticks\":\"\",\"zerolinecolor\":\"white\",\"gridwidth\":2},\"zaxis\":{\"backgroundcolor\":\"#E5ECF6\",\"gridcolor\":\"white\",\"linecolor\":\"white\",\"showbackground\":true,\"ticks\":\"\",\"zerolinecolor\":\"white\",\"gridwidth\":2}},\"shapedefaults\":{\"line\":{\"color\":\"#2a3f5f\"}},\"annotationdefaults\":{\"arrowcolor\":\"#2a3f5f\",\"arrowhead\":0,\"arrowwidth\":1},\"geo\":{\"bgcolor\":\"white\",\"landcolor\":\"#E5ECF6\",\"subunitcolor\":\"white\",\"showland\":true,\"showlakes\":true,\"lakecolor\":\"white\"},\"title\":{\"x\":0.05},\"mapbox\":{\"style\":\"light\"}}},\"xaxis\":{\"anchor\":\"y\",\"domain\":[0.0,1.0]},\"yaxis\":{\"anchor\":\"x\",\"domain\":[0.0,1.0],\"title\":{\"text\":\"Duration (seconds)\"}},\"legend\":{\"tracegroupgap\":0},\"title\":{\"text\":\"All 24 Patients Onset Length\"},\"violinmode\":\"group\"},                        {\"responsive\": true}                    ).then(function(){\n",
       "                            \n",
       "var gd = document.getElementById('b507619f-8787-4711-a1b8-180e3a61e4db');\n",
       "var x = new MutationObserver(function (mutations, observer) {{\n",
       "        var display = window.getComputedStyle(gd).display;\n",
       "        if (!display || display === 'none') {{\n",
       "            console.log([gd, 'removed!']);\n",
       "            Plotly.purge(gd);\n",
       "            observer.disconnect();\n",
       "        }}\n",
       "}});\n",
       "\n",
       "// Listen for the removal of the full notebook cells\n",
       "var notebookContainer = gd.closest('#notebook-container');\n",
       "if (notebookContainer) {{\n",
       "    x.observe(notebookContainer, {childList: true});\n",
       "}}\n",
       "\n",
       "// Listen for the clearing of the current output cell\n",
       "var outputEl = gd.closest('.output');\n",
       "if (outputEl) {{\n",
       "    x.observe(outputEl, {childList: true});\n",
       "}}\n",
       "\n",
       "                        })                };                });            </script>        </div>"
      ]
     },
     "metadata": {},
     "output_type": "display_data"
    }
   ],
   "source": [
    "data_dir = \"./physionet.org/files/chbmit/1.0.0/\"\n",
    "df_lst = []\n",
    "\n",
    "for indexPatient in range(1, 24+1):\n",
    "    last_end_dt = None; last_edfname = ''\n",
    "    df = pd.DataFrame(columns=['Duration (seconds)', 'Description'])\n",
    "    with open(data_dir+'chb%02d/chb%02d' % (indexPatient, indexPatient)+'-summary.txt', 'r') as f:\n",
    "        for line in f:\n",
    "            data=line.split(':')\n",
    "            if(data[0]==\"File Name\"):\n",
    "                edfName=data[1].strip()              \n",
    "                nextLine = f.readline().strip()\n",
    "                while (len(nextLine) != 0 and not nextLine.startswith('Number of Seizures in File:')):\n",
    "                    nextLine = f.readline().strip()\n",
    "                if nextLine.startswith('Number of Seizures in File:'):\n",
    "                    for j in range(0, int(nextLine.split(':')[1])):\n",
    "                        szStartSec = int(f.readline().split(': ')[1].strip().split(' ')[0])\n",
    "                        szEndSec = int(f.readline().split(': ')[1].strip().split(' ')[0])\n",
    "                        # pat_json[-1]['Seizures'].append([szStartSec, szEndSec])\n",
    "                        df.loc[len(df)] = {'Duration (seconds)': szEndSec-szStartSec, 'Description': f\"{edfName}: {szEndSec-szStartSec}s\"}\n",
    "\n",
    "    # plot_violin(f\"chb{indexPatient:02d}-len(gap)-dist\", df)\n",
    "    df_lst.append(df)\n",
    "plot_violin(\"All 24 Patients Onset Length\", pd.concat(df_lst))"
   ]
  },
  {
   "cell_type": "code",
   "execution_count": 3,
   "metadata": {},
   "outputs": [],
   "source": [
    "import json\n",
    "\n",
    "data_dir = \"./physionet.org/files/chbmit/1.0.0/\"\n",
    "output_dir = \"unrecorded_chbmit\"\n",
    "continuous_threshold = 38 # Unit (second)\n",
    "# A floating-point type threshold. When length of gap between two adjacent records is greater than or equal to this value, \n",
    "# it indicates there might be a potential onset not recorded within this gap. \n",
    "# So the labels around this gap cannot be determined as inter-ictal, pre-ictal or post-icatl. \n",
    "# These contaminated non-ictal data will not be used.\n",
    "\n",
    "dt_fmt = '%Y-%m-%d %H:%M:%S'\n",
    "for indexPatient in range(1, 24+1):\n",
    "    last_end_dt = None; last_edfname = ''\n",
    "    pat_noncontinuous_lst = []\n",
    "    with open(data_dir+'chb%02d/chb%02d' % (indexPatient, indexPatient)+'-summary.txt', 'r') as f:\n",
    "        for line in f:\n",
    "            data=line.split(':')\n",
    "            if(data[0]==\"File Name\"):\n",
    "                edfName=data[1].strip()              \n",
    "                pedf = pyedflib.EdfReader(data_dir+'chb%02d/%s' % (indexPatient, edfName))\n",
    "                startTime = pedf.getStartdatetime()\n",
    "                if last_end_dt is not None:\n",
    "                    sec = (startTime - last_end_dt).total_seconds()\n",
    "                    if sec >= continuous_threshold:\n",
    "                        pat_noncontinuous_lst.append([last_end_dt.strftime(dt_fmt), startTime.strftime(dt_fmt)])\n",
    "                last_end_dt = startTime + datetime.timedelta(seconds=pedf.getFileDuration())\n",
    "                last_edfname = edfName\n",
    "                \n",
    "                pedf.close() # TODO replace with 'with' stat\n",
    "    \n",
    "    with open(os.path.join(output_dir, f\"chb{indexPatient:02d}\", \"unrecorded_gap.json\"), \"wt\") as f:\n",
    "        json.dump(pat_noncontinuous_lst, f, indent=2)"
   ]
  }
 ],
 "metadata": {
  "kernelspec": {
   "display_name": "fabd",
   "language": "python",
   "name": "python3"
  },
  "language_info": {
   "codemirror_mode": {
    "name": "ipython",
    "version": 3
   },
   "file_extension": ".py",
   "mimetype": "text/x-python",
   "name": "python",
   "nbconvert_exporter": "python",
   "pygments_lexer": "ipython3",
   "version": "3.11.5"
  },
  "orig_nbformat": 4
 },
 "nbformat": 4,
 "nbformat_minor": 2
}
