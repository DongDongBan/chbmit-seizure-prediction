{
 "cells": [
  {
   "cell_type": "code",
   "execution_count": null,
   "metadata": {},
   "outputs": [],
   "source": [
    "# TODO Combined with command-line arguments\n",
    "from config import *"
   ]
  },
  {
   "cell_type": "code",
   "execution_count": null,
   "metadata": {},
   "outputs": [],
   "source": [
    "from pyedflib import EdfReader\n",
    "\n",
    "class EdfReaderWrapper(EdfReader):\n",
    "    def __init__(self, *args, **kwargs):\n",
    "        super().__init__(*args, **kwargs)\n",
    "    def __enter__(self):\n",
    "        return self\n",
    "    def __exit__(self, *args):\n",
    "        super().close()"
   ]
  },
  {
   "cell_type": "code",
   "execution_count": null,
   "metadata": {},
   "outputs": [],
   "source": [
    "import os\n",
    "import json\n",
    "from datetime import timedelta\n",
    "import pyedflib\n",
    "\n",
    "outdir = timeline_info_path\n",
    "data_dir = dataset_path\n",
    "\n",
    "for indexPatient in range(1, 24+1):\n",
    "    result_obj = {\"record_lst\": [], \"seizure_lst\": [], \"unused_rec_idx_lst\": []}\n",
    "    with open(os.path.join(data_dir, f\"chb{indexPatient:02d}\", f\"chb{indexPatient:02d}-summary.txt\"), 'r') as f:\n",
    "        for line in f:\n",
    "            data=line.split(':')\n",
    "            if(data[0]==\"File Name\"):\n",
    "                edfName=data[1].strip()\n",
    "\n",
    "                with EdfReaderWrapper(os.path.join(data_dir, f\"chb{indexPatient:02d}\", edfName)) as pedf: \n",
    "                    startTime = pedf.getStartdatetime()\n",
    "                    startStr = startTime.strftime(dt_fmt)\n",
    "                    endTime = startTime + timedelta(seconds=pedf.getFileDuration())\n",
    "                    endStr = endTime.strftime(dt_fmt)\n",
    "                    result_obj[\"record_lst\"].append({\n",
    "                        \"file\": edfName, \n",
    "                        \"span\": [startStr, endStr], \n",
    "                        \"info\": f\"{edfName} records {startTime} ~ {endTime} \\r\\n of shape {pedf.signals_in_file, pedf.getNSamples()[0]}\"\n",
    "                    })\n",
    "                    \n",
    "                nextLine = f.readline().strip()\n",
    "                while (len(nextLine) != 0 and not nextLine.startswith('Number of Seizures in File:')):\n",
    "                    nextLine = f.readline().strip()\n",
    "                if nextLine.startswith('Number of Seizures in File:'):\n",
    "                    for j in range(0, int(nextLine.split(':')[1])):\n",
    "                        szStartSec = int(f.readline().split(': ')[1].strip().split(' ')[0])\n",
    "                        szEndSec = int(f.readline().split(': ')[1].strip().split(' ')[0])\n",
    "                        szStartDT = startTime+timedelta(seconds=szStartSec)\n",
    "                        szEndDT = startTime+timedelta(seconds=szEndSec)\n",
    "                        result_obj[\"seizure_lst\"].append({\n",
    "                            \"span\": [szStartDT.strftime(dt_fmt), szEndDT.strftime(dt_fmt)], \n",
    "                            \"info\": f'Onset {szStartDT}, last {szEndSec - szStartSec}s'\n",
    "                        })\n",
    "\n",
    "        # result_obj[\"record_lst\"].sort(key=lambda obj:obj[\"span\"])\n",
    "        # result_obj[\"seizure_lst\"].sort(key=lambda obj:obj[\"span\"])\n",
    "        for k, rec_info in enumerate(result_obj[\"record_lst\"]):\n",
    "            if rec_info[\"file\"] in ignore_lst:\n",
    "                result_obj[\"unused_rec_idx_lst\"].append(k)\n",
    "        #   rec_info[\"span\"] = [rec_info[\"span\"][0].strftime(dt_fmt), rec_info[\"span\"][1].strftime(dt_fmt)]\n",
    "        \n",
    "    with open(os.path.join(outdir, f'chb{indexPatient:02d}.json'), 'wt') as f:\n",
    "        json.dump(result_obj, f, indent=2)"
   ]
  }
 ],
 "metadata": {
  "language_info": {
   "name": "python"
  },
  "orig_nbformat": 4
 },
 "nbformat": 4,
 "nbformat_minor": 2
}
