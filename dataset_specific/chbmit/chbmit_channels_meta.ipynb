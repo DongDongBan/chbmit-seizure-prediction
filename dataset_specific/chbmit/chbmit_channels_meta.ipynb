{
 "cells": [
  {
   "attachments": {},
   "cell_type": "markdown",
   "id": "8097d85c",
   "metadata": {},
   "source": [
    "*Requested third-party library：numpy, pandas, pyedflib, frozendict*"
   ]
  },
  {
   "cell_type": "code",
   "execution_count": null,
   "id": "c3e85926",
   "metadata": {},
   "outputs": [],
   "source": [
    "from config import *"
   ]
  },
  {
   "cell_type": "code",
   "execution_count": 1,
   "id": "467ba2ec-4d29-432d-8270-bc7f4b38d970",
   "metadata": {},
   "outputs": [],
   "source": [
    "import os\n",
    "import numpy as np\n",
    "from pyedflib import EdfReader\n",
    "from pyedflib.highlevel import read_edf"
   ]
  },
  {
   "cell_type": "code",
   "execution_count": 2,
   "id": "a86a281f-3352-4d82-ba8a-1d02068398a1",
   "metadata": {},
   "outputs": [],
   "source": [
    "# pyedflib provides two different levels of API for reading channels info\n",
    "content, ch_hdr_lst, edf_hdr = read_edf(os.path.join(dataset_path, 'chb12', 'chb12_32.edf'), digital=True) # high-level\n",
    "\n",
    "with EdfReader('./physionet.org/files/chbmit/1.0.0/chb12/chb12_32.edf') as f: # low-level \n",
    "    nch = f.getSignalLabels()\n"
   ]
  },
  {
   "cell_type": "code",
   "execution_count": 3,
   "id": "2f848c72-4d85-4da2-807b-4bed9fc2a4b6",
   "metadata": {},
   "outputs": [],
   "source": [
    "import glob\n",
    "from frozendict import frozendict\n",
    "import logging\n",
    "\n",
    "logging.basicConfig(level=logging.DEBUG, format='%(levelname)s:%(message)s')\n",
    "\n",
    "f_lst = glob.glob(os.path.join(dataset_path, '**', '*.edf'), recursive=True)\n",
    "ch_hdr_to_fn = {}\n",
    "for fn in f_lst:\n",
    "    with EdfReader(fn) as f:\n",
    "        eeg_list = f.getSignalHeaders()\n",
    "        # Initialize an empty dictionary\n",
    "        eeg_dict = {}\n",
    "        duplicates = {}\n",
    "\n",
    "        # Loop through the list and add each element as a key-value pair to the dictionary\n",
    "        for k, eeg in enumerate(eeg_list):\n",
    "            # Get the label value as the key\n",
    "            key = eeg['label']\n",
    "            # Get a copy of the element without the label as the value\n",
    "            value = eeg.copy()\n",
    "            # value.pop('label')\n",
    "            # Add the key-value pair to the dictionary\n",
    "            if key in eeg_dict:\n",
    "                if value == eeg_dict[key]:\n",
    "                    # logging.info('Duplicate channel name %s in %s' % (key, fn))\n",
    "                    # print('Duplicate channel name %s in %s' % (key, fn))\n",
    "                    duplicates[key].append(k)\n",
    "                else:\n",
    "                    # logging.warning('Conflict metadata within the same channel name %s in %s' % (key, fn))\n",
    "                    raise Warning('Conflict metadata within the same channel name %s in %s' % (key, fn))\n",
    "            else:\n",
    "                duplicates[key] = [k]\n",
    "            eeg_dict[key] = frozendict(value)\n",
    "            \n",
    "\n",
    "        chinfo_key = tuple(frozendict(achinfo) for achinfo in eeg_list)\n",
    "        if chinfo_key in ch_hdr_to_fn:\n",
    "            ch_hdr_to_fn[chinfo_key].append(fn)\n",
    "        else:\n",
    "            ch_hdr_to_fn[chinfo_key] = [fn]\n",
    "        \n",
    "        # Check if duplicates channel share the same content\n",
    "        # for chname, lst in duplicates.items():\n",
    "        #     if len(lst) > 1:\n",
    "        #         n1 = lst[0]\n",
    "        #         data1 = f.readSignal(n1, digital=True)\n",
    "        #         for i in range(1, len(lst)):\n",
    "        #             n2 = lst[i]\n",
    "        #             data2 = f.readSignal(n2, digital=True)\n",
    "        #             if np.any(data1 != data2):\n",
    "        #                 print(f'Different content in channel {n1} and {n2} of {fn}')\n",
    "\n",
    "        "
   ]
  },
  {
   "cell_type": "code",
   "execution_count": 4,
   "id": "6259075f",
   "metadata": {},
   "outputs": [
    {
     "data": {
      "text/plain": [
       "15"
      ]
     },
     "execution_count": 4,
     "metadata": {},
     "output_type": "execute_result"
    }
   ],
   "source": [
    "len(ch_hdr_to_fn)"
   ]
  },
  {
   "cell_type": "code",
   "execution_count": null,
   "id": "f6f388cc-d98a-448a-adad-a325f5d81bc0",
   "metadata": {},
   "outputs": [],
   "source": [
    "import pandas as pd\n",
    "import os.path\n",
    "from IPython.display import display_html\n",
    "for ch_hdr, fn_lst in ch_hdr_to_fn.items():\n",
    "    print(f'共有\\033[1;33m {len(fn_lst):3} \\033[0m个EDF文件共享如下表的\\033[1;32m {len(ch_hdr)} \\033[0m通道集合') # print(f'{len(fn_lst):3} EDF Files Share the same channels set within {len(ch_hdr)} elements.')\n",
    "    df = pd.DataFrame(ch_hdr).set_index('label')\n",
    "    df_styler = df.style.set_table_attributes(\"style='display:inline'\")\n",
    "    display_html(df_styler._repr_html_()+'<br>', raw=True)\n",
    "    print(*sorted(os.path.basename(fn) for fn in fn_lst), '\\n', sep=' ')\n",
    "    "
   ]
  },
  {
   "cell_type": "code",
   "execution_count": 10,
   "id": "631f8ce5",
   "metadata": {},
   "outputs": [
    {
     "name": "stdout",
     "output_type": "stream",
     "text": [
      "Patient 01 最大公共子集有 22 通道\n",
      "Patient 02 最大公共子集有 22 通道\n",
      "Patient 03 最大公共子集有 22 通道\n",
      "Patient 04 最大公共子集有 22 通道\n",
      "Patient 05 最大公共子集有 22 通道\n",
      "Patient 06 最大公共子集有 22 通道\n",
      "Patient 07 最大公共子集有 22 通道\n",
      "Patient 08 最大公共子集有 22 通道\n",
      "Patient 09 最大公共子集有 23 通道\n",
      "Patient 10 最大公共子集有 22 通道\n",
      "Patient 11 最大公共子集有 23 通道\n",
      "Patient 12 最大公共子集有 23 通道\n",
      "Patient 13 最大公共子集有 19 通道\n",
      "Patient 14 最大公共子集有 23 通道\n",
      "Patient 15 最大公共子集有 32 通道\n",
      "Patient 16 最大公共子集有 23 通道\n",
      "Patient 17 最大公共子集有 23 通道\n",
      "Patient 18 最大公共子集有 23 通道\n",
      "Patient 19 最大公共子集有 23 通道\n",
      "Patient 20 最大公共子集有 23 通道\n",
      "Patient 21 最大公共子集有 23 通道\n",
      "Patient 22 最大公共子集有 23 通道\n",
      "Patient 23 最大公共子集有 22 通道\n",
      "Patient 24 最大公共子集有 22 通道\n"
     ]
    }
   ],
   "source": [
    "# 聚合每位患者的最大公共通道子集并提取该子集 Aggregate the maximum common subset for each patient and extract that subset\n",
    "import os\n",
    "# import pprint\n",
    "import pandas as pd\n",
    "import os.path\n",
    "from IPython.display import display_html\n",
    "# 转换为浮点数组后这四个参数不影响通道之间的比较 These four channel parameters do not affect the comparison between channels after int2float conversion, so they can be discarded\n",
    "def dropfunc(d):\n",
    "    # for k in ['digital_max', 'digital_min', 'physical_max', 'physical_min']:\n",
    "    #     del d[k]\n",
    "    return d\n",
    "\n",
    "output_dict = {}\n",
    "for folder, sub_folders, files in os.walk(dataset_path):  \n",
    "    chinfo2nch_lst = []\n",
    "    common_set = None    \n",
    "    for special_file in files:\n",
    "        if special_file.endswith('.edf'):\n",
    "            if special_file in ignore_lst:  # en: Discard these files as their channel information differs significantly from the same patient mode and is not very useful for prediction\n",
    "                                            # zh: 舍弃掉这些文件，它们的通道信息与同患者众数差异太大且对预测用处不大，不过检测任务可能有小用\n",
    "                continue\n",
    "            file_path = os.path.join(folder, special_file)\n",
    "            with EdfReader(file_path) as f:\n",
    "                eeg_list = f.getSignalHeaders()\n",
    "                chinfo2nch = {}\n",
    "                for n, chinfo in enumerate(eeg_list):\n",
    "                    key = frozendict(dropfunc(eeg_list[n]))\n",
    "                    if key not in chinfo2nch:\n",
    "                        chinfo2nch[key] = n\n",
    "                chinfo2nch_lst.append((special_file, chinfo2nch))\n",
    "                common_set = common_set & chinfo2nch.keys() if common_set else set(chinfo2nch.keys())\n",
    "    if common_set:\n",
    "        print(f'Patient {chinfo2nch_lst[0][0][3:5]} 最大公共子集有 {len(common_set)} 通道', ) # print(f'Patient {chinfo2nch_lst[0][0][3:5]}'s Max Common channel set contains {len(common_set)} elements', )\n",
    "        df = pd.DataFrame(common_set).set_index('label')\n",
    "        # df_styler = df.style.set_table_attributes(\"style='display:inline'\")\n",
    "        # display_html(df_styler._repr_html_()+'<br>', raw=True)   \n",
    "        \n",
    "        # edf_files = [t[0] for t in chinfo2nch_lst]\n",
    "        # shuffle_df = pd.DataFrame({ch_dict['label']: pd.Series([t[1][ch_dict] for t in chinfo2nch_lst], index=edf_files) for ch_dict in common_set})\n",
    "        \n",
    "        # shdf_mode = shuffle_df.mode()\n",
    "        # row_list = shdf_mode.loc[0, :].values.flatten().tolist()\n",
    "        # df_ne = shuffle_df.ne(row_list)\n",
    "        # df_any = df_ne.any(axis=1)\n",
    "        # print(df_any[df_any==True])\n",
    "        \n",
    "        # df_styler = shuffle_df.style.set_table_attributes(\"style='display:inline'\")\n",
    "        # display_html(df_styler._repr_html_()+'<br>', raw=True)\n",
    "        \n",
    "        label_lst = [ch_dict['label'] for ch_dict in common_set]\n",
    "        edf_shfl_lst = [[t[0], [t[1][ch_dict] for ch_dict in common_set]] for t in chinfo2nch_lst]\n",
    "        output_dict[folder] = [label_lst, edf_shfl_lst]\n",
    "        \n"
   ]
  },
  {
   "cell_type": "code",
   "execution_count": 11,
   "id": "1ead0e97-0b13-4fd5-9cf6-c56caf1b325f",
   "metadata": {},
   "outputs": [],
   "source": [
    "# 手动为Pat12和Pat15加上同名异质的T8-P8通道 Manually add T8-P8 channels with the same label but different info to Pat12 & Pat15\n",
    "pat12 = output_dict[os.path.join(dataset_path, 'chb12')]\n",
    "pat12[0].append('T8-P8')\n",
    "for _, nchs in pat12[1]:\n",
    "    nchs.append(27)\n",
    "\n",
    "pat15 = output_dict[os.path.join(dataset_path, 'chb15')]\n",
    "pat15[0].append('T8-P8')\n",
    "for _, nchs in pat15[1]:\n",
    "    nchs.append(28)"
   ]
  },
  {
   "cell_type": "code",
   "execution_count": null,
   "id": "81917f83-9c9d-4ad6-9043-773fc489caf6",
   "metadata": {},
   "outputs": [],
   "source": [
    "# Debug\n",
    "output_dict[os.path.join(dataset_path, 'chb12')]"
   ]
  },
  {
   "cell_type": "code",
   "execution_count": 13,
   "id": "534359a8-7647-4522-9327-dc96c5772322",
   "metadata": {},
   "outputs": [],
   "source": [
    "import json\n",
    "with open('raw_clean_mapping.json', 'w') as f:\n",
    "    json.dump(output_dict, f)"
   ]
  }
 ],
 "metadata": {
  "kernelspec": {
   "display_name": "Python 3 (ipykernel)",
   "language": "python",
   "name": "python3"
  },
  "language_info": {
   "codemirror_mode": {
    "name": "ipython",
    "version": 3
   },
   "file_extension": ".py",
   "mimetype": "text/x-python",
   "name": "python",
   "nbconvert_exporter": "python",
   "pygments_lexer": "ipython3",
   "version": "3.11.5"
  },
  "vscode": {
   "interpreter": {
    "hash": "21fe21f7cfa7dfcde215a229d53a6a9b9fbb6a71fb2a6674cba330ecd0a0fc85"
   }
  }
 },
 "nbformat": 4,
 "nbformat_minor": 5
}
