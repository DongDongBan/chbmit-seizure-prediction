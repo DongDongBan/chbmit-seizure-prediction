{
 "cells": [
  {
   "cell_type": "code",
   "execution_count": null,
   "metadata": {},
   "outputs": [
    {
     "name": "stdout",
     "output_type": "stream",
     "text": [
      "{'dataset_path': '<path to your chb-mit directory> e.g ./physionet.org/files/chbmit/1.0.0/', 'clean_data_path': '<path to store clean & aligned dataset> e.g ./data_clean', 'label_output_path': '<path to store generated TOML files> e.g ./ref_labels', 'ignore_lst': ['chb16_18.edf', 'chb16_19.edf', 'chb17c_13.edf', 'chb18_01.edf', 'chb19_01.edf', 'chb11_01.edf', 'chb12_27.edf', 'chb12_28.edf', 'chb12_29.edf', 'chb09_01.edf', 'chb15_01.edf']}\n"
     ]
    }
   ],
   "source": [
    "import json\n",
    "with open(\"config.json\", \"rt\") as f:\n",
    "    config_obj = json.load(f)\n",
    "print(config_obj)\n",
    "globals().update(config_obj)"
   ]
  },
  {
   "cell_type": "code",
   "execution_count": null,
   "metadata": {},
   "outputs": [],
   "source": [
    "import os\n",
    "os.chdir('..')"
   ]
  },
  {
   "cell_type": "code",
   "execution_count": null,
   "metadata": {},
   "outputs": [],
   "source": [
    "# TODO Combined with command-line arguments\n",
    "with open(\"global_config.json\", \"rt\") as f:\n",
    "    config_obj = json.load(f)\n",
    "# globals().update(config_obj)\n",
    "dt_fmt = config_obj.datetime_fmt"
   ]
  },
  {
   "cell_type": "code",
   "execution_count": null,
   "metadata": {},
   "outputs": [],
   "source": [
    "from plot.timeline import get_fig_from_obj"
   ]
  },
  {
   "cell_type": "code",
   "execution_count": null,
   "metadata": {},
   "outputs": [],
   "source": [
    "import os\n",
    "import json\n",
    "from datetime import datetime\n",
    "import plotly.offline as pyo\n",
    "\n",
    "plot_args_path = timeline_info_path\n",
    "if \"plotly_fig_path\" not in globals(): # TODO 需要回顾一下名称查找规则\n",
    "    plotly_fig_path = \"timeline\"\n",
    "    os.makedirs(plotly_fig_path, exist_ok=True)\n",
    "\n",
    "for fe in os.scandir(plot_args_path):\n",
    "    with open(fe.path, \"rt\") as f:\n",
    "        info_obj = json.load(f)\n",
    "\n",
    "    fig = get_fig_from_obj(title=fe.name, info_obj=info_obj)\n",
    "\n",
    "    pyo.plot(fig, filename=os.path.join(plotly_fig_path, fe.name[-4]+\".html\"), # include_plotlyjs=\"./plotly.min.js\", \n",
    "                auto_open=False, image='svg', image_width=2560, image_height=1440)\n",
    "    # fig.show()"
   ]
  }
 ],
 "metadata": {
  "language_info": {
   "name": "python"
  },
  "orig_nbformat": 4
 },
 "nbformat": 4,
 "nbformat_minor": 2
}
